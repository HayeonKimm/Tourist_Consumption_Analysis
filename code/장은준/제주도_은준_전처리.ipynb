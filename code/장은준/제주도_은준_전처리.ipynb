{
 "cells": [
  {
   "cell_type": "code",
   "execution_count": 1,
   "id": "d20dd331",
   "metadata": {},
   "outputs": [],
   "source": [
    "import pandas as pd\n",
    "import numpy as np\n",
    "import seaborn as sns\n",
    "import matplotlib.pyplot as plt"
   ]
  },
  {
   "cell_type": "markdown",
   "id": "91922dab",
   "metadata": {},
   "source": [
    "# 0. 데이터 불러오기"
   ]
  },
  {
   "cell_type": "code",
   "execution_count": 2,
   "id": "f48026bc",
   "metadata": {},
   "outputs": [],
   "source": [
    "df5 = pd.read_csv('C:\\\\study\\\\workspace_python\\pdsample\\\\3_상권분석을 위한 유동인구에 따른 카드 매출액 변화 데이터 활용.csv',encoding = 'cp949')"
   ]
  },
  {
   "cell_type": "code",
   "execution_count": 3,
   "id": "9dc05bd3",
   "metadata": {},
   "outputs": [],
   "source": [
    "df5.drop('데이터기준일자', axis = 1, inplace = True)"
   ]
  },
  {
   "cell_type": "markdown",
   "id": "8dfb4e62",
   "metadata": {},
   "source": [
    "결측치가 없기 때문에 바로 피처 엔지니어링 해도 된다고 판단.  "
   ]
  },
  {
   "cell_type": "markdown",
   "id": "a7b08ec6",
   "metadata": {},
   "source": [
    "# 1. 데이터 전처리"
   ]
  },
  {
   "cell_type": "markdown",
   "id": "89c48485",
   "metadata": {},
   "source": [
    "|칼럼명|칼럼내용|\n",
    "|--------|-------------|\n",
    "|년월|각 행의 정보의 시점을 알려줌|\n",
    "|시도명|제주도 행정구역 중 시에 관한 정보|\n",
    "|읍면동명|제주도 행정구역 중 읍면동에 관한 정보|\n",
    "|업종명|업종 소분류|\n",
    "|성별|소비자 성별|\n",
    "|이용금액|총 구매금액|\n",
    "|거주인구|제주도 특정 행정구역의 인구수 |\n",
    "|근무인구|특정 시기의 특정 구역의 근무인구 수|\n",
    "|방문인구|특정 시기의 특정 구역의 근무인구 수|\n",
    "|데이터기준일자|데이터 등록 일자|\n"
   ]
  },
  {
   "cell_type": "markdown",
   "id": "d1d792e2",
   "metadata": {},
   "source": [
    "## 1.1 피처 엔지니어링"
   ]
  },
  {
   "cell_type": "markdown",
   "id": "57809d6d",
   "metadata": {},
   "source": [
    "### 1.1.1 년,월 column 생성"
   ]
  },
  {
   "cell_type": "code",
   "execution_count": 4,
   "id": "afa0dc75",
   "metadata": {},
   "outputs": [],
   "source": [
    "year = []\n",
    "for i in df5['년월'].str.split('-'):\n",
    "    year.append(i[0])\n",
    "    "
   ]
  },
  {
   "cell_type": "code",
   "execution_count": 5,
   "id": "0ea47807",
   "metadata": {},
   "outputs": [],
   "source": [
    "month = []\n",
    "for i in df5['년월'].str.split('-'):\n",
    "    month.append(i[1])\n",
    "    \n",
    "df5['연도'] = year\n",
    "df5['월'] = month"
   ]
  },
  {
   "cell_type": "code",
   "execution_count": 6,
   "id": "738b9ee7",
   "metadata": {},
   "outputs": [],
   "source": [
    "#연도와 월에 관한 정보를 추출했으니 년월 칼럼은 필요 없다고 생각하여 삭제\n",
    "\n",
    "df5.drop('년월', axis  = 1, inplace = True)\n",
    "\n",
    "#연도와 월 칼럼은 추출 원리상 문자형이기 때문에 다시 숫자형으로 변환\n",
    "\n",
    "df5['월'] = df5['월'].astype(int)\n",
    "df5['연도'] = df5['연도'].astype(int)"
   ]
  },
  {
   "cell_type": "markdown",
   "id": "281aa6d9",
   "metadata": {},
   "source": [
    "### 1.1.2 계절 column 생성"
   ]
  },
  {
   "cell_type": "markdown",
   "id": "214418bf",
   "metadata": {},
   "source": [
    "> 아이디어  :\n",
    "> 계절별로 업종명별 이용금액을 파악하여, 계절에 따른 인기 품목을 알 수 있겠다 생각했다."
   ]
  },
  {
   "cell_type": "code",
   "execution_count": 7,
   "id": "67f42540",
   "metadata": {},
   "outputs": [],
   "source": [
    "df_cd = df5.copy()"
   ]
  },
  {
   "cell_type": "code",
   "execution_count": 8,
   "id": "920ae51d",
   "metadata": {},
   "outputs": [],
   "source": [
    "df_cd['계절'] = 0"
   ]
  },
  {
   "cell_type": "code",
   "execution_count": null,
   "id": "92fd1274",
   "metadata": {},
   "outputs": [
    {
     "name": "stderr",
     "output_type": "stream",
     "text": [
      "<ipython-input-9-f811cf542b22>:17: SettingWithCopyWarning: \n",
      "A value is trying to be set on a copy of a slice from a DataFrame\n",
      "\n",
      "See the caveats in the documentation: https://pandas.pydata.org/pandas-docs/stable/user_guide/indexing.html#returning-a-view-versus-a-copy\n",
      "  df_cd['계절'][i] = '겨울'\n",
      "C:\\ca_da\\anaconda\\lib\\site-packages\\pandas\\core\\indexing.py:1637: SettingWithCopyWarning: \n",
      "A value is trying to be set on a copy of a slice from a DataFrame\n",
      "\n",
      "See the caveats in the documentation: https://pandas.pydata.org/pandas-docs/stable/user_guide/indexing.html#returning-a-view-versus-a-copy\n",
      "  self._setitem_single_block(indexer, value, name)\n",
      "<ipython-input-9-f811cf542b22>:11: SettingWithCopyWarning: \n",
      "A value is trying to be set on a copy of a slice from a DataFrame\n",
      "\n",
      "See the caveats in the documentation: https://pandas.pydata.org/pandas-docs/stable/user_guide/indexing.html#returning-a-view-versus-a-copy\n",
      "  df_cd['계절'][i] = '봄'\n",
      "<ipython-input-9-f811cf542b22>:13: SettingWithCopyWarning: \n",
      "A value is trying to be set on a copy of a slice from a DataFrame\n",
      "\n",
      "See the caveats in the documentation: https://pandas.pydata.org/pandas-docs/stable/user_guide/indexing.html#returning-a-view-versus-a-copy\n",
      "  df_cd['계절'][i] = '여름'\n",
      "<ipython-input-9-f811cf542b22>:15: SettingWithCopyWarning: \n",
      "A value is trying to be set on a copy of a slice from a DataFrame\n",
      "\n",
      "See the caveats in the documentation: https://pandas.pydata.org/pandas-docs/stable/user_guide/indexing.html#returning-a-view-versus-a-copy\n",
      "  df_cd['계절'][i] = '가을'\n"
     ]
    }
   ],
   "source": [
    "#오류가 생성이 되는데 어떻게 하면 없앨 수 있을지 모르겠네여...\n",
    "\n",
    "\n",
    "spring = [3,4,5]\n",
    "summer = [6,7,8]\n",
    "fall = [9,10,11]\n",
    "winter = [12,1,2]\n",
    "\n",
    "s= df_cd['월']\n",
    "weather_vals = []\n",
    "\n",
    "for i in range(len(df_cd['계절'])):\n",
    "    weather = s.iloc[i]\n",
    "    if weather in spring:\n",
    "        weather_vals.append('봄')\n",
    "    elif weather in summer:\n",
    "        weather_vals.append('여름')\n",
    "    elif weather in fall:\n",
    "        weather_vals.append('가을')\n",
    "    elif weather in winter:\n",
    "        weather_vals.append('겨울')\n",
    "        \n",
    "df_cd['계절'] = weather_vals\n"
   ]
  },
  {
   "cell_type": "markdown",
   "id": "f1321e43",
   "metadata": {},
   "source": [
    "### 1.1.3 업종명 대분류 column 생성"
   ]
  },
  {
   "cell_type": "markdown",
   "id": "52faaf4b",
   "metadata": {},
   "source": [
    ">아이디어 : 소매업, 음식점업, 입대업 등등으로 크게 분류해서 대분류명별 구매금액을 나타낼 수 있다.  \n",
    ">그리고 음식점업 중에서 한식, 중식, 일식 소분류로 나누어 각 분류별 구매금액도 나타낼 수 있다고 생각"
   ]
  },
  {
   "cell_type": "markdown",
   "id": "ac1dee17",
   "metadata": {},
   "source": [
    "- 대분류를 총 7 개로 나눌 예정\n",
    "    - 소매업\n",
    "    - 음식점\n",
    "    - 주류점 (주류 소비와 음식 소비 분석을 나누고 싶었음)\n",
    "    - 운송업\n",
    "    - 숙박업\n",
    "    - 기타"
   ]
  },
  {
   "cell_type": "code",
   "execution_count": null,
   "id": "524b080e",
   "metadata": {},
   "outputs": [],
   "source": [
    "#소분류를 참조하여 대분류 리스트를 생성\n",
    "\n",
    "retail = ['건강보조식품 소매업','슈퍼마켓','수산물 소매업','빵 및 과자류 소매업', '기타음식료품위주종합소매업',\n",
    "         '그외 기타 종합 소매업','과실 및 채소 소매업','육류 소매업','화장품 및 방향제 소매업','기타 대형 종합 소매업',\n",
    "         '관광 민예품 및 선물용품 소매업','체인화 편의점','면세점']\n",
    "\n",
    "food_store = ['서양식 음식점업', '기타 외국식 음식점업','중식 음식점업','일식 음식점업',\n",
    "              '한식 음식점업','피자, 햄버거, 샌드위치 및 유사 음식점업']\n",
    "\n",
    "drink = ['비알콜 음료점업','기타 주점업','일반유흥 주점업']\n",
    "\n",
    "vehicle = ['택시 운송업','버스 운송업','정기 항공 운송업','내항 여객 운송업','자동차 임대업']\n",
    "\n",
    "service = ['그외 기타 분류안된 오락관련 서비스업','기타 수상오락 서비스업']\n",
    "\n",
    "rooms = ['휴양콘도 운영업', '여관업','호텔업']\n",
    "\n",
    "others = [ '스포츠 및 레크레이션 용품 임대업','골프장 운영업', '전시 및 행사 대행업', '차량용 가스 충전업',\n",
    "          '차량용 주유소 운영업','욕탕업',  '그외 기타 스포츠시설 운영업','여행사업', '마사지업','기타 갬블링 및 베팅업']\n",
    "\n",
    "\n"
   ]
  },
  {
   "cell_type": "code",
   "execution_count": null,
   "id": "cfc4b231",
   "metadata": {},
   "outputs": [],
   "source": [
    "#시리즈에 넣을 데이터를 만들기 위해서 리스트 안에 조건부 정보를 집어 넣기.\n",
    "\n",
    "job_type = []\n",
    "for i in range(len(df_cd['업종명'])):\n",
    "    if df_cd['업종명'][i] in retail:\n",
    "        job_type.append('소매업')\n",
    "    elif df_cd['업종명'][i] in food_store:\n",
    "        job_type.append('음식점')\n",
    "    elif df_cd['업종명'][i] in vehicle:\n",
    "        job_type.append('운송업')\n",
    "    elif df_cd['업종명'][i] in drink:\n",
    "        job_type.append('주류')\n",
    "    elif df_cd['업종명'][i] in service:\n",
    "        job_type.append('서비스업')\n",
    "    elif df_cd['업종명'][i] in rooms:\n",
    "        job_type.append('숙박업')\n",
    "    else :\n",
    "        \n",
    "        job_type.append('기타')\n",
    "        \n",
    "        \n",
    "#업종 대분류 칼럼을 생성\n",
    "\n",
    "job_type_series = pd.Series(data = job_type)\n",
    "job_type_series\n",
    "df_cd['업종 대분류'] = job_type_series\n"
   ]
  },
  {
   "cell_type": "markdown",
   "id": "0cf739e5",
   "metadata": {},
   "source": [
    "# 2. 탐색적 데이터 분석"
   ]
  },
  {
   "cell_type": "markdown",
   "id": "3ac7d8bf",
   "metadata": {},
   "source": [
    "## 2.1 각 칼럼별 데이터 type 확인"
   ]
  },
  {
   "cell_type": "markdown",
   "id": "9dff3ca1",
   "metadata": {},
   "source": [
    "> 각 칼럼별 데이터 유형을 확인해서 어떤 탐색 기법을 사용할지 판단"
   ]
  },
  {
   "cell_type": "markdown",
   "id": "e75f6d8d",
   "metadata": {},
   "source": [
    "|범주형 데이터||구간 데이터|\n",
    "|----------|----------|----------|\n",
    "|시도명|  |이용금액|\n",
    "|읍면동명|  |거주인구|\n",
    "|업종명|  |근무인구|\n",
    "|성별|  |방문인구|\n",
    "|계절|  | |\n",
    "|업종 대분류|  | |\n",
    "|연도|  | |\n",
    "|월|  | |"
   ]
  },
  {
   "cell_type": "markdown",
   "id": "24ce9a0d",
   "metadata": {},
   "source": [
    "## 2.2 각 칼럼별 수치와 그래프 "
   ]
  },
  {
   "cell_type": "markdown",
   "id": "7548b342",
   "metadata": {},
   "source": [
    "범주형 데이터만 가져와서 데이터 프레임 살펴보기"
   ]
  },
  {
   "cell_type": "markdown",
   "id": "12bbc533",
   "metadata": {},
   "source": [
    "### 2.2.1 범주형 데이터"
   ]
  },
  {
   "cell_type": "code",
   "execution_count": null,
   "id": "59eeed8b",
   "metadata": {},
   "outputs": [],
   "source": [
    "import pandas as pd\n",
    "import numpy as np\n",
    "import matplotlib as mp\n",
    "import matplotlib.pyplot as plt\n",
    "import seaborn as sns"
   ]
  },
  {
   "cell_type": "markdown",
   "id": "1fd65610",
   "metadata": {},
   "source": [
    "##### 시도명"
   ]
  },
  {
   "cell_type": "code",
   "execution_count": null,
   "id": "eebac58a",
   "metadata": {},
   "outputs": [],
   "source": [
    "#1 - 시도명\n",
    "#두 유형의 데이터를 가짐\n",
    "\n",
    "count = df_cd['시도명'].value_counts()\n",
    "fm = mp.font_manager.FontManager()\n",
    "plt.rcParams['font.family'] = 'Malgun Gothic'\n",
    "\n",
    "plt.figure(figsize=(6,3))\n",
    "count.plot(kind = 'bar')\n",
    "plt.figure(figsize=(6,3))\n",
    "count.plot(kind = 'pie', legend = True, autopct = '%.2f%%')\n",
    "plt.savefig('탐색적_시도명')\n"
   ]
  },
  {
   "cell_type": "markdown",
   "id": "a7c44248",
   "metadata": {},
   "source": [
    "제주시가 59.76% 로 40.24 서귀포시 보다 더 많은 행을 가지고 있음.  \n",
    "즉, 제주시에서 소비한 건수가 더 많다고 할 수 있다.  "
   ]
  },
  {
   "cell_type": "markdown",
   "id": "9e7ea145",
   "metadata": {},
   "source": [
    "##### 읍면동명"
   ]
  },
  {
   "cell_type": "code",
   "execution_count": null,
   "id": "b17f60d4",
   "metadata": {},
   "outputs": [],
   "source": [
    "count2 = df_cd['읍면동명'].value_counts()\n",
    "plt.figure(figsize = (10,5))\n",
    "count2.plot(kind = 'bar')\n",
    "plt.savefig('탐색적_읍면동명')"
   ]
  },
  {
   "cell_type": "markdown",
   "id": "14b9e232",
   "metadata": {},
   "source": [
    "노형동이 가장 많은 비율을 가지고 있다.  \n",
    "근데 다른 csv 파일에는 1동, 2동으로 나뉘어져 있지 않고 합쳐져 있기 때문에 맞추기 위해서 합치려고 한다  "
   ]
  },
  {
   "cell_type": "markdown",
   "id": "20ae0f65",
   "metadata": {},
   "source": [
    "> 잠깐 여기서 다시 전처리"
   ]
  },
  {
   "cell_type": "markdown",
   "id": "8afdd1fb",
   "metadata": {},
   "source": [
    "##### 성별"
   ]
  },
  {
   "cell_type": "code",
   "execution_count": null,
   "id": "045e6bbd",
   "metadata": {},
   "outputs": [],
   "source": [
    "count4 = df_cd['성별'].value_counts()\n",
    "plt.figure(figsize = (6,3))\n",
    "count4.plot(kind = 'bar')\n",
    "plt.figure(figsize = (6,3))\n",
    "count4.plot(kind = 'pie', autopct = '%.1f%%', legend = True)\n",
    "plt.savefig('탐색적_성별')"
   ]
  },
  {
   "cell_type": "markdown",
   "id": "13a23320",
   "metadata": {},
   "source": [
    "상대도수는 별반 차이가 나지 않음을 확인, 거의 50 : 50"
   ]
  },
  {
   "cell_type": "markdown",
   "id": "1ea73489",
   "metadata": {},
   "source": [
    "##### 계절"
   ]
  },
  {
   "cell_type": "code",
   "execution_count": null,
   "id": "9c38f2c8",
   "metadata": {},
   "outputs": [],
   "source": [
    "count5 = df_cd['계절'].value_counts()\n",
    "plt.figure(figsize = (6,3))\n",
    "count5.plot(kind = 'bar')\n",
    "plt.savefig('탐색적_계절')"
   ]
  },
  {
   "cell_type": "markdown",
   "id": "a02ea74b",
   "metadata": {},
   "source": [
    "봄 여름 가을 겨울 상대도수 차이가 나긴 하지만 거의 차이가 나지 않는 것으로 판별"
   ]
  },
  {
   "cell_type": "markdown",
   "id": "8d366e35",
   "metadata": {},
   "source": [
    "##### 업종 대분류"
   ]
  },
  {
   "cell_type": "code",
   "execution_count": null,
   "id": "81b5a347",
   "metadata": {},
   "outputs": [],
   "source": [
    "#소매업, 주류, 숙박업, 기타, 음식점, 운송업, 서비스업\n",
    "df_cd['업종 대분류'].unique()"
   ]
  },
  {
   "cell_type": "code",
   "execution_count": null,
   "id": "7a47e2bb",
   "metadata": {},
   "outputs": [],
   "source": [
    "count6 = df_cd['업종 대분류'].value_counts()\n",
    "plt.figure(figsize = (6,3))\n",
    "count6.plot(kind = 'bar')\n",
    "plt.figure(figsize = (10,5))\n",
    "count6.plot(kind = 'pie', autopct = '%.1f%%')\n",
    "plt.savefig('탐색적_업종대분류')"
   ]
  },
  {
   "cell_type": "markdown",
   "id": "569f688e",
   "metadata": {},
   "source": [
    "소매업이 가장 많은 도수를 기록했고 그 다음이 음식점  \n",
    "제일 낮은 업종은 서비스업."
   ]
  },
  {
   "cell_type": "markdown",
   "id": "81d62340",
   "metadata": {},
   "source": [
    "##### 연도"
   ]
  },
  {
   "cell_type": "code",
   "execution_count": null,
   "id": "fd61d830",
   "metadata": {},
   "outputs": [],
   "source": [
    "count7 = df_cd['연도'].value_counts()\n",
    "plt.figure(figsize = (6,3))\n",
    "count7.plot(kind = 'bar')\n",
    "plt.savefig('탐색적_연도')"
   ]
  },
  {
   "cell_type": "markdown",
   "id": "5f0d4144",
   "metadata": {},
   "source": [
    "2019 > 2018 > 2017 > 2020 순으로 도수를 기록  \n",
    "그러나 2018과 2019 그리고 2017은 얼마 차이가 나지 않음  "
   ]
  },
  {
   "cell_type": "markdown",
   "id": "c9b41b94",
   "metadata": {},
   "source": [
    "##### 월"
   ]
  },
  {
   "cell_type": "code",
   "execution_count": null,
   "id": "625d1fd4",
   "metadata": {},
   "outputs": [],
   "source": [
    "count8 = df_cd['월'].value_counts()\n",
    "plt.figure(figsize = (6,3))\n",
    "count8.plot(kind = 'bar')\n",
    "plt.savefig('탐색적_월')"
   ]
  },
  {
   "cell_type": "markdown",
   "id": "3c241181",
   "metadata": {},
   "source": [
    "### 2.2.2 구간 데이터"
   ]
  },
  {
   "cell_type": "code",
   "execution_count": null,
   "id": "f7a7878f",
   "metadata": {},
   "outputs": [],
   "source": [
    "#이용금액, 거주인구, 근무인구,방문인구 살펴볼 예정\n",
    "#따로 데이터 프레임을 만든 후에 통계적 수치 확인할 예정\n",
    "\n",
    "df_test = df_cd[['이용금액','거주인구','근무인구','방문인구']]\n",
    "df_test.describe()"
   ]
  },
  {
   "cell_type": "markdown",
   "id": "9cfe72f1",
   "metadata": {},
   "source": [
    "| |이용금액|거주인구|방문인구|\n",
    "|-----|-----|-----|-----|\n",
    "|평균|60933010.0 |4613725.0 | 2864406.0|\n",
    "|표준편차|18645990.0 |4603426.0 |2127175.0 |\n",
    "|최솟값|10.0 |185817.6 |177058.1|\n",
    "|최댓값|5092990000.0 |20211190.0 |10151290.0 |"
   ]
  },
  {
   "cell_type": "markdown",
   "id": "678cd4d7",
   "metadata": {},
   "source": [
    "수치가 나타나긴 했지만 아직 이 수치가 정확한지 파악이 되지 않음.  \n",
    "그리고 이 수치가 어떤 정보를 주는지 파악이 잘 안됨.  \n",
    "따라서 그래프로 각각의 칼럼들을 그려보려고 함\n",
    "\n",
    "히스토그램을 통해서 각각의 구간데이터의 분포를 살펴보려고 함  \n",
    "그리고 boxplot 으로 상대 위치별 분포를 확인해보려고 함.  "
   ]
  },
  {
   "cell_type": "markdown",
   "id": "5dc4f765",
   "metadata": {},
   "source": [
    "##### 이용금액"
   ]
  },
  {
   "cell_type": "code",
   "execution_count": null,
   "id": "f3e44fbf",
   "metadata": {},
   "outputs": [],
   "source": [
    "#히스토그램 파악하기\n",
    "df_cd['이용금액'].plot(kind = 'hist')"
   ]
  },
  {
   "cell_type": "markdown",
   "id": "c55e0a55",
   "metadata": {},
   "source": [
    ">아이디어 : 이용금액 분포가 잘 나타나지 않음, 몇 개의 이상치 때문에 분포가 잘 나타나지 않는 것 같음  \n",
    "> 따라서 온전한 분포를 보기 위해 잠시만 이상치를 제거해서 살펴보려고 함  \n",
    "> 이상치 데이터들은 다시 되돌려 놓을 예정"
   ]
  },
  {
   "cell_type": "code",
   "execution_count": null,
   "id": "881d7dfa",
   "metadata": {},
   "outputs": [],
   "source": [
    "#박스플롯 확인하기\n",
    "\n",
    "plt.figure(figsize=(6,3))\n",
    "plt.boxplot(df_cd['이용금액'])"
   ]
  },
  {
   "cell_type": "markdown",
   "id": "1e33856c",
   "metadata": {},
   "source": [
    "이상치가 엄청나게 많은 것을 확인할 수 있음. 이 때문에 분포를 제대로 파악하지 못함"
   ]
  },
  {
   "cell_type": "markdown",
   "id": "7c56d4bc",
   "metadata": {},
   "source": [
    "> 잠깐 여기서 전처리"
   ]
  },
  {
   "cell_type": "code",
   "execution_count": null,
   "id": "56550f95",
   "metadata": {},
   "outputs": [],
   "source": [
    "#이상치 제거하는 전처리 함수 생성\n",
    "\n",
    "import numpy as np\n",
    "\n",
    "def find_outlier_index(col_name):\n",
    "    q1, q3 = np.percentile(df_cd[col_name], [25,75])          #1지점과 3지점을 파악\n",
    "    iqr = q3 - q1                                             # 1 ~ 3 지역인 iqr 지역 파악\n",
    "    lower_bound = q1 - (iqr * 1.5)                            #iqr 의 1.5배한 것을 1지역에서 뺀다 -> lower_bound 찾기 위해\n",
    "    upper_bound = q3 + (iqr * 1.5)                            #iqr 의 1.5배한 것을 3지역에서 더한다 -> upper_bound를 찾기 위해\n",
    "    \n",
    "    index = np.where((df_cd[col_name] > upper_bound) | (df_cd[col_name] < lower_bound)) #lower,upper 범위 넘어선게 outlier, index추출\n",
    "    return index\n",
    "    \n"
   ]
  },
  {
   "cell_type": "code",
   "execution_count": null,
   "id": "db3c3853",
   "metadata": {},
   "outputs": [],
   "source": [
    "#튜플 형태로 index 반환, 0번째에 index, 1번째에 dtype\n",
    "find_outlier_index('이용금액')\n",
    "\n",
    "#각 구간데이터 모두 이상치를 확인해보니 굉장히 많았음 그래서 각 구간데이터의 분포가 잘 나타나지 않음\n",
    "\n",
    "usage_amount_outiler_index = find_outlier_index('이용금액')[0]\n",
    "resi_pop_outlier_index = find_outlier_index('거주인구')[0]\n",
    "work_pop_outlier_index = find_outlier_index('근무인구')[0]\n",
    "visit_pop_outlier_index = find_outlier_index('방문인구')[0]"
   ]
  },
  {
   "cell_type": "code",
   "execution_count": null,
   "id": "2c9ffe6f",
   "metadata": {},
   "outputs": [],
   "source": [
    "#각 구간데이터 outlier index 를 합치기\n",
    "outlier_index = np.concatenate((usage_amount_outiler_index,\n",
    "                resi_pop_outlier_index,\n",
    "                work_pop_outlier_index,\n",
    "                visit_pop_outlier_index                \n",
    "               ), axis = None)"
   ]
  },
  {
   "cell_type": "code",
   "execution_count": null,
   "id": "ef5db125",
   "metadata": {},
   "outputs": [],
   "source": [
    "#outlier index 아닌 index 만 리스트에 보관\n",
    "non_outlier_index = []\n",
    "for i in df_cd.index:\n",
    "    if i not in outlier_index:\n",
    "        non_outlier_index.append(i)\n"
   ]
  },
  {
   "cell_type": "code",
   "execution_count": null,
   "id": "f7cb0b6f",
   "metadata": {},
   "outputs": [],
   "source": [
    "#df_cd_outlier 데이터 프레임을 따로 만들고 이걸로 구간데이터 시각화 작업\n",
    "df_cd_outlier = df_cd.loc[non_outlier_index]"
   ]
  },
  {
   "cell_type": "markdown",
   "id": "4deeaef5",
   "metadata": {},
   "source": [
    "> 잠깐 전처리 종료"
   ]
  },
  {
   "cell_type": "code",
   "execution_count": null,
   "id": "07fdaf4a",
   "metadata": {},
   "outputs": [],
   "source": [
    "def print_graph(col_name):\n",
    "    plt.figure(figsize = (6,3))                       #이용금액 히스토그램\n",
    "    df_cd_outlier[col_name].plot(kind = 'hist')\n",
    "\n",
    "\n",
    "    plt.figure(figsize = (6,3))                       #분포모양 만들기\n",
    "    sns.distplot(df_cd_outlier[col_name])\n",
    "\n",
    "    plt.figure(figsize = (6,3))                       #이용금액 boxplot 그리기 \n",
    "    plt.boxplot(df_cd_outlier[col_name])"
   ]
  },
  {
   "cell_type": "code",
   "execution_count": null,
   "id": "a11d0cf2",
   "metadata": {},
   "outputs": [],
   "source": [
    "print_graph('이용금액')\n",
    "plt.savefig('탐색적_이용금액')"
   ]
  },
  {
   "cell_type": "markdown",
   "id": "2064394f",
   "metadata": {},
   "source": [
    "이용금액에 관련하여 이상치 전처리를 한 이후에 분포모양을 살펴봤다.  \n",
    "최댓값은 6000만원 정도  \n",
    "최솟값은 0원에 가까운 정도  \n"
   ]
  },
  {
   "cell_type": "markdown",
   "id": "59a62a13",
   "metadata": {},
   "source": [
    "##### 거주인구"
   ]
  },
  {
   "cell_type": "code",
   "execution_count": null,
   "id": "21e26ab6",
   "metadata": {},
   "outputs": [],
   "source": [
    "plt.figure(figsize = (10,5))                       #거주인구 히스토그램(전처리 전)\n",
    "df_cd['거주인구'].plot(kind = 'hist')\n",
    "plt.savefig('탐색적_거주인구')"
   ]
  },
  {
   "cell_type": "code",
   "execution_count": null,
   "id": "2c11123f",
   "metadata": {},
   "outputs": [],
   "source": [
    "print_graph('거주인구')                     #이상치 제거 후의 분포도를 살펴보기"
   ]
  },
  {
   "cell_type": "markdown",
   "id": "24ce8a5a",
   "metadata": {},
   "source": [
    "##### 근무인구"
   ]
  },
  {
   "cell_type": "code",
   "execution_count": null,
   "id": "c7493953",
   "metadata": {},
   "outputs": [],
   "source": [
    "plt.figure(figsize = (10,5))                       #근무인구 히스토그램(전처리 전)\n",
    "df_cd['근무인구'].plot(kind = 'hist')"
   ]
  },
  {
   "cell_type": "code",
   "execution_count": null,
   "id": "47045474",
   "metadata": {},
   "outputs": [],
   "source": [
    "print_graph('근무인구')                    #이상치 제거 후의 분포도를 살펴보기\n",
    "plt.savefig('탐색적_근무인구')"
   ]
  },
  {
   "cell_type": "markdown",
   "id": "a4ae15a4",
   "metadata": {},
   "source": [
    "##### 방문인구"
   ]
  },
  {
   "cell_type": "code",
   "execution_count": null,
   "id": "04cd180e",
   "metadata": {},
   "outputs": [],
   "source": [
    "plt.figure(figsize = (6,3))                       #방문인구 히스토그램(전처리 전)\n",
    "df_cd['방문인구'].plot(kind = 'hist')"
   ]
  },
  {
   "cell_type": "code",
   "execution_count": null,
   "id": "6d0f7466",
   "metadata": {},
   "outputs": [],
   "source": [
    "print_graph('방문인구')                     #이상치 제거 후의 분포도를 살펴보기\n",
    "plt.savefig('탐색적_방문인구')"
   ]
  },
  {
   "cell_type": "markdown",
   "id": "2bedf826",
   "metadata": {},
   "source": [
    "\n",
    ">분석할 것들  \n",
    "\n",
    "1. 계절별 매출액이 가장 많은 업종  \n",
    "=> 계절마다 강점인 업종을 찾을 수 있을거라 기대됨  \n",
    "\n",
    "2. 음식점 총 매출액에서 한식, 양식, 중식의 매출액 비교  \n",
    "=>제주도에서 어떤 음식점이 강세인지 파악 가능하다.  \n",
    "\n",
    "3. 시별 총 매출액  \n",
    "=> 어떤 시에서 매출액이 많이 나오는지 파악하기  \n",
    "=> 어떤 시가 매출액이 많이 나오는지 파악이 되면 왜 많이 나오는지 파악  \n",
    "\tㄴ> 이때 유동인구 기반해서 파악해보기 (ex.거주인구 너 때문? 근무인구 너 때문? 방문인구 너야?)  \n",
    "=> 그 시는 어떤 업종이 매출액에 많은 기여를 했는지  \n",
    " \n",
    "\n",
    "4. 읍면동명별 매출액  \n",
    "=> 어떤 읍면동에서 매출액이 많이 나오는지 파악하고 싶을 때  \n",
    "=> 어떤 읍면동이 매출액이 많이 나오는지 파악이 되면 왜 매출액이 많이 나올까 파악  \n",
    "\tㄴ> 마찬가지로 유동인구 기반해서 파악해보기(유동인구 때문에 매출액이 많이 나올까?)  \n",
    "\t\t(가설 : 매출액이 많으면 유동인구가 많다)  \n",
    "=> 그 읍면동에서 어떤 업종이 매출액에 많은 기여를 했는지  \n",
    "\n",
    "5. 성별 매출액  \n",
    "=> 어떤 성의 매출액이 더 강세인지 (특정 성별 타겟 정하기)  \n",
    "\n",
    "6. 매출액이 가장 큰 업종 대분류 中, 가장 큰 비율을 차지하는 소업종  \n",
    "\n",
    "\n",
    "7. 어떤 달이 매출이 가장 큰지 파악하기  \n",
    "=> 왜 그 달에 매출이 가장 큰지 유추해보기  \n",
    "=> 데이터로는 알아볼 수 없지만, 연휴인지 휴가철인지 파악할 수 있을듯.  \n",
    "\n",
    "8. 유동인구(방문인구)가 가장 많은 시 or 읍 찾아보기  \n",
    "\t(가설 : 유동인구가 많으면 매출액이 많다)  \n",
    "=> 유동인구가 많은 곳이 매출액이 많은지 적은지 파악  \n",
    "=> IF 유동인구가 많은 곳이 매출액이 많다면 -> 1. 유동인구의 성별 파악 2. 어떤 업종이 많은지 파악  \n",
    "\n",
    ". "
   ]
  },
  {
   "cell_type": "markdown",
   "id": "ab379e14",
   "metadata": {},
   "source": [
    "### 최종"
   ]
  },
  {
   "cell_type": "code",
   "execution_count": null,
   "id": "7441235c",
   "metadata": {},
   "outputs": [],
   "source": [
    "df_cd.to_csv('상권분석을 위한 유동인구에 따른 카드 매출액 변화 데이터 활용2.csv', index = False)"
   ]
  },
  {
   "cell_type": "code",
   "execution_count": null,
   "id": "2049e637",
   "metadata": {},
   "outputs": [],
   "source": []
  },
  {
   "cell_type": "code",
   "execution_count": null,
   "id": "be139d9a",
   "metadata": {},
   "outputs": [],
   "source": []
  },
  {
   "cell_type": "code",
   "execution_count": null,
   "id": "bea07438",
   "metadata": {},
   "outputs": [],
   "source": []
  },
  {
   "cell_type": "code",
   "execution_count": null,
   "id": "a89e5651",
   "metadata": {},
   "outputs": [],
   "source": []
  },
  {
   "cell_type": "code",
   "execution_count": null,
   "id": "55fc95ac",
   "metadata": {},
   "outputs": [],
   "source": []
  }
 ],
 "metadata": {
  "kernelspec": {
   "display_name": "Python 3",
   "language": "python",
   "name": "python3"
  },
  "language_info": {
   "codemirror_mode": {
    "name": "ipython",
    "version": 3
   },
   "file_extension": ".py",
   "mimetype": "text/x-python",
   "name": "python",
   "nbconvert_exporter": "python",
   "pygments_lexer": "ipython3",
   "version": "3.8.8"
  }
 },
 "nbformat": 4,
 "nbformat_minor": 5
}
