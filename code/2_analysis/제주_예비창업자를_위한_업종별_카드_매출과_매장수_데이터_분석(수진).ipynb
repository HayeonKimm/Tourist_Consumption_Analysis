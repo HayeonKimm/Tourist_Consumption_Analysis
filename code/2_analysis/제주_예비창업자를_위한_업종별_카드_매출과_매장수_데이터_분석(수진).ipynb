{
 "cells": [
  {
   "cell_type": "markdown",
   "metadata": {},
   "source": [
    "# 제주 예비창업자를 위한 업종별 카드 매출과 매장수 데이터 분석"
   ]
  },
  {
   "cell_type": "code",
   "execution_count": 4,
   "metadata": {},
   "outputs": [
    {
     "name": "stdout",
     "output_type": "stream",
     "text": [
      " C 드라이브의 볼륨에는 이름이 없습니다.\n",
      " 볼륨 일련 번호: 2689-FE44\n",
      "\n",
      " C:\\Users\\수진\\Documents\\multicampus_4\\datasets 디렉터리\n",
      "\n",
      "2021-07-15  오전 08:40    <DIR>          .\n",
      "2021-07-15  오전 08:40    <DIR>          ..\n",
      "2021-07-06  오후 03:03       174,746,926 1_제주 예비창업자를 위한 업종별 카드 매출과 매장수 데이터 활용.csv\n",
      "2021-07-15  오전 08:34         9,314,360 3_상권분석을 위한 유동인구에 따른 카드 매출액 변화 데이터 활용.csv\n",
      "2021-07-08  오후 06:24        89,386,931 5_제주 전기버스 우선도입노선 파악을 위한 데이터(2020.4).csv\n",
      "2021-07-15  오전 08:40       185,569,016 jeju_sujin.csv\n",
      "2021-07-15  오전 08:34         1,086,894 제주특별자치도_개별관광(FIT)_증가에_따른_제주_관광객_소비패턴_변화_분석_BC카드_빅데이터_내국인관광객_20170216.csv\n",
      "2021-07-15  오전 08:34         7,480,630 제주특별자치도_제주도장소(POI)데이터_20151231.csv\n",
      "               6개 파일         467,584,757 바이트\n",
      "               2개 디렉터리  96,148,062,208 바이트 남음\n"
     ]
    }
   ],
   "source": [
    "%ls ..\\..\\datasets\\"
   ]
  },
  {
   "cell_type": "code",
   "execution_count": 5,
   "metadata": {},
   "outputs": [],
   "source": [
    "filepath = '..\\\\..\\\\datasets\\\\jeju_sujin.csv'"
   ]
  },
  {
   "cell_type": "markdown",
   "metadata": {},
   "source": [
    "## 필요 라이브러리 불러오기"
   ]
  },
  {
   "cell_type": "code",
   "execution_count": 13,
   "metadata": {},
   "outputs": [],
   "source": [
    "import pandas as pd\n",
    "import numpy as np\n",
    "import matplotlib.pyplot as plt\n",
    "import seaborn as sns"
   ]
  },
  {
   "cell_type": "code",
   "execution_count": 14,
   "metadata": {},
   "outputs": [],
   "source": [
    "pd.options.display.max_columns = 100"
   ]
  },
  {
   "cell_type": "code",
   "execution_count": 15,
   "metadata": {},
   "outputs": [],
   "source": [
    "plt.rc('font', family='Malgun Gothic')"
   ]
  },
  {
   "cell_type": "markdown",
   "metadata": {},
   "source": [
    "## 데이터 불러오기"
   ]
  },
  {
   "cell_type": "code",
   "execution_count": 16,
   "metadata": {
    "scrolled": true
   },
   "outputs": [
    {
     "data": {
      "text/html": [
       "<div>\n",
       "<style scoped>\n",
       "    .dataframe tbody tr th:only-of-type {\n",
       "        vertical-align: middle;\n",
       "    }\n",
       "\n",
       "    .dataframe tbody tr th {\n",
       "        vertical-align: top;\n",
       "    }\n",
       "\n",
       "    .dataframe thead th {\n",
       "        text-align: right;\n",
       "    }\n",
       "</style>\n",
       "<table border=\"1\" class=\"dataframe\">\n",
       "  <thead>\n",
       "    <tr style=\"text-align: right;\">\n",
       "      <th></th>\n",
       "      <th>연도</th>\n",
       "      <th>월</th>\n",
       "      <th>분기</th>\n",
       "      <th>시도명</th>\n",
       "      <th>지역구분</th>\n",
       "      <th>읍면동명</th>\n",
       "      <th>업종명 대분류</th>\n",
       "      <th>업종명</th>\n",
       "      <th>이용자 구분</th>\n",
       "      <th>관광구분</th>\n",
       "      <th>연령대</th>\n",
       "      <th>성별</th>\n",
       "      <th>이용금액</th>\n",
       "      <th>매장수</th>\n",
       "    </tr>\n",
       "  </thead>\n",
       "  <tbody>\n",
       "    <tr>\n",
       "      <th>0</th>\n",
       "      <td>2017</td>\n",
       "      <td>1</td>\n",
       "      <td>1</td>\n",
       "      <td>서귀포시</td>\n",
       "      <td>도심</td>\n",
       "      <td>강정동</td>\n",
       "      <td>소매업</td>\n",
       "      <td>슈퍼마켓</td>\n",
       "      <td>제주도민</td>\n",
       "      <td>도민</td>\n",
       "      <td>50.0</td>\n",
       "      <td>여성</td>\n",
       "      <td>365160</td>\n",
       "      <td>214</td>\n",
       "    </tr>\n",
       "    <tr>\n",
       "      <th>1</th>\n",
       "      <td>2017</td>\n",
       "      <td>1</td>\n",
       "      <td>1</td>\n",
       "      <td>제주시</td>\n",
       "      <td>도심</td>\n",
       "      <td>삼도일동</td>\n",
       "      <td>숙박업</td>\n",
       "      <td>여관업</td>\n",
       "      <td>제주도민</td>\n",
       "      <td>도민</td>\n",
       "      <td>60.0</td>\n",
       "      <td>여성</td>\n",
       "      <td>40000</td>\n",
       "      <td>1610</td>\n",
       "    </tr>\n",
       "    <tr>\n",
       "      <th>2</th>\n",
       "      <td>2017</td>\n",
       "      <td>1</td>\n",
       "      <td>1</td>\n",
       "      <td>제주시</td>\n",
       "      <td>도심</td>\n",
       "      <td>삼양이동</td>\n",
       "      <td>숙박업</td>\n",
       "      <td>여관업</td>\n",
       "      <td>제주도민</td>\n",
       "      <td>도민</td>\n",
       "      <td>20.0</td>\n",
       "      <td>여성</td>\n",
       "      <td>162000</td>\n",
       "      <td>1610</td>\n",
       "    </tr>\n",
       "    <tr>\n",
       "      <th>3</th>\n",
       "      <td>2017</td>\n",
       "      <td>1</td>\n",
       "      <td>1</td>\n",
       "      <td>제주시</td>\n",
       "      <td>도심</td>\n",
       "      <td>삼양이동</td>\n",
       "      <td>숙박업</td>\n",
       "      <td>여관업</td>\n",
       "      <td>제주도민</td>\n",
       "      <td>도민</td>\n",
       "      <td>50.0</td>\n",
       "      <td>남성</td>\n",
       "      <td>70000</td>\n",
       "      <td>1610</td>\n",
       "    </tr>\n",
       "    <tr>\n",
       "      <th>4</th>\n",
       "      <td>2017</td>\n",
       "      <td>1</td>\n",
       "      <td>1</td>\n",
       "      <td>제주시</td>\n",
       "      <td>도심</td>\n",
       "      <td>삼도이동</td>\n",
       "      <td>숙박업</td>\n",
       "      <td>여관업</td>\n",
       "      <td>내국인</td>\n",
       "      <td>개별</td>\n",
       "      <td>40.0</td>\n",
       "      <td>남성</td>\n",
       "      <td>3150460</td>\n",
       "      <td>1610</td>\n",
       "    </tr>\n",
       "  </tbody>\n",
       "</table>\n",
       "</div>"
      ],
      "text/plain": [
       "     연도  월  분기   시도명 지역구분  읍면동명 업종명 대분류   업종명 이용자 구분 관광구분   연령대  성별     이용금액  \\\n",
       "0  2017  1   1  서귀포시   도심   강정동     소매업  슈퍼마켓   제주도민   도민  50.0  여성   365160   \n",
       "1  2017  1   1   제주시   도심  삼도일동     숙박업   여관업   제주도민   도민  60.0  여성    40000   \n",
       "2  2017  1   1   제주시   도심  삼양이동     숙박업   여관업   제주도민   도민  20.0  여성   162000   \n",
       "3  2017  1   1   제주시   도심  삼양이동     숙박업   여관업   제주도민   도민  50.0  남성    70000   \n",
       "4  2017  1   1   제주시   도심  삼도이동     숙박업   여관업    내국인   개별  40.0  남성  3150460   \n",
       "\n",
       "    매장수  \n",
       "0   214  \n",
       "1  1610  \n",
       "2  1610  \n",
       "3  1610  \n",
       "4  1610  "
      ]
     },
     "execution_count": 16,
     "metadata": {},
     "output_type": "execute_result"
    }
   ],
   "source": [
    "df_card = pd.read_csv(filepath)\n",
    "df_card.head()"
   ]
  },
  {
   "cell_type": "code",
   "execution_count": 17,
   "metadata": {},
   "outputs": [
    {
     "data": {
      "text/plain": [
       "(1496856, 14)"
      ]
     },
     "execution_count": 17,
     "metadata": {},
     "output_type": "execute_result"
    }
   ],
   "source": [
    "df_card.shape"
   ]
  },
  {
   "cell_type": "markdown",
   "metadata": {},
   "source": [
    "# 분석 계획\n",
    "(데이터 행 == 결제 건)이 아니라서 변수 분석만 가지고는 인사이트 도출할 수 없음 ㅠ\n",
    "groupby사용해서 데이터프레임 서브셋 여러 개 만들어서 봐야 할 듯\n",
    "\n",
    "\n",
    "1. 인기 업종 분석\n",
    "  * 이용 금액이 높은 업종 \n",
    "      - 주로 음식점, 소매업!!\n",
    "      - 면세점 ** \n",
    "  * 매장 수 대비 이용 금액\n",
    "      - 가성비(?) 높은 업종 골라낼 수 있지 않을까\n",
    "      - ex) 돈많은 사람의 지갑 열기\n",
    "      - 마케팅 전략을 몇가지 찾아보고 타당한 지 파악하는 방식\n",
    "  \n",
    "2. 이용자 구분 분석\n",
    "  * 이용 금액이 높은 연령대, 성별, 국적 등  \n",
    "      - 생각보다 외국인 관광객 데이터 비율이 적음\n",
    "      - 아직 매출액으로는 분석을 안 해봐서 매출액으로 비교해 볼 예정\n",
    " \n",
    " \n",
    "3. 계절에 따른 이용 금액\n",
    "    - 분기별 건수는 비슷비슷 ... 다른 분들도 그런가요 어케 분석하징\n",
    "    - 3분기(성수기)\n",
    "    - 분기마다 잘 되는 업종/안 되는 업종 \n",
    "    - 전년도 분기랑 비교!!!\n",
    "    \n",
    "  * 마케팅 인사이트 도출"
   ]
  },
  {
   "cell_type": "markdown",
   "metadata": {},
   "source": []
  },
  {
   "cell_type": "code",
   "execution_count": null,
   "metadata": {},
   "outputs": [],
   "source": []
  },
  {
   "cell_type": "code",
   "execution_count": null,
   "metadata": {},
   "outputs": [],
   "source": []
  },
  {
   "cell_type": "code",
   "execution_count": null,
   "metadata": {},
   "outputs": [],
   "source": []
  },
  {
   "cell_type": "code",
   "execution_count": null,
   "metadata": {},
   "outputs": [],
   "source": []
  },
  {
   "cell_type": "code",
   "execution_count": null,
   "metadata": {},
   "outputs": [],
   "source": []
  },
  {
   "cell_type": "code",
   "execution_count": null,
   "metadata": {},
   "outputs": [],
   "source": []
  },
  {
   "cell_type": "code",
   "execution_count": null,
   "metadata": {},
   "outputs": [],
   "source": []
  },
  {
   "cell_type": "code",
   "execution_count": null,
   "metadata": {},
   "outputs": [],
   "source": []
  }
 ],
 "metadata": {
  "kernelspec": {
   "display_name": "Python 3",
   "language": "python",
   "name": "python3"
  },
  "language_info": {
   "codemirror_mode": {
    "name": "ipython",
    "version": 3
   },
   "file_extension": ".py",
   "mimetype": "text/x-python",
   "name": "python",
   "nbconvert_exporter": "python",
   "pygments_lexer": "ipython3",
   "version": "3.8.3"
  },
  "toc": {
   "base_numbering": 1,
   "nav_menu": {},
   "number_sections": true,
   "sideBar": true,
   "skip_h1_title": false,
   "title_cell": "Table of Contents",
   "title_sidebar": "Contents",
   "toc_cell": false,
   "toc_position": {},
   "toc_section_display": true,
   "toc_window_display": true
  }
 },
 "nbformat": 4,
 "nbformat_minor": 4
}
