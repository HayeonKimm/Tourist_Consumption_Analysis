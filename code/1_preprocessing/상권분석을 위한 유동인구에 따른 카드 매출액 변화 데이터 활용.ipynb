{
 "cells": [
  {
   "cell_type": "code",
   "execution_count": 2,
   "id": "d20dd331",
   "metadata": {},
   "outputs": [],
   "source": [
    "import pandas as pd\n",
    "import numpy as np\n",
    "import seaborn as sns\n",
    "import matplotlib.pyplot as plt"
   ]
  },
  {
   "cell_type": "markdown",
   "id": "91922dab",
   "metadata": {},
   "source": [
    "# 0. 데이터 불러오기"
   ]
  },
  {
   "cell_type": "code",
   "execution_count": 27,
   "id": "f48026bc",
   "metadata": {},
   "outputs": [],
   "source": [
    "df5 = pd.read_csv('C:\\\\study\\\\workspace_python\\pdsample\\\\3_상권분석을 위한 유동인구에 따른 카드 매출액 변화 데이터 활용.csv',encoding = 'cp949')"
   ]
  },
  {
   "cell_type": "code",
   "execution_count": 31,
   "id": "19ed7e6f",
   "metadata": {},
   "outputs": [
    {
     "data": {
      "text/html": [
       "<div>\n",
       "<style scoped>\n",
       "    .dataframe tbody tr th:only-of-type {\n",
       "        vertical-align: middle;\n",
       "    }\n",
       "\n",
       "    .dataframe tbody tr th {\n",
       "        vertical-align: top;\n",
       "    }\n",
       "\n",
       "    .dataframe thead th {\n",
       "        text-align: right;\n",
       "    }\n",
       "</style>\n",
       "<table border=\"1\" class=\"dataframe\">\n",
       "  <thead>\n",
       "    <tr style=\"text-align: right;\">\n",
       "      <th></th>\n",
       "      <th>년월</th>\n",
       "      <th>시도명</th>\n",
       "      <th>읍면동명</th>\n",
       "      <th>업종명</th>\n",
       "      <th>성별</th>\n",
       "      <th>이용금액</th>\n",
       "      <th>거주인구</th>\n",
       "      <th>근무인구</th>\n",
       "      <th>방문인구</th>\n",
       "    </tr>\n",
       "  </thead>\n",
       "  <tbody>\n",
       "    <tr>\n",
       "      <th>0</th>\n",
       "      <td>2017-01</td>\n",
       "      <td>서귀포시</td>\n",
       "      <td>남원읍</td>\n",
       "      <td>건강보조식품 소매업</td>\n",
       "      <td>남성</td>\n",
       "      <td>137500</td>\n",
       "      <td>4365500.518</td>\n",
       "      <td>380992.059</td>\n",
       "      <td>2844836.615</td>\n",
       "    </tr>\n",
       "    <tr>\n",
       "      <th>1</th>\n",
       "      <td>2017-01</td>\n",
       "      <td>서귀포시</td>\n",
       "      <td>남원읍</td>\n",
       "      <td>비알콜 음료점업</td>\n",
       "      <td>남성</td>\n",
       "      <td>2904000</td>\n",
       "      <td>4365500.518</td>\n",
       "      <td>380992.059</td>\n",
       "      <td>2844836.615</td>\n",
       "    </tr>\n",
       "    <tr>\n",
       "      <th>2</th>\n",
       "      <td>2017-01</td>\n",
       "      <td>서귀포시</td>\n",
       "      <td>남원읍</td>\n",
       "      <td>여관업</td>\n",
       "      <td>남성</td>\n",
       "      <td>6283900</td>\n",
       "      <td>4365500.518</td>\n",
       "      <td>380992.059</td>\n",
       "      <td>2844836.615</td>\n",
       "    </tr>\n",
       "    <tr>\n",
       "      <th>3</th>\n",
       "      <td>2017-01</td>\n",
       "      <td>서귀포시</td>\n",
       "      <td>남원읍</td>\n",
       "      <td>스포츠 및 레크레이션 용품 임대업</td>\n",
       "      <td>남성</td>\n",
       "      <td>8671410</td>\n",
       "      <td>4365500.518</td>\n",
       "      <td>380992.059</td>\n",
       "      <td>2844836.615</td>\n",
       "    </tr>\n",
       "    <tr>\n",
       "      <th>4</th>\n",
       "      <td>2017-01</td>\n",
       "      <td>서귀포시</td>\n",
       "      <td>남원읍</td>\n",
       "      <td>슈퍼마켓</td>\n",
       "      <td>남성</td>\n",
       "      <td>55925490</td>\n",
       "      <td>4365500.518</td>\n",
       "      <td>380992.059</td>\n",
       "      <td>2844836.615</td>\n",
       "    </tr>\n",
       "  </tbody>\n",
       "</table>\n",
       "</div>"
      ],
      "text/plain": [
       "        년월   시도명 읍면동명                 업종명  성별      이용금액         거주인구  \\\n",
       "0  2017-01  서귀포시  남원읍          건강보조식품 소매업  남성    137500  4365500.518   \n",
       "1  2017-01  서귀포시  남원읍            비알콜 음료점업  남성   2904000  4365500.518   \n",
       "2  2017-01  서귀포시  남원읍                 여관업  남성   6283900  4365500.518   \n",
       "3  2017-01  서귀포시  남원읍  스포츠 및 레크레이션 용품 임대업  남성   8671410  4365500.518   \n",
       "4  2017-01  서귀포시  남원읍                슈퍼마켓  남성  55925490  4365500.518   \n",
       "\n",
       "         근무인구         방문인구  \n",
       "0  380992.059  2844836.615  \n",
       "1  380992.059  2844836.615  \n",
       "2  380992.059  2844836.615  \n",
       "3  380992.059  2844836.615  \n",
       "4  380992.059  2844836.615  "
      ]
     },
     "execution_count": 31,
     "metadata": {},
     "output_type": "execute_result"
    }
   ],
   "source": [
    "df5.head(5)"
   ]
  },
  {
   "cell_type": "code",
   "execution_count": 34,
   "id": "9c4137bd",
   "metadata": {},
   "outputs": [
    {
     "data": {
      "text/html": [
       "<div>\n",
       "<style scoped>\n",
       "    .dataframe tbody tr th:only-of-type {\n",
       "        vertical-align: middle;\n",
       "    }\n",
       "\n",
       "    .dataframe tbody tr th {\n",
       "        vertical-align: top;\n",
       "    }\n",
       "\n",
       "    .dataframe thead th {\n",
       "        text-align: right;\n",
       "    }\n",
       "</style>\n",
       "<table border=\"1\" class=\"dataframe\">\n",
       "  <thead>\n",
       "    <tr style=\"text-align: right;\">\n",
       "      <th></th>\n",
       "      <th>년월</th>\n",
       "      <th>시도명</th>\n",
       "      <th>읍면동명</th>\n",
       "      <th>업종명</th>\n",
       "      <th>성별</th>\n",
       "      <th>이용금액</th>\n",
       "      <th>거주인구</th>\n",
       "      <th>근무인구</th>\n",
       "      <th>방문인구</th>\n",
       "      <th>데이터기준일자</th>\n",
       "    </tr>\n",
       "  </thead>\n",
       "  <tbody>\n",
       "    <tr>\n",
       "      <th>90538</th>\n",
       "      <td>2020-04</td>\n",
       "      <td>제주시</td>\n",
       "      <td>화북동</td>\n",
       "      <td>수산물 소매업</td>\n",
       "      <td>여성</td>\n",
       "      <td>2216500</td>\n",
       "      <td>9241265.99</td>\n",
       "      <td>481026.216</td>\n",
       "      <td>2598152.464</td>\n",
       "      <td>2020-12-15</td>\n",
       "    </tr>\n",
       "    <tr>\n",
       "      <th>90539</th>\n",
       "      <td>2020-04</td>\n",
       "      <td>제주시</td>\n",
       "      <td>화북동</td>\n",
       "      <td>서양식 음식점업</td>\n",
       "      <td>여성</td>\n",
       "      <td>5374000</td>\n",
       "      <td>9241265.99</td>\n",
       "      <td>481026.216</td>\n",
       "      <td>2598152.464</td>\n",
       "      <td>2020-12-15</td>\n",
       "    </tr>\n",
       "    <tr>\n",
       "      <th>90540</th>\n",
       "      <td>2020-04</td>\n",
       "      <td>제주시</td>\n",
       "      <td>화북동</td>\n",
       "      <td>빵 및 과자류 소매업</td>\n",
       "      <td>여성</td>\n",
       "      <td>24042720</td>\n",
       "      <td>9241265.99</td>\n",
       "      <td>481026.216</td>\n",
       "      <td>2598152.464</td>\n",
       "      <td>2020-12-15</td>\n",
       "    </tr>\n",
       "    <tr>\n",
       "      <th>90541</th>\n",
       "      <td>2020-04</td>\n",
       "      <td>제주시</td>\n",
       "      <td>화북동</td>\n",
       "      <td>육류 소매업</td>\n",
       "      <td>여성</td>\n",
       "      <td>24474030</td>\n",
       "      <td>9241265.99</td>\n",
       "      <td>481026.216</td>\n",
       "      <td>2598152.464</td>\n",
       "      <td>2020-12-15</td>\n",
       "    </tr>\n",
       "    <tr>\n",
       "      <th>90542</th>\n",
       "      <td>2020-04</td>\n",
       "      <td>제주시</td>\n",
       "      <td>화북동</td>\n",
       "      <td>화장품 및 방향제 소매업</td>\n",
       "      <td>여성</td>\n",
       "      <td>14553710</td>\n",
       "      <td>9241265.99</td>\n",
       "      <td>481026.216</td>\n",
       "      <td>2598152.464</td>\n",
       "      <td>2020-12-15</td>\n",
       "    </tr>\n",
       "  </tbody>\n",
       "</table>\n",
       "</div>"
      ],
      "text/plain": [
       "            년월  시도명 읍면동명            업종명  성별      이용금액        거주인구        근무인구  \\\n",
       "90538  2020-04  제주시  화북동        수산물 소매업  여성   2216500  9241265.99  481026.216   \n",
       "90539  2020-04  제주시  화북동       서양식 음식점업  여성   5374000  9241265.99  481026.216   \n",
       "90540  2020-04  제주시  화북동    빵 및 과자류 소매업  여성  24042720  9241265.99  481026.216   \n",
       "90541  2020-04  제주시  화북동         육류 소매업  여성  24474030  9241265.99  481026.216   \n",
       "90542  2020-04  제주시  화북동  화장품 및 방향제 소매업  여성  14553710  9241265.99  481026.216   \n",
       "\n",
       "              방문인구     데이터기준일자  \n",
       "90538  2598152.464  2020-12-15  \n",
       "90539  2598152.464  2020-12-15  \n",
       "90540  2598152.464  2020-12-15  \n",
       "90541  2598152.464  2020-12-15  \n",
       "90542  2598152.464  2020-12-15  "
      ]
     },
     "execution_count": 34,
     "metadata": {},
     "output_type": "execute_result"
    }
   ],
   "source": [
    "df5.tail()"
   ]
  },
  {
   "cell_type": "code",
   "execution_count": 37,
   "id": "5b2d94ee",
   "metadata": {},
   "outputs": [
    {
     "data": {
      "text/html": [
       "<div>\n",
       "<style scoped>\n",
       "    .dataframe tbody tr th:only-of-type {\n",
       "        vertical-align: middle;\n",
       "    }\n",
       "\n",
       "    .dataframe tbody tr th {\n",
       "        vertical-align: top;\n",
       "    }\n",
       "\n",
       "    .dataframe thead th {\n",
       "        text-align: right;\n",
       "    }\n",
       "</style>\n",
       "<table border=\"1\" class=\"dataframe\">\n",
       "  <thead>\n",
       "    <tr style=\"text-align: right;\">\n",
       "      <th></th>\n",
       "      <th>년월</th>\n",
       "      <th>시도명</th>\n",
       "      <th>읍면동명</th>\n",
       "      <th>업종명</th>\n",
       "      <th>성별</th>\n",
       "      <th>이용금액</th>\n",
       "      <th>거주인구</th>\n",
       "      <th>근무인구</th>\n",
       "      <th>방문인구</th>\n",
       "      <th>데이터기준일자</th>\n",
       "    </tr>\n",
       "  </thead>\n",
       "  <tbody>\n",
       "    <tr>\n",
       "      <th>75034</th>\n",
       "      <td>2019-10</td>\n",
       "      <td>서귀포시</td>\n",
       "      <td>서홍동</td>\n",
       "      <td>화장품 및 방향제 소매업</td>\n",
       "      <td>여성</td>\n",
       "      <td>221000</td>\n",
       "      <td>1.812513e+06</td>\n",
       "      <td>185844.525</td>\n",
       "      <td>1109739.940</td>\n",
       "      <td>2020-12-15</td>\n",
       "    </tr>\n",
       "    <tr>\n",
       "      <th>58505</th>\n",
       "      <td>2019-02</td>\n",
       "      <td>제주시</td>\n",
       "      <td>추자면</td>\n",
       "      <td>차량용 주유소 운영업</td>\n",
       "      <td>남성</td>\n",
       "      <td>9735000</td>\n",
       "      <td>4.266946e+05</td>\n",
       "      <td>22253.317</td>\n",
       "      <td>516301.165</td>\n",
       "      <td>2020-12-15</td>\n",
       "    </tr>\n",
       "    <tr>\n",
       "      <th>62601</th>\n",
       "      <td>2019-04</td>\n",
       "      <td>제주시</td>\n",
       "      <td>용담1동</td>\n",
       "      <td>과실 및 채소 소매업</td>\n",
       "      <td>남성</td>\n",
       "      <td>10882250</td>\n",
       "      <td>2.006097e+06</td>\n",
       "      <td>231529.659</td>\n",
       "      <td>1451724.510</td>\n",
       "      <td>2020-12-15</td>\n",
       "    </tr>\n",
       "    <tr>\n",
       "      <th>34573</th>\n",
       "      <td>2018-04</td>\n",
       "      <td>서귀포시</td>\n",
       "      <td>표선면</td>\n",
       "      <td>슈퍼마켓</td>\n",
       "      <td>여성</td>\n",
       "      <td>72586160</td>\n",
       "      <td>2.719461e+06</td>\n",
       "      <td>305587.680</td>\n",
       "      <td>2425496.973</td>\n",
       "      <td>2020-12-15</td>\n",
       "    </tr>\n",
       "    <tr>\n",
       "      <th>69251</th>\n",
       "      <td>2019-07</td>\n",
       "      <td>제주시</td>\n",
       "      <td>애월읍</td>\n",
       "      <td>중식 음식점업</td>\n",
       "      <td>남성</td>\n",
       "      <td>28410000</td>\n",
       "      <td>1.120945e+07</td>\n",
       "      <td>1327305.102</td>\n",
       "      <td>8787576.825</td>\n",
       "      <td>2020-12-15</td>\n",
       "    </tr>\n",
       "    <tr>\n",
       "      <th>39580</th>\n",
       "      <td>2018-06</td>\n",
       "      <td>제주시</td>\n",
       "      <td>삼양동</td>\n",
       "      <td>화장품 및 방향제 소매업</td>\n",
       "      <td>여성</td>\n",
       "      <td>9697220</td>\n",
       "      <td>6.927401e+06</td>\n",
       "      <td>286853.469</td>\n",
       "      <td>1515061.899</td>\n",
       "      <td>2020-12-15</td>\n",
       "    </tr>\n",
       "    <tr>\n",
       "      <th>58515</th>\n",
       "      <td>2019-02</td>\n",
       "      <td>제주시</td>\n",
       "      <td>추자면</td>\n",
       "      <td>차량용 가스 충전업</td>\n",
       "      <td>남성</td>\n",
       "      <td>639000</td>\n",
       "      <td>4.266946e+05</td>\n",
       "      <td>22253.317</td>\n",
       "      <td>516301.165</td>\n",
       "      <td>2020-12-15</td>\n",
       "    </tr>\n",
       "    <tr>\n",
       "      <th>29956</th>\n",
       "      <td>2018-02</td>\n",
       "      <td>서귀포시</td>\n",
       "      <td>중앙동</td>\n",
       "      <td>수산물 소매업</td>\n",
       "      <td>여성</td>\n",
       "      <td>104034200</td>\n",
       "      <td>7.014241e+05</td>\n",
       "      <td>166875.259</td>\n",
       "      <td>1472138.353</td>\n",
       "      <td>2020-12-15</td>\n",
       "    </tr>\n",
       "    <tr>\n",
       "      <th>3310</th>\n",
       "      <td>2017-02</td>\n",
       "      <td>제주시</td>\n",
       "      <td>도두동</td>\n",
       "      <td>슈퍼마켓</td>\n",
       "      <td>여성</td>\n",
       "      <td>24159430</td>\n",
       "      <td>4.035644e+05</td>\n",
       "      <td>44764.517</td>\n",
       "      <td>1095710.708</td>\n",
       "      <td>2020-12-15</td>\n",
       "    </tr>\n",
       "    <tr>\n",
       "      <th>6462</th>\n",
       "      <td>2017-03</td>\n",
       "      <td>제주시</td>\n",
       "      <td>조천읍</td>\n",
       "      <td>차량용 가스 충전업</td>\n",
       "      <td>남성</td>\n",
       "      <td>17569640</td>\n",
       "      <td>5.897964e+06</td>\n",
       "      <td>788935.940</td>\n",
       "      <td>4452947.602</td>\n",
       "      <td>2020-12-15</td>\n",
       "    </tr>\n",
       "  </tbody>\n",
       "</table>\n",
       "</div>"
      ],
      "text/plain": [
       "            년월   시도명  읍면동명            업종명  성별       이용금액          거주인구  \\\n",
       "75034  2019-10  서귀포시   서홍동  화장품 및 방향제 소매업  여성     221000  1.812513e+06   \n",
       "58505  2019-02   제주시   추자면    차량용 주유소 운영업  남성    9735000  4.266946e+05   \n",
       "62601  2019-04   제주시  용담1동    과실 및 채소 소매업  남성   10882250  2.006097e+06   \n",
       "34573  2018-04  서귀포시   표선면           슈퍼마켓  여성   72586160  2.719461e+06   \n",
       "69251  2019-07   제주시   애월읍        중식 음식점업  남성   28410000  1.120945e+07   \n",
       "39580  2018-06   제주시   삼양동  화장품 및 방향제 소매업  여성    9697220  6.927401e+06   \n",
       "58515  2019-02   제주시   추자면     차량용 가스 충전업  남성     639000  4.266946e+05   \n",
       "29956  2018-02  서귀포시   중앙동        수산물 소매업  여성  104034200  7.014241e+05   \n",
       "3310   2017-02   제주시   도두동           슈퍼마켓  여성   24159430  4.035644e+05   \n",
       "6462   2017-03   제주시   조천읍     차량용 가스 충전업  남성   17569640  5.897964e+06   \n",
       "\n",
       "              근무인구         방문인구     데이터기준일자  \n",
       "75034   185844.525  1109739.940  2020-12-15  \n",
       "58505    22253.317   516301.165  2020-12-15  \n",
       "62601   231529.659  1451724.510  2020-12-15  \n",
       "34573   305587.680  2425496.973  2020-12-15  \n",
       "69251  1327305.102  8787576.825  2020-12-15  \n",
       "39580   286853.469  1515061.899  2020-12-15  \n",
       "58515    22253.317   516301.165  2020-12-15  \n",
       "29956   166875.259  1472138.353  2020-12-15  \n",
       "3310     44764.517  1095710.708  2020-12-15  \n",
       "6462    788935.940  4452947.602  2020-12-15  "
      ]
     },
     "execution_count": 37,
     "metadata": {},
     "output_type": "execute_result"
    }
   ],
   "source": [
    "df5.sample(10)"
   ]
  },
  {
   "cell_type": "code",
   "execution_count": 29,
   "id": "9dc05bd3",
   "metadata": {},
   "outputs": [],
   "source": [
    "df5.drop('데이터기준일자', axis = 1, inplace = True)"
   ]
  },
  {
   "cell_type": "markdown",
   "id": "8dfb4e62",
   "metadata": {},
   "source": [
    "결측치가 없기 때문에 바로 피처 엔지니어링 해도 된다고 판단.  "
   ]
  },
  {
   "cell_type": "code",
   "execution_count": 115,
   "id": "c577d946",
   "metadata": {},
   "outputs": [
    {
     "name": "stdout",
     "output_type": "stream",
     "text": [
      "<class 'pandas.core.frame.DataFrame'>\n",
      "RangeIndex: 90543 entries, 0 to 90542\n",
      "Data columns (total 11 columns):\n",
      " #   Column  Non-Null Count  Dtype  \n",
      "---  ------  --------------  -----  \n",
      " 0   시도명     90543 non-null  object \n",
      " 1   읍면동명    90543 non-null  object \n",
      " 2   업종명     90543 non-null  object \n",
      " 3   성별      90543 non-null  object \n",
      " 4   이용금액    90543 non-null  int64  \n",
      " 5   거주인구    90543 non-null  float64\n",
      " 6   근무인구    90543 non-null  float64\n",
      " 7   방문인구    90543 non-null  float64\n",
      " 8   연도      90543 non-null  int32  \n",
      " 9   월       90543 non-null  int32  \n",
      " 10  계절      90543 non-null  object \n",
      "dtypes: float64(3), int32(2), int64(1), object(5)\n",
      "memory usage: 6.9+ MB\n"
     ]
    }
   ],
   "source": [
    "df5.info()"
   ]
  },
  {
   "cell_type": "markdown",
   "id": "a7b08ec6",
   "metadata": {},
   "source": [
    "# 1. 데이터 전처리"
   ]
  },
  {
   "cell_type": "markdown",
   "id": "89c48485",
   "metadata": {},
   "source": [
    "|칼럼명|칼럼내용|\n",
    "|--------|-------------|\n",
    "|년월|각 행의 정보의 시점을 알려줌|\n",
    "|시도명|제주도 행정구역 중 시에 관한 정보|\n",
    "|읍면동명|제주도 행정구역 중 읍면동에 관한 정보|\n",
    "|업종명|업종 소분류|\n",
    "|성별|소비자 성별|\n",
    "|이용금액|총 구매금액|\n",
    "|거주인구|제주도 특정 행정구역의 인구수 |\n",
    "|근무인구|특정 시기의 특정 구역의 근무인구 수|\n",
    "|방문인구|특정 시기의 특정 구역의 근무인구 수|\n",
    "|데이터기준일자|데이터 등록 일자|\n"
   ]
  },
  {
   "cell_type": "markdown",
   "id": "d1d792e2",
   "metadata": {},
   "source": [
    "## 1.1 피처 엔지니어링"
   ]
  },
  {
   "cell_type": "markdown",
   "id": "57809d6d",
   "metadata": {},
   "source": [
    "### 1.1.1 년,월 column 생성"
   ]
  },
  {
   "cell_type": "code",
   "execution_count": 34,
   "id": "afa0dc75",
   "metadata": {},
   "outputs": [],
   "source": [
    "year = []\n",
    "for i in df5['년월'].str.split('-'):\n",
    "    year.append(i[0])\n",
    "    "
   ]
  },
  {
   "cell_type": "code",
   "execution_count": 35,
   "id": "0ea47807",
   "metadata": {},
   "outputs": [],
   "source": [
    "month = []\n",
    "for i in df5['년월'].str.split('-'):\n",
    "    month.append(i[1])"
   ]
  },
  {
   "cell_type": "code",
   "execution_count": 36,
   "id": "60aaed9b",
   "metadata": {},
   "outputs": [],
   "source": [
    "df5['연도'] = year\n",
    "df5['월'] = month"
   ]
  },
  {
   "cell_type": "code",
   "execution_count": 37,
   "id": "4cba0880",
   "metadata": {},
   "outputs": [
    {
     "data": {
      "text/html": [
       "<div>\n",
       "<style scoped>\n",
       "    .dataframe tbody tr th:only-of-type {\n",
       "        vertical-align: middle;\n",
       "    }\n",
       "\n",
       "    .dataframe tbody tr th {\n",
       "        vertical-align: top;\n",
       "    }\n",
       "\n",
       "    .dataframe thead th {\n",
       "        text-align: right;\n",
       "    }\n",
       "</style>\n",
       "<table border=\"1\" class=\"dataframe\">\n",
       "  <thead>\n",
       "    <tr style=\"text-align: right;\">\n",
       "      <th></th>\n",
       "      <th>년월</th>\n",
       "      <th>시도명</th>\n",
       "      <th>읍면동명</th>\n",
       "      <th>업종명</th>\n",
       "      <th>성별</th>\n",
       "      <th>이용금액</th>\n",
       "      <th>거주인구</th>\n",
       "      <th>근무인구</th>\n",
       "      <th>방문인구</th>\n",
       "      <th>연도</th>\n",
       "      <th>월</th>\n",
       "    </tr>\n",
       "  </thead>\n",
       "  <tbody>\n",
       "    <tr>\n",
       "      <th>23032</th>\n",
       "      <td>2017-11</td>\n",
       "      <td>서귀포시</td>\n",
       "      <td>표선면</td>\n",
       "      <td>체인화 편의점</td>\n",
       "      <td>남성</td>\n",
       "      <td>92641394</td>\n",
       "      <td>2.933041e+06</td>\n",
       "      <td>382357.765</td>\n",
       "      <td>2309202.360</td>\n",
       "      <td>2017</td>\n",
       "      <td>11</td>\n",
       "    </tr>\n",
       "    <tr>\n",
       "      <th>60416</th>\n",
       "      <td>2019-03</td>\n",
       "      <td>제주시</td>\n",
       "      <td>우도면</td>\n",
       "      <td>서양식 음식점업</td>\n",
       "      <td>남성</td>\n",
       "      <td>15247450</td>\n",
       "      <td>4.415422e+05</td>\n",
       "      <td>33712.456</td>\n",
       "      <td>481291.206</td>\n",
       "      <td>2019</td>\n",
       "      <td>03</td>\n",
       "    </tr>\n",
       "    <tr>\n",
       "      <th>9586</th>\n",
       "      <td>2017-05</td>\n",
       "      <td>서귀포시</td>\n",
       "      <td>중문동</td>\n",
       "      <td>골프장 운영업</td>\n",
       "      <td>여성</td>\n",
       "      <td>12920700</td>\n",
       "      <td>2.186381e+06</td>\n",
       "      <td>259786.501</td>\n",
       "      <td>2071518.400</td>\n",
       "      <td>2017</td>\n",
       "      <td>05</td>\n",
       "    </tr>\n",
       "    <tr>\n",
       "      <th>9142</th>\n",
       "      <td>2017-05</td>\n",
       "      <td>서귀포시</td>\n",
       "      <td>동홍동</td>\n",
       "      <td>건강보조식품 소매업</td>\n",
       "      <td>여성</td>\n",
       "      <td>4272250</td>\n",
       "      <td>5.311933e+06</td>\n",
       "      <td>405240.767</td>\n",
       "      <td>2380674.114</td>\n",
       "      <td>2017</td>\n",
       "      <td>05</td>\n",
       "    </tr>\n",
       "    <tr>\n",
       "      <th>59857</th>\n",
       "      <td>2019-03</td>\n",
       "      <td>제주시</td>\n",
       "      <td>삼도1동</td>\n",
       "      <td>관광 민예품 및 선물용품 소매업</td>\n",
       "      <td>남성</td>\n",
       "      <td>3144000</td>\n",
       "      <td>2.921907e+06</td>\n",
       "      <td>235437.507</td>\n",
       "      <td>2265465.959</td>\n",
       "      <td>2019</td>\n",
       "      <td>03</td>\n",
       "    </tr>\n",
       "    <tr>\n",
       "      <th>47786</th>\n",
       "      <td>2018-10</td>\n",
       "      <td>서귀포시</td>\n",
       "      <td>안덕면</td>\n",
       "      <td>중식 음식점업</td>\n",
       "      <td>남성</td>\n",
       "      <td>11537500</td>\n",
       "      <td>4.632882e+06</td>\n",
       "      <td>822399.471</td>\n",
       "      <td>3439842.468</td>\n",
       "      <td>2018</td>\n",
       "      <td>10</td>\n",
       "    </tr>\n",
       "    <tr>\n",
       "      <th>65378</th>\n",
       "      <td>2019-05</td>\n",
       "      <td>제주시</td>\n",
       "      <td>추자면</td>\n",
       "      <td>기타 주점업</td>\n",
       "      <td>여성</td>\n",
       "      <td>1550000</td>\n",
       "      <td>3.879705e+05</td>\n",
       "      <td>18898.023</td>\n",
       "      <td>370570.112</td>\n",
       "      <td>2019</td>\n",
       "      <td>05</td>\n",
       "    </tr>\n",
       "    <tr>\n",
       "      <th>78187</th>\n",
       "      <td>2019-11</td>\n",
       "      <td>제주시</td>\n",
       "      <td>삼도1동</td>\n",
       "      <td>빵 및 과자류 소매업</td>\n",
       "      <td>남성</td>\n",
       "      <td>9624260</td>\n",
       "      <td>2.789936e+06</td>\n",
       "      <td>214784.778</td>\n",
       "      <td>2252000.194</td>\n",
       "      <td>2019</td>\n",
       "      <td>11</td>\n",
       "    </tr>\n",
       "    <tr>\n",
       "      <th>59804</th>\n",
       "      <td>2019-03</td>\n",
       "      <td>제주시</td>\n",
       "      <td>도두동</td>\n",
       "      <td>빵 및 과자류 소매업</td>\n",
       "      <td>여성</td>\n",
       "      <td>199500</td>\n",
       "      <td>3.664051e+05</td>\n",
       "      <td>48369.639</td>\n",
       "      <td>1227488.006</td>\n",
       "      <td>2019</td>\n",
       "      <td>03</td>\n",
       "    </tr>\n",
       "    <tr>\n",
       "      <th>76183</th>\n",
       "      <td>2019-10</td>\n",
       "      <td>제주시</td>\n",
       "      <td>연동</td>\n",
       "      <td>일식 음식점업</td>\n",
       "      <td>남성</td>\n",
       "      <td>149923900</td>\n",
       "      <td>1.390554e+07</td>\n",
       "      <td>1956756.226</td>\n",
       "      <td>8370081.459</td>\n",
       "      <td>2019</td>\n",
       "      <td>10</td>\n",
       "    </tr>\n",
       "  </tbody>\n",
       "</table>\n",
       "</div>"
      ],
      "text/plain": [
       "            년월   시도명  읍면동명                업종명  성별       이용금액          거주인구  \\\n",
       "23032  2017-11  서귀포시   표선면            체인화 편의점  남성   92641394  2.933041e+06   \n",
       "60416  2019-03   제주시   우도면           서양식 음식점업  남성   15247450  4.415422e+05   \n",
       "9586   2017-05  서귀포시   중문동            골프장 운영업  여성   12920700  2.186381e+06   \n",
       "9142   2017-05  서귀포시   동홍동         건강보조식품 소매업  여성    4272250  5.311933e+06   \n",
       "59857  2019-03   제주시  삼도1동  관광 민예품 및 선물용품 소매업  남성    3144000  2.921907e+06   \n",
       "47786  2018-10  서귀포시   안덕면            중식 음식점업  남성   11537500  4.632882e+06   \n",
       "65378  2019-05   제주시   추자면             기타 주점업  여성    1550000  3.879705e+05   \n",
       "78187  2019-11   제주시  삼도1동        빵 및 과자류 소매업  남성    9624260  2.789936e+06   \n",
       "59804  2019-03   제주시   도두동        빵 및 과자류 소매업  여성     199500  3.664051e+05   \n",
       "76183  2019-10   제주시    연동            일식 음식점업  남성  149923900  1.390554e+07   \n",
       "\n",
       "              근무인구         방문인구    연도   월  \n",
       "23032   382357.765  2309202.360  2017  11  \n",
       "60416    33712.456   481291.206  2019  03  \n",
       "9586    259786.501  2071518.400  2017  05  \n",
       "9142    405240.767  2380674.114  2017  05  \n",
       "59857   235437.507  2265465.959  2019  03  \n",
       "47786   822399.471  3439842.468  2018  10  \n",
       "65378    18898.023   370570.112  2019  05  \n",
       "78187   214784.778  2252000.194  2019  11  \n",
       "59804    48369.639  1227488.006  2019  03  \n",
       "76183  1956756.226  8370081.459  2019  10  "
      ]
     },
     "execution_count": 37,
     "metadata": {},
     "output_type": "execute_result"
    }
   ],
   "source": [
    "df5.sample(10)"
   ]
  },
  {
   "cell_type": "code",
   "execution_count": 42,
   "id": "738b9ee7",
   "metadata": {},
   "outputs": [],
   "source": [
    "#연도와 월에 관한 정보를 추출했으니 년월 칼럼은 필요 없다고 생각하여 삭제\n",
    "\n",
    "\n",
    "df5.drop('년월', axis  = 1, inplace = True)"
   ]
  },
  {
   "cell_type": "code",
   "execution_count": 43,
   "id": "d9ec0244",
   "metadata": {},
   "outputs": [],
   "source": [
    "#연도와 월 칼럼은 추출 원리상 문자형이기 때문에 다시 숫자형으로 변환\n",
    "\n",
    "df5['월'] = df5['월'].astype(int)\n",
    "df5['연도'] = df5['연도'].astype(int)\n"
   ]
  },
  {
   "cell_type": "code",
   "execution_count": 45,
   "id": "452c44a8",
   "metadata": {},
   "outputs": [
    {
     "data": {
      "text/html": [
       "<div>\n",
       "<style scoped>\n",
       "    .dataframe tbody tr th:only-of-type {\n",
       "        vertical-align: middle;\n",
       "    }\n",
       "\n",
       "    .dataframe tbody tr th {\n",
       "        vertical-align: top;\n",
       "    }\n",
       "\n",
       "    .dataframe thead th {\n",
       "        text-align: right;\n",
       "    }\n",
       "</style>\n",
       "<table border=\"1\" class=\"dataframe\">\n",
       "  <thead>\n",
       "    <tr style=\"text-align: right;\">\n",
       "      <th></th>\n",
       "      <th>시도명</th>\n",
       "      <th>읍면동명</th>\n",
       "      <th>업종명</th>\n",
       "      <th>성별</th>\n",
       "      <th>이용금액</th>\n",
       "      <th>거주인구</th>\n",
       "      <th>근무인구</th>\n",
       "      <th>방문인구</th>\n",
       "      <th>연도</th>\n",
       "      <th>월</th>\n",
       "    </tr>\n",
       "  </thead>\n",
       "  <tbody>\n",
       "    <tr>\n",
       "      <th>0</th>\n",
       "      <td>서귀포시</td>\n",
       "      <td>남원읍</td>\n",
       "      <td>건강보조식품 소매업</td>\n",
       "      <td>남성</td>\n",
       "      <td>137500</td>\n",
       "      <td>4365500.518</td>\n",
       "      <td>380992.059</td>\n",
       "      <td>2844836.615</td>\n",
       "      <td>2017</td>\n",
       "      <td>1</td>\n",
       "    </tr>\n",
       "    <tr>\n",
       "      <th>1</th>\n",
       "      <td>서귀포시</td>\n",
       "      <td>남원읍</td>\n",
       "      <td>비알콜 음료점업</td>\n",
       "      <td>남성</td>\n",
       "      <td>2904000</td>\n",
       "      <td>4365500.518</td>\n",
       "      <td>380992.059</td>\n",
       "      <td>2844836.615</td>\n",
       "      <td>2017</td>\n",
       "      <td>1</td>\n",
       "    </tr>\n",
       "    <tr>\n",
       "      <th>2</th>\n",
       "      <td>서귀포시</td>\n",
       "      <td>남원읍</td>\n",
       "      <td>여관업</td>\n",
       "      <td>남성</td>\n",
       "      <td>6283900</td>\n",
       "      <td>4365500.518</td>\n",
       "      <td>380992.059</td>\n",
       "      <td>2844836.615</td>\n",
       "      <td>2017</td>\n",
       "      <td>1</td>\n",
       "    </tr>\n",
       "    <tr>\n",
       "      <th>3</th>\n",
       "      <td>서귀포시</td>\n",
       "      <td>남원읍</td>\n",
       "      <td>스포츠 및 레크레이션 용품 임대업</td>\n",
       "      <td>남성</td>\n",
       "      <td>8671410</td>\n",
       "      <td>4365500.518</td>\n",
       "      <td>380992.059</td>\n",
       "      <td>2844836.615</td>\n",
       "      <td>2017</td>\n",
       "      <td>1</td>\n",
       "    </tr>\n",
       "    <tr>\n",
       "      <th>4</th>\n",
       "      <td>서귀포시</td>\n",
       "      <td>남원읍</td>\n",
       "      <td>슈퍼마켓</td>\n",
       "      <td>남성</td>\n",
       "      <td>55925490</td>\n",
       "      <td>4365500.518</td>\n",
       "      <td>380992.059</td>\n",
       "      <td>2844836.615</td>\n",
       "      <td>2017</td>\n",
       "      <td>1</td>\n",
       "    </tr>\n",
       "  </tbody>\n",
       "</table>\n",
       "</div>"
      ],
      "text/plain": [
       "    시도명 읍면동명                 업종명  성별      이용금액         거주인구        근무인구  \\\n",
       "0  서귀포시  남원읍          건강보조식품 소매업  남성    137500  4365500.518  380992.059   \n",
       "1  서귀포시  남원읍            비알콜 음료점업  남성   2904000  4365500.518  380992.059   \n",
       "2  서귀포시  남원읍                 여관업  남성   6283900  4365500.518  380992.059   \n",
       "3  서귀포시  남원읍  스포츠 및 레크레이션 용품 임대업  남성   8671410  4365500.518  380992.059   \n",
       "4  서귀포시  남원읍                슈퍼마켓  남성  55925490  4365500.518  380992.059   \n",
       "\n",
       "          방문인구    연도  월  \n",
       "0  2844836.615  2017  1  \n",
       "1  2844836.615  2017  1  \n",
       "2  2844836.615  2017  1  \n",
       "3  2844836.615  2017  1  \n",
       "4  2844836.615  2017  1  "
      ]
     },
     "execution_count": 45,
     "metadata": {},
     "output_type": "execute_result"
    }
   ],
   "source": [
    "df5.head()"
   ]
  },
  {
   "cell_type": "markdown",
   "id": "281aa6d9",
   "metadata": {},
   "source": [
    "### 1.1.2 계절 column 생성"
   ]
  },
  {
   "cell_type": "markdown",
   "id": "214418bf",
   "metadata": {},
   "source": [
    "> 아이디어  :\n",
    "> 계절별로 업종명별 이용금액을 파악하여, 계절에 따른 인기 품목을 알 수 있겠다 생각했다."
   ]
  },
  {
   "cell_type": "code",
   "execution_count": 48,
   "id": "67f42540",
   "metadata": {},
   "outputs": [],
   "source": [
    "df_cd = df5.copy()"
   ]
  },
  {
   "cell_type": "code",
   "execution_count": 50,
   "id": "f0e3d6f3",
   "metadata": {},
   "outputs": [],
   "source": [
    "df_cd['계절'] = 0"
   ]
  },
  {
   "cell_type": "code",
   "execution_count": 52,
   "id": "92fd1274",
   "metadata": {},
   "outputs": [
    {
     "name": "stderr",
     "output_type": "stream",
     "text": [
      "<ipython-input-52-ddd44c76975f>:14: SettingWithCopyWarning: \n",
      "A value is trying to be set on a copy of a slice from a DataFrame\n",
      "\n",
      "See the caveats in the documentation: https://pandas.pydata.org/pandas-docs/stable/user_guide/indexing.html#returning-a-view-versus-a-copy\n",
      "  df_cd['계절'][i] = '겨울'\n",
      "C:\\ca_da\\anaconda\\lib\\site-packages\\pandas\\core\\indexing.py:1637: SettingWithCopyWarning: \n",
      "A value is trying to be set on a copy of a slice from a DataFrame\n",
      "\n",
      "See the caveats in the documentation: https://pandas.pydata.org/pandas-docs/stable/user_guide/indexing.html#returning-a-view-versus-a-copy\n",
      "  self._setitem_single_block(indexer, value, name)\n",
      "<ipython-input-52-ddd44c76975f>:8: SettingWithCopyWarning: \n",
      "A value is trying to be set on a copy of a slice from a DataFrame\n",
      "\n",
      "See the caveats in the documentation: https://pandas.pydata.org/pandas-docs/stable/user_guide/indexing.html#returning-a-view-versus-a-copy\n",
      "  df_cd['계절'][i] = '봄'\n",
      "<ipython-input-52-ddd44c76975f>:10: SettingWithCopyWarning: \n",
      "A value is trying to be set on a copy of a slice from a DataFrame\n",
      "\n",
      "See the caveats in the documentation: https://pandas.pydata.org/pandas-docs/stable/user_guide/indexing.html#returning-a-view-versus-a-copy\n",
      "  df_cd['계절'][i] = '여름'\n",
      "<ipython-input-52-ddd44c76975f>:12: SettingWithCopyWarning: \n",
      "A value is trying to be set on a copy of a slice from a DataFrame\n",
      "\n",
      "See the caveats in the documentation: https://pandas.pydata.org/pandas-docs/stable/user_guide/indexing.html#returning-a-view-versus-a-copy\n",
      "  df_cd['계절'][i] = '가을'\n"
     ]
    }
   ],
   "source": [
    "#오류가 생성이 되는데 어떻게 하면 없앨 수 있을지 모르겠네여...\n",
    "\n",
    "spring = [3,4,5]\n",
    "summer = [6,7,8]\n",
    "fall = [9,10,11]\n",
    "winter = [12,1,2]\n",
    "\n",
    "for i in range(len(df_cd['계절'])):\n",
    "    if df_cd['월'][i] in spring:\n",
    "        df_cd['계절'][i] = '봄'\n",
    "    elif df_cd['월'][i] in summer:\n",
    "        df_cd['계절'][i] = '여름'\n",
    "    elif df_cd['월'][i] in fall:\n",
    "        df_cd['계절'][i] = '가을'\n",
    "    elif df_cd['월'][i] in winter:\n",
    "        df_cd['계절'][i] = '겨울'\n",
    "        \n"
   ]
  },
  {
   "cell_type": "code",
   "execution_count": 55,
   "id": "d3be63f8",
   "metadata": {},
   "outputs": [
    {
     "data": {
      "text/html": [
       "<div>\n",
       "<style scoped>\n",
       "    .dataframe tbody tr th:only-of-type {\n",
       "        vertical-align: middle;\n",
       "    }\n",
       "\n",
       "    .dataframe tbody tr th {\n",
       "        vertical-align: top;\n",
       "    }\n",
       "\n",
       "    .dataframe thead th {\n",
       "        text-align: right;\n",
       "    }\n",
       "</style>\n",
       "<table border=\"1\" class=\"dataframe\">\n",
       "  <thead>\n",
       "    <tr style=\"text-align: right;\">\n",
       "      <th></th>\n",
       "      <th>시도명</th>\n",
       "      <th>읍면동명</th>\n",
       "      <th>업종명</th>\n",
       "      <th>성별</th>\n",
       "      <th>이용금액</th>\n",
       "      <th>거주인구</th>\n",
       "      <th>근무인구</th>\n",
       "      <th>방문인구</th>\n",
       "      <th>연도</th>\n",
       "      <th>월</th>\n",
       "      <th>계절</th>\n",
       "    </tr>\n",
       "  </thead>\n",
       "  <tbody>\n",
       "    <tr>\n",
       "      <th>0</th>\n",
       "      <td>서귀포시</td>\n",
       "      <td>남원읍</td>\n",
       "      <td>건강보조식품 소매업</td>\n",
       "      <td>남성</td>\n",
       "      <td>137500</td>\n",
       "      <td>4365500.518</td>\n",
       "      <td>380992.059</td>\n",
       "      <td>2844836.615</td>\n",
       "      <td>2017</td>\n",
       "      <td>1</td>\n",
       "      <td>겨울</td>\n",
       "    </tr>\n",
       "    <tr>\n",
       "      <th>1</th>\n",
       "      <td>서귀포시</td>\n",
       "      <td>남원읍</td>\n",
       "      <td>비알콜 음료점업</td>\n",
       "      <td>남성</td>\n",
       "      <td>2904000</td>\n",
       "      <td>4365500.518</td>\n",
       "      <td>380992.059</td>\n",
       "      <td>2844836.615</td>\n",
       "      <td>2017</td>\n",
       "      <td>1</td>\n",
       "      <td>겨울</td>\n",
       "    </tr>\n",
       "    <tr>\n",
       "      <th>2</th>\n",
       "      <td>서귀포시</td>\n",
       "      <td>남원읍</td>\n",
       "      <td>여관업</td>\n",
       "      <td>남성</td>\n",
       "      <td>6283900</td>\n",
       "      <td>4365500.518</td>\n",
       "      <td>380992.059</td>\n",
       "      <td>2844836.615</td>\n",
       "      <td>2017</td>\n",
       "      <td>1</td>\n",
       "      <td>겨울</td>\n",
       "    </tr>\n",
       "  </tbody>\n",
       "</table>\n",
       "</div>"
      ],
      "text/plain": [
       "    시도명 읍면동명         업종명  성별     이용금액         거주인구        근무인구         방문인구  \\\n",
       "0  서귀포시  남원읍  건강보조식품 소매업  남성   137500  4365500.518  380992.059  2844836.615   \n",
       "1  서귀포시  남원읍    비알콜 음료점업  남성  2904000  4365500.518  380992.059  2844836.615   \n",
       "2  서귀포시  남원읍         여관업  남성  6283900  4365500.518  380992.059  2844836.615   \n",
       "\n",
       "     연도  월  계절  \n",
       "0  2017  1  겨울  \n",
       "1  2017  1  겨울  \n",
       "2  2017  1  겨울  "
      ]
     },
     "execution_count": 55,
     "metadata": {},
     "output_type": "execute_result"
    }
   ],
   "source": [
    "#계절 칼럼이 생성된 것을 확인\n",
    "df_cd.head(3)"
   ]
  },
  {
   "cell_type": "markdown",
   "id": "f1321e43",
   "metadata": {},
   "source": [
    "### 1.1.3 업종명 대분류 column 생성"
   ]
  },
  {
   "cell_type": "markdown",
   "id": "52faaf4b",
   "metadata": {},
   "source": [
    ">아이디어 : 소매업, 음식점업, 입대업 등등으로 크게 분류해서 대분류명별 구매금액을 나타낼 수 있다.  \n",
    ">그리고 음식점업 중에서 한식, 중식, 일식 소분류로 나누어 각 분류별 구매금액도 나타낼 수 있다고 생각"
   ]
  },
  {
   "cell_type": "code",
   "execution_count": 57,
   "id": "9bb9e2df",
   "metadata": {},
   "outputs": [
    {
     "data": {
      "text/plain": [
       "array(['건강보조식품 소매업', '비알콜 음료점업', '여관업', '스포츠 및 레크레이션 용품 임대업', '슈퍼마켓',\n",
       "       '수산물 소매업', '서양식 음식점업', '빵 및 과자류 소매업', '기타음식료품위주종합소매업',\n",
       "       '그외 기타 종합 소매업', '기타 주점업', '기타 외국식 음식점업', '자동차 임대업', '과실 및 채소 소매업',\n",
       "       '중식 음식점업', '골프장 운영업', '육류 소매업', '일반유흥 주점업', '일식 음식점업',\n",
       "       '전시 및 행사 대행업', '차량용 가스 충전업', '차량용 주유소 운영업', '체인화 편의점',\n",
       "       '피자, 햄버거, 샌드위치 및 유사 음식점업', '한식 음식점업', '화장품 및 방향제 소매업', '휴양콘도 운영업',\n",
       "       '욕탕업', '기타 대형 종합 소매업', '그외 기타 스포츠시설 운영업', '관광 민예품 및 선물용품 소매업',\n",
       "       '여행사업', '호텔업', '그외 기타 분류안된 오락관련 서비스업', '내항 여객 운송업', '마사지업',\n",
       "       '기타 수상오락 서비스업', '면세점', '정기 항공 운송업', '버스 운송업', '기타 갬블링 및 베팅업',\n",
       "       '택시 운송업'], dtype=object)"
      ]
     },
     "execution_count": 57,
     "metadata": {},
     "output_type": "execute_result"
    }
   ],
   "source": [
    "#업종명 종류를 살펴볼 예정. -> 소분류를 파악하여 대분류를 고안할 생각\n",
    "\n",
    "df_cd['업종명'].unique()"
   ]
  },
  {
   "cell_type": "markdown",
   "id": "ac1dee17",
   "metadata": {},
   "source": [
    "- 대분류를 총 7 개로 나눌 예정\n",
    "    - 소매업\n",
    "    - 음식점\n",
    "    - 주류점 (주류 소비와 음식 소비 분석을 나누고 싶었음)\n",
    "    - 운송업\n",
    "    - 숙박업\n",
    "    - 기타"
   ]
  },
  {
   "cell_type": "code",
   "execution_count": 102,
   "id": "524b080e",
   "metadata": {},
   "outputs": [],
   "source": [
    "#소분류를 참조하여 대분류 리스트를 생성\n",
    "\n",
    "retail = ['건강보조식품 소매업','슈퍼마켓','수산물 소매업','빵 및 과자류 소매업', '기타음식료품위주종합소매업',\n",
    "         '그외 기타 종합 소매업','과실 및 채소 소매업','육류 소매업','화장품 및 방향제 소매업','기타 대형 종합 소매업',\n",
    "         '관광 민예품 및 선물용품 소매업','체인화 편의점','면세점']\n",
    "\n",
    "food_store = ['서양식 음식점업', '기타 외국식 음식점업','중식 음식점업','일식 음식점업',\n",
    "              '한식 음식점업','피자, 햄버거, 샌드위치 및 유사 음식점업']\n",
    "\n",
    "drink = ['비알콜 음료점업','기타 주점업','일반유흥 주점업']\n",
    "\n",
    "vehicle = ['택시 운송업','버스 운송업','정기 항공 운송업','내항 여객 운송업','자동차 임대업']\n",
    "\n",
    "service = ['그외 기타 분류안된 오락관련 서비스업','기타 수상오락 서비스업']\n",
    "\n",
    "rooms = ['휴양콘도 운영업', '여관업','호텔업']\n",
    "\n",
    "others = [ '스포츠 및 레크레이션 용품 임대업','골프장 운영업', '전시 및 행사 대행업', '차량용 가스 충전업',\n",
    "          '차량용 주유소 운영업','욕탕업',  '그외 기타 스포츠시설 운영업','여행사업', '마사지업','기타 갬블링 및 베팅업']\n",
    "\n",
    "\n"
   ]
  },
  {
   "cell_type": "code",
   "execution_count": 103,
   "id": "cfc4b231",
   "metadata": {},
   "outputs": [],
   "source": [
    "#시리즈에 넣을 데이터를 만들기 위해서 리스트 안에 조건부 정보를 집어 넣기.\n",
    "\n",
    "job_type = []\n",
    "for i in range(len(df_cd['업종명'])):\n",
    "    if df_cd['업종명'][i] in retail:\n",
    "        job_type.append('소매업')\n",
    "    elif df_cd['업종명'][i] in food_store:\n",
    "        job_type.append('음식점')\n",
    "    elif df_cd['업종명'][i] in vehicle:\n",
    "        job_type.append('운송업')\n",
    "    elif df_cd['업종명'][i] in drink:\n",
    "        job_type.append('주류')\n",
    "    elif df_cd['업종명'][i] in service:\n",
    "        job_type.append('서비스업')\n",
    "    elif df_cd['업종명'][i] in rooms:\n",
    "        job_type.append('숙박업')\n",
    "    else :\n",
    "        \n",
    "        job_type.append('기타')\n",
    "        \n",
    "        \n"
   ]
  },
  {
   "cell_type": "code",
   "execution_count": 105,
   "id": "3d1e941c",
   "metadata": {},
   "outputs": [],
   "source": [
    "#업종 대분류 칼럼을 생성\n",
    "\n",
    "job_type_series = pd.Series(data = job_type)\n",
    "job_type_series\n",
    "df_cd['업종 대분류'] = job_type_series\n"
   ]
  },
  {
   "cell_type": "code",
   "execution_count": 114,
   "id": "e5ca88ff",
   "metadata": {},
   "outputs": [
    {
     "data": {
      "text/html": [
       "<div>\n",
       "<style scoped>\n",
       "    .dataframe tbody tr th:only-of-type {\n",
       "        vertical-align: middle;\n",
       "    }\n",
       "\n",
       "    .dataframe tbody tr th {\n",
       "        vertical-align: top;\n",
       "    }\n",
       "\n",
       "    .dataframe thead th {\n",
       "        text-align: right;\n",
       "    }\n",
       "</style>\n",
       "<table border=\"1\" class=\"dataframe\">\n",
       "  <thead>\n",
       "    <tr style=\"text-align: right;\">\n",
       "      <th></th>\n",
       "      <th>시도명</th>\n",
       "      <th>읍면동명</th>\n",
       "      <th>업종명</th>\n",
       "      <th>성별</th>\n",
       "      <th>이용금액</th>\n",
       "      <th>거주인구</th>\n",
       "      <th>근무인구</th>\n",
       "      <th>방문인구</th>\n",
       "      <th>연도</th>\n",
       "      <th>월</th>\n",
       "      <th>계절</th>\n",
       "      <th>업종 대분류</th>\n",
       "    </tr>\n",
       "  </thead>\n",
       "  <tbody>\n",
       "    <tr>\n",
       "      <th>5988</th>\n",
       "      <td>제주시</td>\n",
       "      <td>오라동</td>\n",
       "      <td>화장품 및 방향제 소매업</td>\n",
       "      <td>여성</td>\n",
       "      <td>10163000</td>\n",
       "      <td>4.326104e+06</td>\n",
       "      <td>527475.309</td>\n",
       "      <td>4121585.687</td>\n",
       "      <td>2017</td>\n",
       "      <td>3</td>\n",
       "      <td>봄</td>\n",
       "      <td>소매업</td>\n",
       "    </tr>\n",
       "    <tr>\n",
       "      <th>10493</th>\n",
       "      <td>제주시</td>\n",
       "      <td>외도동</td>\n",
       "      <td>서양식 음식점업</td>\n",
       "      <td>남성</td>\n",
       "      <td>32005800</td>\n",
       "      <td>2.762131e+06</td>\n",
       "      <td>162904.470</td>\n",
       "      <td>1737559.740</td>\n",
       "      <td>2017</td>\n",
       "      <td>5</td>\n",
       "      <td>봄</td>\n",
       "      <td>음식점</td>\n",
       "    </tr>\n",
       "    <tr>\n",
       "      <th>88829</th>\n",
       "      <td>서귀포시</td>\n",
       "      <td>예래동</td>\n",
       "      <td>피자, 햄버거, 샌드위치 및 유사 음식점업</td>\n",
       "      <td>남성</td>\n",
       "      <td>16693200</td>\n",
       "      <td>1.157064e+06</td>\n",
       "      <td>245775.051</td>\n",
       "      <td>1385210.370</td>\n",
       "      <td>2020</td>\n",
       "      <td>4</td>\n",
       "      <td>봄</td>\n",
       "      <td>음식점</td>\n",
       "    </tr>\n",
       "    <tr>\n",
       "      <th>86796</th>\n",
       "      <td>서귀포시</td>\n",
       "      <td>중앙동</td>\n",
       "      <td>한식 음식점업</td>\n",
       "      <td>남성</td>\n",
       "      <td>561208616</td>\n",
       "      <td>6.077867e+05</td>\n",
       "      <td>183651.541</td>\n",
       "      <td>1321570.507</td>\n",
       "      <td>2020</td>\n",
       "      <td>3</td>\n",
       "      <td>봄</td>\n",
       "      <td>음식점</td>\n",
       "    </tr>\n",
       "    <tr>\n",
       "      <th>12723</th>\n",
       "      <td>제주시</td>\n",
       "      <td>외도동</td>\n",
       "      <td>슈퍼마켓</td>\n",
       "      <td>남성</td>\n",
       "      <td>198826600</td>\n",
       "      <td>2.702619e+06</td>\n",
       "      <td>159831.726</td>\n",
       "      <td>1657791.777</td>\n",
       "      <td>2017</td>\n",
       "      <td>6</td>\n",
       "      <td>여름</td>\n",
       "      <td>소매업</td>\n",
       "    </tr>\n",
       "    <tr>\n",
       "      <th>26088</th>\n",
       "      <td>제주시</td>\n",
       "      <td>애월읍</td>\n",
       "      <td>일식 음식점업</td>\n",
       "      <td>남성</td>\n",
       "      <td>37094230</td>\n",
       "      <td>1.101790e+07</td>\n",
       "      <td>1365130.973</td>\n",
       "      <td>8033398.090</td>\n",
       "      <td>2017</td>\n",
       "      <td>12</td>\n",
       "      <td>겨울</td>\n",
       "      <td>음식점</td>\n",
       "    </tr>\n",
       "    <tr>\n",
       "      <th>23640</th>\n",
       "      <td>제주시</td>\n",
       "      <td>삼도1동</td>\n",
       "      <td>스포츠 및 레크레이션 용품 임대업</td>\n",
       "      <td>남성</td>\n",
       "      <td>20916540</td>\n",
       "      <td>2.721843e+06</td>\n",
       "      <td>212847.698</td>\n",
       "      <td>2209794.134</td>\n",
       "      <td>2017</td>\n",
       "      <td>11</td>\n",
       "      <td>가을</td>\n",
       "      <td>기타</td>\n",
       "    </tr>\n",
       "    <tr>\n",
       "      <th>22220</th>\n",
       "      <td>제주시</td>\n",
       "      <td>조천읍</td>\n",
       "      <td>건강보조식품 소매업</td>\n",
       "      <td>여성</td>\n",
       "      <td>1075400</td>\n",
       "      <td>5.698116e+06</td>\n",
       "      <td>512400.195</td>\n",
       "      <td>5053416.986</td>\n",
       "      <td>2017</td>\n",
       "      <td>10</td>\n",
       "      <td>가을</td>\n",
       "      <td>소매업</td>\n",
       "    </tr>\n",
       "    <tr>\n",
       "      <th>51421</th>\n",
       "      <td>제주시</td>\n",
       "      <td>이도1동</td>\n",
       "      <td>비알콜 음료점업</td>\n",
       "      <td>여성</td>\n",
       "      <td>7797050</td>\n",
       "      <td>2.427119e+06</td>\n",
       "      <td>622438.495</td>\n",
       "      <td>2725292.563</td>\n",
       "      <td>2018</td>\n",
       "      <td>11</td>\n",
       "      <td>가을</td>\n",
       "      <td>주류</td>\n",
       "    </tr>\n",
       "    <tr>\n",
       "      <th>75954</th>\n",
       "      <td>제주시</td>\n",
       "      <td>삼도2동</td>\n",
       "      <td>관광 민예품 및 선물용품 소매업</td>\n",
       "      <td>여성</td>\n",
       "      <td>4865000</td>\n",
       "      <td>1.545784e+06</td>\n",
       "      <td>300213.003</td>\n",
       "      <td>2051576.666</td>\n",
       "      <td>2019</td>\n",
       "      <td>10</td>\n",
       "      <td>가을</td>\n",
       "      <td>소매업</td>\n",
       "    </tr>\n",
       "  </tbody>\n",
       "</table>\n",
       "</div>"
      ],
      "text/plain": [
       "        시도명  읍면동명                      업종명  성별       이용금액          거주인구  \\\n",
       "5988    제주시   오라동            화장품 및 방향제 소매업  여성   10163000  4.326104e+06   \n",
       "10493   제주시   외도동                 서양식 음식점업  남성   32005800  2.762131e+06   \n",
       "88829  서귀포시   예래동  피자, 햄버거, 샌드위치 및 유사 음식점업  남성   16693200  1.157064e+06   \n",
       "86796  서귀포시   중앙동                  한식 음식점업  남성  561208616  6.077867e+05   \n",
       "12723   제주시   외도동                     슈퍼마켓  남성  198826600  2.702619e+06   \n",
       "26088   제주시   애월읍                  일식 음식점업  남성   37094230  1.101790e+07   \n",
       "23640   제주시  삼도1동       스포츠 및 레크레이션 용품 임대업  남성   20916540  2.721843e+06   \n",
       "22220   제주시   조천읍               건강보조식품 소매업  여성    1075400  5.698116e+06   \n",
       "51421   제주시  이도1동                 비알콜 음료점업  여성    7797050  2.427119e+06   \n",
       "75954   제주시  삼도2동        관광 민예품 및 선물용품 소매업  여성    4865000  1.545784e+06   \n",
       "\n",
       "              근무인구         방문인구    연도   월  계절 업종 대분류  \n",
       "5988    527475.309  4121585.687  2017   3   봄    소매업  \n",
       "10493   162904.470  1737559.740  2017   5   봄    음식점  \n",
       "88829   245775.051  1385210.370  2020   4   봄    음식점  \n",
       "86796   183651.541  1321570.507  2020   3   봄    음식점  \n",
       "12723   159831.726  1657791.777  2017   6  여름    소매업  \n",
       "26088  1365130.973  8033398.090  2017  12  겨울    음식점  \n",
       "23640   212847.698  2209794.134  2017  11  가을     기타  \n",
       "22220   512400.195  5053416.986  2017  10  가을    소매업  \n",
       "51421   622438.495  2725292.563  2018  11  가을     주류  \n",
       "75954   300213.003  2051576.666  2019  10  가을    소매업  "
      ]
     },
     "execution_count": 114,
     "metadata": {},
     "output_type": "execute_result"
    }
   ],
   "source": [
    "#잘 됐는지 확인하기\n",
    "\n",
    "df_cd.sample(10)"
   ]
  },
  {
   "cell_type": "code",
   "execution_count": null,
   "id": "6d83912f",
   "metadata": {},
   "outputs": [],
   "source": []
  },
  {
   "cell_type": "markdown",
   "id": "6723909b",
   "metadata": {},
   "source": [
    "### outlier 제거"
   ]
  },
  {
   "cell_type": "code",
   "execution_count": 185,
   "id": "5ef95bed",
   "metadata": {},
   "outputs": [
    {
     "data": {
      "text/plain": [
       "<AxesSubplot:>"
      ]
     },
     "execution_count": 185,
     "metadata": {},
     "output_type": "execute_result"
    },
    {
     "data": {
      "image/png": "[encoded data removed]",
      "text/plain": [
       "<Figure size 720x360 with 1 Axes>"
      ]
     },
     "metadata": {
      "needs_background": "light"
     },
     "output_type": "display_data"
    }
   ],
   "source": [
    "#이용금액 outlier 확인 후 제거\n",
    "\n",
    "plt.figure(figsize  = (10,5))\n",
    "sns.boxplot(data = df_cd['이용금액'], color = 'green')"
   ]
  },
  {
   "cell_type": "code",
   "execution_count": 186,
   "id": "131bb939",
   "metadata": {},
   "outputs": [
    {
     "data": {
      "text/plain": [
       "<AxesSubplot:>"
      ]
     },
     "execution_count": 186,
     "metadata": {},
     "output_type": "execute_result"
    },
    {
     "data": {
      "image/png": "[encoded data removed]",
      "text/plain": [
       "<Figure size 720x360 with 1 Axes>"
      ]
     },
     "metadata": {
      "needs_background": "light"
     },
     "output_type": "display_data"
    }
   ],
   "source": [
    "plt.figure(figsize  = (10,5))\n",
    "sns.boxplot(data = df_cd['거주인구'], color = 'green')"
   ]
  },
  {
   "cell_type": "code",
   "execution_count": 187,
   "id": "27abde94",
   "metadata": {},
   "outputs": [
    {
     "data": {
      "text/plain": [
       "<AxesSubplot:>"
      ]
     },
     "execution_count": 187,
     "metadata": {},
     "output_type": "execute_result"
    },
    {
     "data": {
      "image/png": "[encoded data removed]",
      "text/plain": [
       "<Figure size 720x360 with 1 Axes>"
      ]
     },
     "metadata": {
      "needs_background": "light"
     },
     "output_type": "display_data"
    }
   ],
   "source": [
    "plt.figure(figsize  = (10,5))\n",
    "sns.boxplot(data = df_cd['근무인구'], color = 'green')"
   ]
  },
  {
   "cell_type": "code",
   "execution_count": 188,
   "id": "037ad0ea",
   "metadata": {},
   "outputs": [
    {
     "data": {
      "text/plain": [
       "<AxesSubplot:>"
      ]
     },
     "execution_count": 188,
     "metadata": {},
     "output_type": "execute_result"
    },
    {
     "data": {
      "image/png": "[encoded data removed]",
      "text/plain": [
       "<Figure size 720x360 with 1 Axes>"
      ]
     },
     "metadata": {
      "needs_background": "light"
     },
     "output_type": "display_data"
    }
   ],
   "source": [
    "plt.figure(figsize  = (10,5))\n",
    "sns.boxplot(data = df_cd['방문인구'], color = 'green')"
   ]
  },
  {
   "cell_type": "code",
   "execution_count": 189,
   "id": "565a5d34",
   "metadata": {},
   "outputs": [],
   "source": [
    "def find_outlier_index(col_name):\n",
    "    q1, q3 = np.percentile(df_cd[col_name], [25,75])\n",
    "    iqr = q3 - q1\n",
    "    lower_bound = q1 - (iqr * 1.5)\n",
    "    upper_bound = q3 + (iqr * 1.5)\n",
    "    index = np.where((df_cd[col_name] > upper_bound) | (df_cd[col_name] < lower_bound))\n",
    "    \n",
    "    return index\n",
    "    "
   ]
  },
  {
   "cell_type": "code",
   "execution_count": 190,
   "id": "07f354aa",
   "metadata": {},
   "outputs": [],
   "source": [
    "usage_amount_outiler_index = find_outlier_index('이용금액')[0]\n",
    "resi_pop_outlier_index = find_outlier_index('거주인구')[0]\n",
    "work_pop_outlier_index = find_outlier_index('근무인구')[0]\n",
    "visit_pop_outlier_index = find_outlier_index('방문인구')[0]"
   ]
  },
  {
   "cell_type": "code",
   "execution_count": 191,
   "id": "3d9c2f3e",
   "metadata": {},
   "outputs": [
    {
     "data": {
      "text/plain": [
       "array([  974,   998,  1009, ..., 90156, 90192, 90194], dtype=int64)"
      ]
     },
     "execution_count": 191,
     "metadata": {},
     "output_type": "execute_result"
    }
   ],
   "source": [
    "usage_amount_outiler_index\n",
    "resi_pop_outlier_index \n",
    "work_pop_outlier_index\n",
    "visit_pop_outlier_index"
   ]
  },
  {
   "cell_type": "code",
   "execution_count": 192,
   "id": "6b63338c",
   "metadata": {},
   "outputs": [
    {
     "data": {
      "text/plain": [
       "8        182203998\n",
       "16       285901584\n",
       "23       255016971\n",
       "26       231687924\n",
       "33       128868518\n",
       "           ...    \n",
       "90506    161139880\n",
       "90512    212140680\n",
       "90517    261235390\n",
       "90522    223419484\n",
       "90529    157709014\n",
       "Name: 이용금액, Length: 11376, dtype: int64"
      ]
     },
     "execution_count": 192,
     "metadata": {},
     "output_type": "execute_result"
    }
   ],
   "source": [
    "df_cd.loc[usage_amount_outiler_index, '이용금액']"
   ]
  },
  {
   "cell_type": "code",
   "execution_count": 193,
   "id": "3fc0a4a8",
   "metadata": {},
   "outputs": [
    {
     "data": {
      "text/plain": [
       "974      17896202.46\n",
       "998      15752619.53\n",
       "1009     15752619.53\n",
       "1010     15752619.53\n",
       "1011     15752619.53\n",
       "            ...     \n",
       "90154    18438717.24\n",
       "90155    18438717.24\n",
       "90156    18438717.24\n",
       "90192    18438717.24\n",
       "90194    18438717.24\n",
       "Name: 거주인구, Length: 8161, dtype: float64"
      ]
     },
     "execution_count": 193,
     "metadata": {},
     "output_type": "execute_result"
    }
   ],
   "source": [
    "df_cd.loc[resi_pop_outlier_index,'거주인구']"
   ]
  },
  {
   "cell_type": "code",
   "execution_count": 194,
   "id": "ae194d01",
   "metadata": {},
   "outputs": [
    {
     "data": {
      "text/plain": [
       "974      1759925.530\n",
       "998      1803517.678\n",
       "1009     1803517.678\n",
       "1010     1803517.678\n",
       "1011     1803517.678\n",
       "            ...     \n",
       "90154    1842424.099\n",
       "90155    1842424.099\n",
       "90156    1842424.099\n",
       "90192    1842424.099\n",
       "90194    1842424.099\n",
       "Name: 근무인구, Length: 10825, dtype: float64"
      ]
     },
     "execution_count": 194,
     "metadata": {},
     "output_type": "execute_result"
    }
   ],
   "source": [
    "df_cd.loc[work_pop_outlier_index,'근무인구']"
   ]
  },
  {
   "cell_type": "code",
   "execution_count": 195,
   "id": "ac437292",
   "metadata": {},
   "outputs": [
    {
     "data": {
      "text/plain": [
       "974      7542506.038\n",
       "998      8221676.280\n",
       "1009     8221676.280\n",
       "1010     8221676.280\n",
       "1011     8221676.280\n",
       "            ...     \n",
       "90154    7189000.972\n",
       "90155    7189000.972\n",
       "90156    7189000.972\n",
       "90192    7189000.972\n",
       "90194    7189000.972\n",
       "Name: 방문인구, Length: 9190, dtype: float64"
      ]
     },
     "execution_count": 195,
     "metadata": {},
     "output_type": "execute_result"
    }
   ],
   "source": [
    "df_cd.loc[visit_pop_outlier_index,'방문인구']"
   ]
  },
  {
   "cell_type": "code",
   "execution_count": 196,
   "id": "ecc4c33e",
   "metadata": {},
   "outputs": [],
   "source": [
    "outlier_index = np.concatenate((usage_amount_outiler_index,\n",
    "                resi_pop_outlier_index,\n",
    "                work_pop_outlier_index,\n",
    "                visit_pop_outlier_index                \n",
    "               ), axis = None)"
   ]
  },
  {
   "cell_type": "code",
   "execution_count": 197,
   "id": "2ab66ddc",
   "metadata": {},
   "outputs": [
    {
     "data": {
      "text/plain": [
       "array([    8,    16,    23, ..., 90156, 90192, 90194], dtype=int64)"
      ]
     },
     "execution_count": 197,
     "metadata": {},
     "output_type": "execute_result"
    }
   ],
   "source": [
    "outlier_index"
   ]
  },
  {
   "cell_type": "code",
   "execution_count": 198,
   "id": "a3104e83",
   "metadata": {},
   "outputs": [],
   "source": [
    "non_outlier_index = []\n",
    "for i in df_cd.index:\n",
    "    if i not in outlier_index:\n",
    "        non_outlier_index.append(i)\n"
   ]
  },
  {
   "cell_type": "code",
   "execution_count": 199,
   "id": "06dc5c05",
   "metadata": {},
   "outputs": [
    {
     "data": {
      "text/html": [
       "<div>\n",
       "<style scoped>\n",
       "    .dataframe tbody tr th:only-of-type {\n",
       "        vertical-align: middle;\n",
       "    }\n",
       "\n",
       "    .dataframe tbody tr th {\n",
       "        vertical-align: top;\n",
       "    }\n",
       "\n",
       "    .dataframe thead th {\n",
       "        text-align: right;\n",
       "    }\n",
       "</style>\n",
       "<table border=\"1\" class=\"dataframe\">\n",
       "  <thead>\n",
       "    <tr style=\"text-align: right;\">\n",
       "      <th></th>\n",
       "      <th>시도명</th>\n",
       "      <th>읍면동명</th>\n",
       "      <th>업종명</th>\n",
       "      <th>성별</th>\n",
       "      <th>이용금액</th>\n",
       "      <th>거주인구</th>\n",
       "      <th>근무인구</th>\n",
       "      <th>방문인구</th>\n",
       "      <th>연도</th>\n",
       "      <th>월</th>\n",
       "    </tr>\n",
       "  </thead>\n",
       "  <tbody>\n",
       "    <tr>\n",
       "      <th>0</th>\n",
       "      <td>서귀포시</td>\n",
       "      <td>남원읍</td>\n",
       "      <td>건강보조식품 소매업</td>\n",
       "      <td>남성</td>\n",
       "      <td>137500</td>\n",
       "      <td>4365500.518</td>\n",
       "      <td>380992.059</td>\n",
       "      <td>2844836.615</td>\n",
       "      <td>2017</td>\n",
       "      <td>1</td>\n",
       "    </tr>\n",
       "    <tr>\n",
       "      <th>1</th>\n",
       "      <td>서귀포시</td>\n",
       "      <td>남원읍</td>\n",
       "      <td>비알콜 음료점업</td>\n",
       "      <td>남성</td>\n",
       "      <td>2904000</td>\n",
       "      <td>4365500.518</td>\n",
       "      <td>380992.059</td>\n",
       "      <td>2844836.615</td>\n",
       "      <td>2017</td>\n",
       "      <td>1</td>\n",
       "    </tr>\n",
       "    <tr>\n",
       "      <th>2</th>\n",
       "      <td>서귀포시</td>\n",
       "      <td>남원읍</td>\n",
       "      <td>여관업</td>\n",
       "      <td>남성</td>\n",
       "      <td>6283900</td>\n",
       "      <td>4365500.518</td>\n",
       "      <td>380992.059</td>\n",
       "      <td>2844836.615</td>\n",
       "      <td>2017</td>\n",
       "      <td>1</td>\n",
       "    </tr>\n",
       "    <tr>\n",
       "      <th>3</th>\n",
       "      <td>서귀포시</td>\n",
       "      <td>남원읍</td>\n",
       "      <td>스포츠 및 레크레이션 용품 임대업</td>\n",
       "      <td>남성</td>\n",
       "      <td>8671410</td>\n",
       "      <td>4365500.518</td>\n",
       "      <td>380992.059</td>\n",
       "      <td>2844836.615</td>\n",
       "      <td>2017</td>\n",
       "      <td>1</td>\n",
       "    </tr>\n",
       "    <tr>\n",
       "      <th>4</th>\n",
       "      <td>서귀포시</td>\n",
       "      <td>남원읍</td>\n",
       "      <td>슈퍼마켓</td>\n",
       "      <td>남성</td>\n",
       "      <td>55925490</td>\n",
       "      <td>4365500.518</td>\n",
       "      <td>380992.059</td>\n",
       "      <td>2844836.615</td>\n",
       "      <td>2017</td>\n",
       "      <td>1</td>\n",
       "    </tr>\n",
       "    <tr>\n",
       "      <th>...</th>\n",
       "      <td>...</td>\n",
       "      <td>...</td>\n",
       "      <td>...</td>\n",
       "      <td>...</td>\n",
       "      <td>...</td>\n",
       "      <td>...</td>\n",
       "      <td>...</td>\n",
       "      <td>...</td>\n",
       "      <td>...</td>\n",
       "      <td>...</td>\n",
       "    </tr>\n",
       "    <tr>\n",
       "      <th>90538</th>\n",
       "      <td>제주시</td>\n",
       "      <td>화북동</td>\n",
       "      <td>수산물 소매업</td>\n",
       "      <td>여성</td>\n",
       "      <td>2216500</td>\n",
       "      <td>9241265.990</td>\n",
       "      <td>481026.216</td>\n",
       "      <td>2598152.464</td>\n",
       "      <td>2020</td>\n",
       "      <td>4</td>\n",
       "    </tr>\n",
       "    <tr>\n",
       "      <th>90539</th>\n",
       "      <td>제주시</td>\n",
       "      <td>화북동</td>\n",
       "      <td>서양식 음식점업</td>\n",
       "      <td>여성</td>\n",
       "      <td>5374000</td>\n",
       "      <td>9241265.990</td>\n",
       "      <td>481026.216</td>\n",
       "      <td>2598152.464</td>\n",
       "      <td>2020</td>\n",
       "      <td>4</td>\n",
       "    </tr>\n",
       "    <tr>\n",
       "      <th>90540</th>\n",
       "      <td>제주시</td>\n",
       "      <td>화북동</td>\n",
       "      <td>빵 및 과자류 소매업</td>\n",
       "      <td>여성</td>\n",
       "      <td>24042720</td>\n",
       "      <td>9241265.990</td>\n",
       "      <td>481026.216</td>\n",
       "      <td>2598152.464</td>\n",
       "      <td>2020</td>\n",
       "      <td>4</td>\n",
       "    </tr>\n",
       "    <tr>\n",
       "      <th>90541</th>\n",
       "      <td>제주시</td>\n",
       "      <td>화북동</td>\n",
       "      <td>육류 소매업</td>\n",
       "      <td>여성</td>\n",
       "      <td>24474030</td>\n",
       "      <td>9241265.990</td>\n",
       "      <td>481026.216</td>\n",
       "      <td>2598152.464</td>\n",
       "      <td>2020</td>\n",
       "      <td>4</td>\n",
       "    </tr>\n",
       "    <tr>\n",
       "      <th>90542</th>\n",
       "      <td>제주시</td>\n",
       "      <td>화북동</td>\n",
       "      <td>화장품 및 방향제 소매업</td>\n",
       "      <td>여성</td>\n",
       "      <td>14553710</td>\n",
       "      <td>9241265.990</td>\n",
       "      <td>481026.216</td>\n",
       "      <td>2598152.464</td>\n",
       "      <td>2020</td>\n",
       "      <td>4</td>\n",
       "    </tr>\n",
       "  </tbody>\n",
       "</table>\n",
       "<p>69939 rows × 10 columns</p>\n",
       "</div>"
      ],
      "text/plain": [
       "        시도명 읍면동명                 업종명  성별      이용금액         거주인구        근무인구  \\\n",
       "0      서귀포시  남원읍          건강보조식품 소매업  남성    137500  4365500.518  380992.059   \n",
       "1      서귀포시  남원읍            비알콜 음료점업  남성   2904000  4365500.518  380992.059   \n",
       "2      서귀포시  남원읍                 여관업  남성   6283900  4365500.518  380992.059   \n",
       "3      서귀포시  남원읍  스포츠 및 레크레이션 용품 임대업  남성   8671410  4365500.518  380992.059   \n",
       "4      서귀포시  남원읍                슈퍼마켓  남성  55925490  4365500.518  380992.059   \n",
       "...     ...  ...                 ...  ..       ...          ...         ...   \n",
       "90538   제주시  화북동             수산물 소매업  여성   2216500  9241265.990  481026.216   \n",
       "90539   제주시  화북동            서양식 음식점업  여성   5374000  9241265.990  481026.216   \n",
       "90540   제주시  화북동         빵 및 과자류 소매업  여성  24042720  9241265.990  481026.216   \n",
       "90541   제주시  화북동              육류 소매업  여성  24474030  9241265.990  481026.216   \n",
       "90542   제주시  화북동       화장품 및 방향제 소매업  여성  14553710  9241265.990  481026.216   \n",
       "\n",
       "              방문인구    연도  월  \n",
       "0      2844836.615  2017  1  \n",
       "1      2844836.615  2017  1  \n",
       "2      2844836.615  2017  1  \n",
       "3      2844836.615  2017  1  \n",
       "4      2844836.615  2017  1  \n",
       "...            ...   ... ..  \n",
       "90538  2598152.464  2020  4  \n",
       "90539  2598152.464  2020  4  \n",
       "90540  2598152.464  2020  4  \n",
       "90541  2598152.464  2020  4  \n",
       "90542  2598152.464  2020  4  \n",
       "\n",
       "[69939 rows x 10 columns]"
      ]
     },
     "execution_count": 199,
     "metadata": {},
     "output_type": "execute_result"
    }
   ],
   "source": [
    "df_cd2 = df_cd.loc[non_outlier_index]\n",
    "df_cd2"
   ]
  },
  {
   "cell_type": "markdown",
   "id": "0cf739e5",
   "metadata": {},
   "source": [
    "# 2. 탐색적 데이터 분석"
   ]
  },
  {
   "cell_type": "markdown",
   "id": "3ac7d8bf",
   "metadata": {},
   "source": [
    "## 2.1 각 칼럼별 데이터 type 확인"
   ]
  },
  {
   "cell_type": "markdown",
   "id": "9dff3ca1",
   "metadata": {},
   "source": [
    "> 각 칼럼별 데이터 유형을 확인해서 어떤 탐색 기법을 사용할지 판단"
   ]
  },
  {
   "cell_type": "markdown",
   "id": "e75f6d8d",
   "metadata": {},
   "source": [
    "|범주형 데이터||구간 데이터|\n",
    "|----------|----------|----------|\n",
    "|시도명|  |이용금액|\n",
    "|읍면동명|  |거주인구|\n",
    "|업종명|  |근무인구|\n",
    "|성별|  |방문인구|\n",
    "|계절|  | |\n",
    "|업종 대분류|  | |\n",
    "|연도|  | |\n",
    "|월|  | |"
   ]
  },
  {
   "cell_type": "code",
   "execution_count": 116,
   "id": "528ea2cb",
   "metadata": {},
   "outputs": [
    {
     "name": "stdout",
     "output_type": "stream",
     "text": [
      "<class 'pandas.core.frame.DataFrame'>\n",
      "RangeIndex: 90543 entries, 0 to 90542\n",
      "Data columns (total 12 columns):\n",
      " #   Column  Non-Null Count  Dtype  \n",
      "---  ------  --------------  -----  \n",
      " 0   시도명     90543 non-null  object \n",
      " 1   읍면동명    90543 non-null  object \n",
      " 2   업종명     90543 non-null  object \n",
      " 3   성별      90543 non-null  object \n",
      " 4   이용금액    90543 non-null  int64  \n",
      " 5   거주인구    90543 non-null  float64\n",
      " 6   근무인구    90543 non-null  float64\n",
      " 7   방문인구    90543 non-null  float64\n",
      " 8   연도      90543 non-null  int32  \n",
      " 9   월       90543 non-null  int32  \n",
      " 10  계절      90543 non-null  object \n",
      " 11  업종 대분류  90543 non-null  object \n",
      "dtypes: float64(3), int32(2), int64(1), object(6)\n",
      "memory usage: 7.6+ MB\n"
     ]
    }
   ],
   "source": [
    "#각 칼럼별 데이터 유형을 확인.\n",
    "\n",
    "df_cd.info()"
   ]
  },
  {
   "cell_type": "markdown",
   "id": "24ce9a0d",
   "metadata": {},
   "source": [
    "## 2.2 각 칼럼별 수치와 그래프 "
   ]
  },
  {
   "cell_type": "markdown",
   "id": "12bbc533",
   "metadata": {},
   "source": [
    "### 2.2.1 범주형 데이터"
   ]
  },
  {
   "cell_type": "code",
   "execution_count": 129,
   "id": "59eeed8b",
   "metadata": {},
   "outputs": [],
   "source": [
    "import pandas as pd\n",
    "import numpy as np\n",
    "import matplotlib as mp\n",
    "import matplotlib.pyplot as plt\n",
    "import seaborn as sns"
   ]
  },
  {
   "cell_type": "code",
   "execution_count": 136,
   "id": "11356e30",
   "metadata": {},
   "outputs": [
    {
     "data": {
      "text/html": [
       "<div>\n",
       "<style scoped>\n",
       "    .dataframe tbody tr th:only-of-type {\n",
       "        vertical-align: middle;\n",
       "    }\n",
       "\n",
       "    .dataframe tbody tr th {\n",
       "        vertical-align: top;\n",
       "    }\n",
       "\n",
       "    .dataframe thead th {\n",
       "        text-align: right;\n",
       "    }\n",
       "</style>\n",
       "<table border=\"1\" class=\"dataframe\">\n",
       "  <thead>\n",
       "    <tr style=\"text-align: right;\">\n",
       "      <th></th>\n",
       "      <th>시도명</th>\n",
       "      <th>읍면동명</th>\n",
       "      <th>업종명</th>\n",
       "      <th>성별</th>\n",
       "      <th>계절</th>\n",
       "      <th>업종 대분류</th>\n",
       "      <th>연도</th>\n",
       "      <th>월</th>\n",
       "    </tr>\n",
       "  </thead>\n",
       "  <tbody>\n",
       "    <tr>\n",
       "      <th>0</th>\n",
       "      <td>서귀포시</td>\n",
       "      <td>남원읍</td>\n",
       "      <td>건강보조식품 소매업</td>\n",
       "      <td>남성</td>\n",
       "      <td>겨울</td>\n",
       "      <td>소매업</td>\n",
       "      <td>2017</td>\n",
       "      <td>1</td>\n",
       "    </tr>\n",
       "    <tr>\n",
       "      <th>1</th>\n",
       "      <td>서귀포시</td>\n",
       "      <td>남원읍</td>\n",
       "      <td>비알콜 음료점업</td>\n",
       "      <td>남성</td>\n",
       "      <td>겨울</td>\n",
       "      <td>주류</td>\n",
       "      <td>2017</td>\n",
       "      <td>1</td>\n",
       "    </tr>\n",
       "    <tr>\n",
       "      <th>2</th>\n",
       "      <td>서귀포시</td>\n",
       "      <td>남원읍</td>\n",
       "      <td>여관업</td>\n",
       "      <td>남성</td>\n",
       "      <td>겨울</td>\n",
       "      <td>숙박업</td>\n",
       "      <td>2017</td>\n",
       "      <td>1</td>\n",
       "    </tr>\n",
       "    <tr>\n",
       "      <th>3</th>\n",
       "      <td>서귀포시</td>\n",
       "      <td>남원읍</td>\n",
       "      <td>스포츠 및 레크레이션 용품 임대업</td>\n",
       "      <td>남성</td>\n",
       "      <td>겨울</td>\n",
       "      <td>기타</td>\n",
       "      <td>2017</td>\n",
       "      <td>1</td>\n",
       "    </tr>\n",
       "    <tr>\n",
       "      <th>4</th>\n",
       "      <td>서귀포시</td>\n",
       "      <td>남원읍</td>\n",
       "      <td>슈퍼마켓</td>\n",
       "      <td>남성</td>\n",
       "      <td>겨울</td>\n",
       "      <td>소매업</td>\n",
       "      <td>2017</td>\n",
       "      <td>1</td>\n",
       "    </tr>\n",
       "  </tbody>\n",
       "</table>\n",
       "</div>"
      ],
      "text/plain": [
       "    시도명 읍면동명                 업종명  성별  계절 업종 대분류    연도  월\n",
       "0  서귀포시  남원읍          건강보조식품 소매업  남성  겨울    소매업  2017  1\n",
       "1  서귀포시  남원읍            비알콜 음료점업  남성  겨울     주류  2017  1\n",
       "2  서귀포시  남원읍                 여관업  남성  겨울    숙박업  2017  1\n",
       "3  서귀포시  남원읍  스포츠 및 레크레이션 용품 임대업  남성  겨울     기타  2017  1\n",
       "4  서귀포시  남원읍                슈퍼마켓  남성  겨울    소매업  2017  1"
      ]
     },
     "execution_count": 136,
     "metadata": {},
     "output_type": "execute_result"
    }
   ],
   "source": [
    "#범주형 데이터만 가져와서 데이터 프레임 살펴보기\n",
    "\n",
    "df_cd[['시도명','읍면동명','업종명','성별','계절','업종 대분류','연도','월']].head()"
   ]
  },
  {
   "cell_type": "markdown",
   "id": "1fd65610",
   "metadata": {},
   "source": [
    "##### 시도명"
   ]
  },
  {
   "cell_type": "code",
   "execution_count": 123,
   "id": "eebac58a",
   "metadata": {},
   "outputs": [
    {
     "data": {
      "text/plain": [
       "array(['서귀포시', '제주시'], dtype=object)"
      ]
     },
     "execution_count": 123,
     "metadata": {},
     "output_type": "execute_result"
    }
   ],
   "source": [
    "#1 - 시도명\n",
    "#두 유형의 데이터를 가짐\n",
    "\n",
    "df_cd['시도명'].unique()"
   ]
  },
  {
   "cell_type": "code",
   "execution_count": 126,
   "id": "b848a40b",
   "metadata": {},
   "outputs": [
    {
     "data": {
      "text/plain": [
       "제주시     54107\n",
       "서귀포시    36436\n",
       "Name: 시도명, dtype: int64"
      ]
     },
     "execution_count": 126,
     "metadata": {},
     "output_type": "execute_result"
    }
   ],
   "source": [
    "#각 유형의 count 계산 후 시각화\n",
    "\n",
    "count = df_cd['시도명'].value_counts()\n",
    "count"
   ]
  },
  {
   "cell_type": "code",
   "execution_count": 134,
   "id": "c368d0d2",
   "metadata": {},
   "outputs": [
    {
     "data": {
      "text/plain": [
       "<AxesSubplot:ylabel='시도명'>"
      ]
     },
     "execution_count": 134,
     "metadata": {},
     "output_type": "execute_result"
    },
    {
     "data": {
      "image/png": "[encoded data removed]",
      "text/plain": [
       "<Figure size 720x360 with 1 Axes>"
      ]
     },
     "metadata": {
      "needs_background": "light"
     },
     "output_type": "display_data"
    },
    {
     "data": {
      "image/png": "[encoded data removed]",
      "text/plain": [
       "<Figure size 720x360 with 1 Axes>"
      ]
     },
     "metadata": {},
     "output_type": "display_data"
    }
   ],
   "source": [
    "fm = mp.font_manager.FontManager()\n",
    "plt.rcParams['font.family'] = 'Malgun Gothic'\n",
    "\n",
    "plt.figure(figsize=(10,5))\n",
    "count.plot(kind = 'bar')\n",
    "plt.figure(figsize=(10,5))\n",
    "count.plot(kind = 'pie', legend = True, autopct = '%.2f%%')\n"
   ]
  },
  {
   "cell_type": "markdown",
   "id": "a7c44248",
   "metadata": {},
   "source": [
    "제주시가 59.76% 로 40.24 서귀포시 보다 더 많은 행을 가지고 있음.  \n",
    "즉, 제주시에서 소비한 건수가 더 많다고 할 수 있다.  "
   ]
  },
  {
   "cell_type": "markdown",
   "id": "9e7ea145",
   "metadata": {},
   "source": [
    "##### 읍면동명"
   ]
  },
  {
   "cell_type": "code",
   "execution_count": 137,
   "id": "b17f60d4",
   "metadata": {},
   "outputs": [
    {
     "data": {
      "text/plain": [
       "array(['남원읍', '도두동', '대정읍', '대륜동', '동홍동', '대천동', '예래동', '서홍동', '성산읍',\n",
       "       '송산동', '안덕면', '영천동', '건입동', '정방동', '중문동', '표선면', '천지동', '중앙동',\n",
       "       '구좌읍', '효돈동', '노형동', '용담2동', '이호동', '봉개동', '삼도2동', '삼도1동', '아라동',\n",
       "       '삼양동', '애월읍', '연동', '오라동', '외도동', '용담1동', '우도면', '이도2동', '이도1동',\n",
       "       '일도1동', '일도2동', '한림읍', '한경면', '조천읍', '추자면', '화북동'], dtype=object)"
      ]
     },
     "execution_count": 137,
     "metadata": {},
     "output_type": "execute_result"
    }
   ],
   "source": [
    "df_cd['읍면동명'].unique()"
   ]
  },
  {
   "cell_type": "code",
   "execution_count": 140,
   "id": "3fe1ad5c",
   "metadata": {
    "scrolled": true
   },
   "outputs": [],
   "source": [
    "count2 = df_cd['읍면동명'].value_counts()"
   ]
  },
  {
   "cell_type": "code",
   "execution_count": 153,
   "id": "bb986abb",
   "metadata": {},
   "outputs": [
    {
     "data": {
      "text/plain": [
       "<AxesSubplot:ylabel='읍면동명'>"
      ]
     },
     "execution_count": 153,
     "metadata": {},
     "output_type": "execute_result"
    },
    {
     "data": {
      "image/png": "[encoded data removed]",
      "text/plain": [
       "<Figure size 1080x720 with 1 Axes>"
      ]
     },
     "metadata": {
      "needs_background": "light"
     },
     "output_type": "display_data"
    },
    {
     "data": {
      "image/png": "[encoded data removed]",
      "text/plain": [
       "<Figure size 1440x720 with 1 Axes>"
      ]
     },
     "metadata": {},
     "output_type": "display_data"
    }
   ],
   "source": [
    "plt.figure(figsize = (15,10))\n",
    "count2.plot(kind = 'bar')\n",
    "plt.figure(figsize = (20,10))\n",
    "count2.plot(kind = 'pie', autopct = '%.1f%%')"
   ]
  },
  {
   "cell_type": "markdown",
   "id": "14b9e232",
   "metadata": {},
   "source": [
    "노형동이 가장 많은 비율을 가지고 있다.  \n",
    "근데 다른 csv 파일에는 1동, 2동으로 나뉘어져 있지 않고 합쳐져 있기 때문에 맞추기 위해서 합치려고 한다  "
   ]
  },
  {
   "cell_type": "markdown",
   "id": "20ae0f65",
   "metadata": {},
   "source": [
    "> 잠깐 여기서 다시 전처리"
   ]
  },
  {
   "cell_type": "code",
   "execution_count": 156,
   "id": "352dedb3",
   "metadata": {},
   "outputs": [],
   "source": [
    "#용담2동, 삼도2동, 삼도1동, 용담1동, 이도2동, 이도1동, 일도1동, 일도2동 을 \"~동\" 으로 바꾸기\n",
    "df_cd['읍면동명'].replace({'용담2동' : '용담동', '삼도2동' : '삼도동', '삼도1동' : '삼도동',\n",
    "                      '용담1동' : '용담동', '이도2동' : '이도동', '이도1동' : '이도동', '일도1동' : '일도동',\n",
    "                      '일도2동' : '일도동'}, inplace = True)"
   ]
  },
  {
   "cell_type": "code",
   "execution_count": 157,
   "id": "5cd0d5e4",
   "metadata": {},
   "outputs": [
    {
     "data": {
      "text/plain": [
       "array(['남원읍', '도두동', '대정읍', '대륜동', '동홍동', '대천동', '예래동', '서홍동', '성산읍',\n",
       "       '송산동', '안덕면', '영천동', '건입동', '정방동', '중문동', '표선면', '천지동', '중앙동',\n",
       "       '구좌읍', '효돈동', '노형동', '용담동', '이호동', '봉개동', '삼도동', '아라동', '삼양동',\n",
       "       '애월읍', '연동', '오라동', '외도동', '우도면', '이도동', '일도동', '한림읍', '한경면',\n",
       "       '조천읍', '추자면', '화북동'], dtype=object)"
      ]
     },
     "execution_count": 157,
     "metadata": {},
     "output_type": "execute_result"
    }
   ],
   "source": [
    "df_cd['읍면동명'].unique()"
   ]
  },
  {
   "cell_type": "code",
   "execution_count": 162,
   "id": "f92377e3",
   "metadata": {},
   "outputs": [],
   "source": [
    "count2_2=df_cd['읍면동명'].value_counts()"
   ]
  },
  {
   "cell_type": "code",
   "execution_count": null,
   "id": "fe477882",
   "metadata": {},
   "outputs": [],
   "source": [
    "#틀리지 않고 바뀐 것을 확인\n",
    "\n",
    "print(count2['삼도1동'] + count2['삼도2동'] == count2_2['삼도동'], count2['용담2동'] + count2['용담1동'] == count2_2['용담동'])"
   ]
  },
  {
   "cell_type": "code",
   "execution_count": 166,
   "id": "96f46de2",
   "metadata": {},
   "outputs": [
    {
     "data": {
      "text/plain": [
       "<AxesSubplot:ylabel='읍면동명'>"
      ]
     },
     "execution_count": 166,
     "metadata": {},
     "output_type": "execute_result"
    },
    {
     "data": {
      "image/png": "[encoded data removed]",
      "text/plain": [
       "<Figure size 1080x720 with 1 Axes>"
      ]
     },
     "metadata": {
      "needs_background": "light"
     },
     "output_type": "display_data"
    },
    {
     "data": {
      "image/png": "[encoded data removed]",
      "text/plain": [
       "<Figure size 1440x720 with 1 Axes>"
      ]
     },
     "metadata": {},
     "output_type": "display_data"
    }
   ],
   "source": [
    "plt.figure(figsize = (15,10))\n",
    "count2_2.plot(kind = 'bar')\n",
    "plt.figure(figsize = (20,10))\n",
    "count2_2.plot(kind = 'pie', autopct = '%.1f%%')"
   ]
  },
  {
   "cell_type": "markdown",
   "id": "7a732cc8",
   "metadata": {},
   "source": [
    "1동 2동을 합치게 되니 각 칼럼의 도수와 상대도수 비율이 달라지게 됨  \n",
    "본래는 노형동이 가장 큰 상대도수를 가지고 있었는데, 이도 -> 삼도 -> 일도 순으로 높은 도수를 보임"
   ]
  },
  {
   "cell_type": "markdown",
   "id": "4b17d96a",
   "metadata": {},
   "source": [
    "##### 업종명"
   ]
  },
  {
   "cell_type": "code",
   "execution_count": 167,
   "id": "3e17feaf",
   "metadata": {},
   "outputs": [
    {
     "data": {
      "text/plain": [
       "array(['건강보조식품 소매업', '비알콜 음료점업', '여관업', '스포츠 및 레크레이션 용품 임대업', '슈퍼마켓',\n",
       "       '수산물 소매업', '서양식 음식점업', '빵 및 과자류 소매업', '기타음식료품위주종합소매업',\n",
       "       '그외 기타 종합 소매업', '기타 주점업', '기타 외국식 음식점업', '자동차 임대업', '과실 및 채소 소매업',\n",
       "       '중식 음식점업', '골프장 운영업', '육류 소매업', '일반유흥 주점업', '일식 음식점업',\n",
       "       '전시 및 행사 대행업', '차량용 가스 충전업', '차량용 주유소 운영업', '체인화 편의점',\n",
       "       '피자, 햄버거, 샌드위치 및 유사 음식점업', '한식 음식점업', '화장품 및 방향제 소매업', '휴양콘도 운영업',\n",
       "       '욕탕업', '기타 대형 종합 소매업', '그외 기타 스포츠시설 운영업', '관광 민예품 및 선물용품 소매업',\n",
       "       '여행사업', '호텔업', '그외 기타 분류안된 오락관련 서비스업', '내항 여객 운송업', '마사지업',\n",
       "       '기타 수상오락 서비스업', '면세점', '정기 항공 운송업', '버스 운송업', '기타 갬블링 및 베팅업',\n",
       "       '택시 운송업'], dtype=object)"
      ]
     },
     "execution_count": 167,
     "metadata": {},
     "output_type": "execute_result"
    }
   ],
   "source": [
    "#정리하기 쉽지 않게 모여 있음.\n",
    "\n",
    "df_cd['업종명'].unique()"
   ]
  },
  {
   "cell_type": "code",
   "execution_count": 171,
   "id": "1dbb9d60",
   "metadata": {},
   "outputs": [
    {
     "data": {
      "text/plain": [
       "체인화 편의점                    3440\n",
       "한식 음식점업                    3440\n",
       "슈퍼마켓                       3440\n",
       "과실 및 채소 소매업                3433\n",
       "중식 음식점업                    3430\n",
       "서양식 음식점업                   3384\n",
       "여관업                        3355\n",
       "수산물 소매업                    3349\n",
       "비알콜 음료점업                   3344\n",
       "스포츠 및 레크레이션 용품 임대업         3318\n",
       "빵 및 과자류 소매업                3306\n",
       "차량용 주유소 운영업                3280\n",
       "육류 소매업                     3273\n",
       "일식 음식점업                    3210\n",
       "기타 외국식 음식점업                3045\n",
       "피자, 햄버거, 샌드위치 및 유사 음식점업    2958\n",
       "기타음식료품위주종합소매업              2897\n",
       "화장품 및 방향제 소매업              2813\n",
       "욕탕업                        2811\n",
       "차량용 가스 충전업                 2757\n",
       "관광 민예품 및 선물용품 소매업          2725\n",
       "기타 주점업                     2632\n",
       "전시 및 행사 대행업                2556\n",
       "그외 기타 종합 소매업               2486\n",
       "건강보조식품 소매업                 2424\n",
       "일반유흥 주점업                   2269\n",
       "호텔업                        1786\n",
       "여행사업                       1651\n",
       "그외 기타 스포츠시설 운영업            1153\n",
       "자동차 임대업                    1122\n",
       "골프장 운영업                    1058\n",
       "휴양콘도 운영업                   1020\n",
       "마사지업                        837\n",
       "기타 대형 종합 소매업                632\n",
       "기타 수상오락 서비스업                547\n",
       "내항 여객 운송업                   474\n",
       "면세점                         395\n",
       "그외 기타 분류안된 오락관련 서비스업        342\n",
       "정기 항공 운송업                    80\n",
       "택시 운송업                       65\n",
       "버스 운송업                        5\n",
       "기타 갬블링 및 베팅업                  1\n",
       "Name: 업종명, dtype: int64"
      ]
     },
     "execution_count": 171,
     "metadata": {},
     "output_type": "execute_result"
    }
   ],
   "source": [
    "df_cd['업종명'].value_counts()"
   ]
  },
  {
   "cell_type": "markdown",
   "id": "5f332e55",
   "metadata": {},
   "source": [
    "업종명은 그래프로 데이터의 정보를 나타내기 좋지 않다고 판단.  \n",
    "따라서 각 데이터별 도수만 수치로 나타내고 탐색 끝"
   ]
  },
  {
   "cell_type": "markdown",
   "id": "8afdd1fb",
   "metadata": {},
   "source": [
    "##### 성별"
   ]
  },
  {
   "cell_type": "code",
   "execution_count": 172,
   "id": "d07b63b7",
   "metadata": {},
   "outputs": [
    {
     "data": {
      "text/plain": [
       "array(['남성', '여성'], dtype=object)"
      ]
     },
     "execution_count": 172,
     "metadata": {},
     "output_type": "execute_result"
    }
   ],
   "source": [
    "#여성과 남성으로 이루어져있음.\n",
    "\n",
    "df_cd['성별'].unique()"
   ]
  },
  {
   "cell_type": "code",
   "execution_count": 175,
   "id": "c441c9fa",
   "metadata": {},
   "outputs": [
    {
     "data": {
      "text/plain": [
       "남성    45445\n",
       "여성    45098\n",
       "Name: 성별, dtype: int64"
      ]
     },
     "execution_count": 175,
     "metadata": {},
     "output_type": "execute_result"
    }
   ],
   "source": [
    "count4 = df_cd['성별'].value_counts()\n",
    "count4"
   ]
  },
  {
   "cell_type": "code",
   "execution_count": 179,
   "id": "045e6bbd",
   "metadata": {},
   "outputs": [
    {
     "data": {
      "text/plain": [
       "<AxesSubplot:ylabel='성별'>"
      ]
     },
     "execution_count": 179,
     "metadata": {},
     "output_type": "execute_result"
    },
    {
     "data": {
      "image/png": "[encoded data removed]",
      "text/plain": [
       "<Figure size 720x360 with 1 Axes>"
      ]
     },
     "metadata": {
      "needs_background": "light"
     },
     "output_type": "display_data"
    },
    {
     "data": {
      "image/png": "[encoded data removed]",
      "text/plain": [
       "<Figure size 720x360 with 1 Axes>"
      ]
     },
     "metadata": {},
     "output_type": "display_data"
    }
   ],
   "source": [
    "plt.figure(figsize = (10,5))\n",
    "count4.plot(kind = 'bar')\n",
    "plt.figure(figsize = (10,5))\n",
    "count4.plot(kind = 'pie', autopct = '%.1f%%', legend = True)"
   ]
  },
  {
   "cell_type": "markdown",
   "id": "13a23320",
   "metadata": {},
   "source": [
    "상대도수는 별반 차이가 나지 않음을 확인, 거의 50 : 50"
   ]
  },
  {
   "cell_type": "markdown",
   "id": "1ea73489",
   "metadata": {},
   "source": [
    "##### 계절"
   ]
  },
  {
   "cell_type": "code",
   "execution_count": 180,
   "id": "edad92d5",
   "metadata": {},
   "outputs": [
    {
     "data": {
      "text/plain": [
       "array(['겨울', '봄', '여름', '가을'], dtype=object)"
      ]
     },
     "execution_count": 180,
     "metadata": {},
     "output_type": "execute_result"
    }
   ],
   "source": [
    "#봄 여름 가을 겨울로 이루어져 있음\n",
    "df_cd['계절'].unique()"
   ]
  },
  {
   "cell_type": "code",
   "execution_count": 183,
   "id": "fe8e0746",
   "metadata": {},
   "outputs": [
    {
     "data": {
      "text/plain": [
       "봄     24875\n",
       "겨울    24740\n",
       "가을    20483\n",
       "여름    20445\n",
       "Name: 계절, dtype: int64"
      ]
     },
     "execution_count": 183,
     "metadata": {},
     "output_type": "execute_result"
    }
   ],
   "source": [
    "count5 = df_cd['계절'].value_counts()\n",
    "count5"
   ]
  },
  {
   "cell_type": "code",
   "execution_count": 186,
   "id": "9c38f2c8",
   "metadata": {},
   "outputs": [
    {
     "data": {
      "text/plain": [
       "<AxesSubplot:ylabel='계절'>"
      ]
     },
     "execution_count": 186,
     "metadata": {},
     "output_type": "execute_result"
    },
    {
     "data": {
      "image/png": "[encoded data removed]",
      "text/plain": [
       "<Figure size 720x360 with 1 Axes>"
      ]
     },
     "metadata": {
      "needs_background": "light"
     },
     "output_type": "display_data"
    },
    {
     "data": {
      "image/png": "[encoded data removed]",
      "text/plain": [
       "<Figure size 1440x720 with 1 Axes>"
      ]
     },
     "metadata": {},
     "output_type": "display_data"
    }
   ],
   "source": [
    "plt.figure(figsize = (10,5))\n",
    "count5.plot(kind = 'bar')\n",
    "plt.figure(figsize = (20,10))\n",
    "count5.plot(kind = 'pie', autopct = '%.1f%%', legend = True)"
   ]
  },
  {
   "cell_type": "markdown",
   "id": "a02ea74b",
   "metadata": {},
   "source": [
    "봄 여름 가을 겨울 상대도수 차이가 나긴 하지만 거의 차이가 나지 않는 것으로 판별"
   ]
  },
  {
   "cell_type": "markdown",
   "id": "8d366e35",
   "metadata": {},
   "source": [
    "##### 업종 대분류"
   ]
  },
  {
   "cell_type": "code",
   "execution_count": 191,
   "id": "81b5a347",
   "metadata": {},
   "outputs": [
    {
     "data": {
      "text/plain": [
       "array(['소매업', '주류', '숙박업', '기타', '음식점', '운송업', '서비스업'], dtype=object)"
      ]
     },
     "execution_count": 191,
     "metadata": {},
     "output_type": "execute_result"
    }
   ],
   "source": [
    "#소매업, 주류, 숙박업, 기타, 음식점, 운송업, 서비스업\n",
    "df_cd['업종 대분류'].unique()"
   ]
  },
  {
   "cell_type": "code",
   "execution_count": 190,
   "id": "7a47e2bb",
   "metadata": {},
   "outputs": [
    {
     "data": {
      "text/plain": [
       "소매업     34613\n",
       "음식점     19467\n",
       "기타      19422\n",
       "주류       8245\n",
       "숙박업      6161\n",
       "운송업      1746\n",
       "서비스업      889\n",
       "Name: 업종 대분류, dtype: int64"
      ]
     },
     "execution_count": 190,
     "metadata": {},
     "output_type": "execute_result"
    }
   ],
   "source": [
    "count6 = df_cd['업종 대분류'].value_counts()\n",
    "count6"
   ]
  },
  {
   "cell_type": "code",
   "execution_count": 193,
   "id": "2387160a",
   "metadata": {},
   "outputs": [
    {
     "data": {
      "text/plain": [
       "<AxesSubplot:ylabel='업종 대분류'>"
      ]
     },
     "execution_count": 193,
     "metadata": {},
     "output_type": "execute_result"
    },
    {
     "data": {
      "image/png": "[encoded data removed]",
      "text/plain": [
       "<Figure size 720x360 with 1 Axes>"
      ]
     },
     "metadata": {
      "needs_background": "light"
     },
     "output_type": "display_data"
    },
    {
     "data": {
      "image/png": "[encoded data removed]",
      "text/plain": [
       "<Figure size 1440x720 with 1 Axes>"
      ]
     },
     "metadata": {},
     "output_type": "display_data"
    }
   ],
   "source": [
    "plt.figure(figsize = (10,5))\n",
    "count6.plot(kind = 'bar')\n",
    "plt.figure(figsize = (20,10))\n",
    "count6.plot(kind = 'pie', autopct = '%.1f%%')"
   ]
  },
  {
   "cell_type": "markdown",
   "id": "569f688e",
   "metadata": {},
   "source": [
    "소매업이 가장 많은 도수를 기록했고 그 다음이 음식점  \n",
    "제일 낮은 업종은 서비스업."
   ]
  },
  {
   "cell_type": "markdown",
   "id": "81d62340",
   "metadata": {},
   "source": [
    "##### 연도"
   ]
  },
  {
   "cell_type": "code",
   "execution_count": 195,
   "id": "7b8ef4b7",
   "metadata": {},
   "outputs": [
    {
     "data": {
      "text/plain": [
       "array([2017, 2018, 2019, 2020])"
      ]
     },
     "execution_count": 195,
     "metadata": {},
     "output_type": "execute_result"
    }
   ],
   "source": [
    "#2017, 18 19 20 의 데이터를 보유\n",
    "df_cd['연도'].unique()"
   ]
  },
  {
   "cell_type": "code",
   "execution_count": 197,
   "id": "fd61d830",
   "metadata": {},
   "outputs": [
    {
     "data": {
      "text/plain": [
       "2019    27416\n",
       "2018    27183\n",
       "2017    26968\n",
       "2020     8976\n",
       "Name: 연도, dtype: int64"
      ]
     },
     "execution_count": 197,
     "metadata": {},
     "output_type": "execute_result"
    }
   ],
   "source": [
    "count7 = df_cd['연도'].value_counts()\n",
    "count7"
   ]
  },
  {
   "cell_type": "code",
   "execution_count": 200,
   "id": "bf500e3e",
   "metadata": {},
   "outputs": [
    {
     "data": {
      "text/plain": [
       "<AxesSubplot:ylabel='연도'>"
      ]
     },
     "execution_count": 200,
     "metadata": {},
     "output_type": "execute_result"
    },
    {
     "data": {
      "image/png": "[encoded data removed]",
      "text/plain": [
       "<Figure size 720x360 with 1 Axes>"
      ]
     },
     "metadata": {
      "needs_background": "light"
     },
     "output_type": "display_data"
    },
    {
     "data": {
      "image/png": "[encoded data removed]",
      "text/plain": [
       "<Figure size 720x360 with 1 Axes>"
      ]
     },
     "metadata": {},
     "output_type": "display_data"
    }
   ],
   "source": [
    "plt.figure(figsize = (10,5))\n",
    "count7.plot(kind = 'bar')\n",
    "plt.figure(figsize = (10,5))\n",
    "count7.plot(kind = 'pie', autopct = '%.1f%%')"
   ]
  },
  {
   "cell_type": "markdown",
   "id": "5f0d4144",
   "metadata": {},
   "source": [
    "2019 > 2018 > 2017 > 2020 순으로 도수를 기록  \n",
    "그러나 2018과 2019 그리고 2017은 얼마 차이가 나지 않음  "
   ]
  },
  {
   "cell_type": "markdown",
   "id": "c9b41b94",
   "metadata": {},
   "source": [
    "##### 월"
   ]
  },
  {
   "cell_type": "code",
   "execution_count": 201,
   "id": "43aace9e",
   "metadata": {},
   "outputs": [
    {
     "data": {
      "text/plain": [
       "array([ 1,  2,  3,  4,  5,  6,  7,  8,  9, 10, 11, 12])"
      ]
     },
     "execution_count": 201,
     "metadata": {},
     "output_type": "execute_result"
    }
   ],
   "source": [
    "df_cd['월'].unique()"
   ]
  },
  {
   "cell_type": "code",
   "execution_count": 202,
   "id": "f5e4e830",
   "metadata": {},
   "outputs": [
    {
     "data": {
      "text/plain": [
       "3     9026\n",
       "4     9018\n",
       "1     8992\n",
       "2     8962\n",
       "9     6834\n",
       "5     6831\n",
       "8     6827\n",
       "10    6826\n",
       "11    6823\n",
       "6     6818\n",
       "7     6800\n",
       "12    6786\n",
       "Name: 월, dtype: int64"
      ]
     },
     "execution_count": 202,
     "metadata": {},
     "output_type": "execute_result"
    }
   ],
   "source": [
    "count8 = df_cd['월'].value_counts()\n",
    "count8"
   ]
  },
  {
   "cell_type": "code",
   "execution_count": 206,
   "id": "625d1fd4",
   "metadata": {},
   "outputs": [
    {
     "data": {
      "text/plain": [
       "<AxesSubplot:ylabel='월'>"
      ]
     },
     "execution_count": 206,
     "metadata": {},
     "output_type": "execute_result"
    },
    {
     "data": {
      "image/png": "[encoded data removed]",
      "text/plain": [
       "<Figure size 720x360 with 1 Axes>"
      ]
     },
     "metadata": {
      "needs_background": "light"
     },
     "output_type": "display_data"
    },
    {
     "data": {
      "image/png": "[encoded data removed]",
      "text/plain": [
       "<Figure size 720x360 with 1 Axes>"
      ]
     },
     "metadata": {},
     "output_type": "display_data"
    }
   ],
   "source": [
    "plt.figure(figsize = (10,5))\n",
    "count8.plot(kind = 'bar')\n",
    "plt.figure(figsize = (10,5))\n",
    "count8.plot(kind = 'pie', autopct = '%.1f%%')"
   ]
  },
  {
   "cell_type": "markdown",
   "id": "3c241181",
   "metadata": {},
   "source": [
    "### 2.2.2 구간 데이터"
   ]
  },
  {
   "cell_type": "code",
   "execution_count": 238,
   "id": "f7a7878f",
   "metadata": {},
   "outputs": [
    {
     "data": {
      "text/html": [
       "<div>\n",
       "<style scoped>\n",
       "    .dataframe tbody tr th:only-of-type {\n",
       "        vertical-align: middle;\n",
       "    }\n",
       "\n",
       "    .dataframe tbody tr th {\n",
       "        vertical-align: top;\n",
       "    }\n",
       "\n",
       "    .dataframe thead th {\n",
       "        text-align: right;\n",
       "    }\n",
       "</style>\n",
       "<table border=\"1\" class=\"dataframe\">\n",
       "  <thead>\n",
       "    <tr style=\"text-align: right;\">\n",
       "      <th></th>\n",
       "      <th>이용금액</th>\n",
       "      <th>거주인구</th>\n",
       "      <th>근무인구</th>\n",
       "      <th>방문인구</th>\n",
       "    </tr>\n",
       "  </thead>\n",
       "  <tbody>\n",
       "    <tr>\n",
       "      <th>0</th>\n",
       "      <td>137500</td>\n",
       "      <td>4365500.518</td>\n",
       "      <td>380992.059</td>\n",
       "      <td>2844836.615</td>\n",
       "    </tr>\n",
       "    <tr>\n",
       "      <th>1</th>\n",
       "      <td>2904000</td>\n",
       "      <td>4365500.518</td>\n",
       "      <td>380992.059</td>\n",
       "      <td>2844836.615</td>\n",
       "    </tr>\n",
       "    <tr>\n",
       "      <th>2</th>\n",
       "      <td>6283900</td>\n",
       "      <td>4365500.518</td>\n",
       "      <td>380992.059</td>\n",
       "      <td>2844836.615</td>\n",
       "    </tr>\n",
       "    <tr>\n",
       "      <th>3</th>\n",
       "      <td>8671410</td>\n",
       "      <td>4365500.518</td>\n",
       "      <td>380992.059</td>\n",
       "      <td>2844836.615</td>\n",
       "    </tr>\n",
       "    <tr>\n",
       "      <th>4</th>\n",
       "      <td>55925490</td>\n",
       "      <td>4365500.518</td>\n",
       "      <td>380992.059</td>\n",
       "      <td>2844836.615</td>\n",
       "    </tr>\n",
       "    <tr>\n",
       "      <th>...</th>\n",
       "      <td>...</td>\n",
       "      <td>...</td>\n",
       "      <td>...</td>\n",
       "      <td>...</td>\n",
       "    </tr>\n",
       "    <tr>\n",
       "      <th>90538</th>\n",
       "      <td>2216500</td>\n",
       "      <td>9241265.990</td>\n",
       "      <td>481026.216</td>\n",
       "      <td>2598152.464</td>\n",
       "    </tr>\n",
       "    <tr>\n",
       "      <th>90539</th>\n",
       "      <td>5374000</td>\n",
       "      <td>9241265.990</td>\n",
       "      <td>481026.216</td>\n",
       "      <td>2598152.464</td>\n",
       "    </tr>\n",
       "    <tr>\n",
       "      <th>90540</th>\n",
       "      <td>24042720</td>\n",
       "      <td>9241265.990</td>\n",
       "      <td>481026.216</td>\n",
       "      <td>2598152.464</td>\n",
       "    </tr>\n",
       "    <tr>\n",
       "      <th>90541</th>\n",
       "      <td>24474030</td>\n",
       "      <td>9241265.990</td>\n",
       "      <td>481026.216</td>\n",
       "      <td>2598152.464</td>\n",
       "    </tr>\n",
       "    <tr>\n",
       "      <th>90542</th>\n",
       "      <td>14553710</td>\n",
       "      <td>9241265.990</td>\n",
       "      <td>481026.216</td>\n",
       "      <td>2598152.464</td>\n",
       "    </tr>\n",
       "  </tbody>\n",
       "</table>\n",
       "<p>90543 rows × 4 columns</p>\n",
       "</div>"
      ],
      "text/plain": [
       "           이용금액         거주인구        근무인구         방문인구\n",
       "0        137500  4365500.518  380992.059  2844836.615\n",
       "1       2904000  4365500.518  380992.059  2844836.615\n",
       "2       6283900  4365500.518  380992.059  2844836.615\n",
       "3       8671410  4365500.518  380992.059  2844836.615\n",
       "4      55925490  4365500.518  380992.059  2844836.615\n",
       "...         ...          ...         ...          ...\n",
       "90538   2216500  9241265.990  481026.216  2598152.464\n",
       "90539   5374000  9241265.990  481026.216  2598152.464\n",
       "90540  24042720  9241265.990  481026.216  2598152.464\n",
       "90541  24474030  9241265.990  481026.216  2598152.464\n",
       "90542  14553710  9241265.990  481026.216  2598152.464\n",
       "\n",
       "[90543 rows x 4 columns]"
      ]
     },
     "execution_count": 238,
     "metadata": {},
     "output_type": "execute_result"
    }
   ],
   "source": [
    "#이용금액, 거주인구, 근무인구,방문인구 살펴볼 예정\n",
    "#따로 데이터 프레임을 만든 후에 통계적 수치 확인할 예정\n",
    "\n",
    "df_test = df_cd[['이용금액','거주인구','근무인구','방문인구']]\n",
    "df_test"
   ]
  },
  {
   "cell_type": "code",
   "execution_count": 212,
   "id": "a8f3ef72",
   "metadata": {},
   "outputs": [
    {
     "data": {
      "text/html": [
       "<div>\n",
       "<style scoped>\n",
       "    .dataframe tbody tr th:only-of-type {\n",
       "        vertical-align: middle;\n",
       "    }\n",
       "\n",
       "    .dataframe tbody tr th {\n",
       "        vertical-align: top;\n",
       "    }\n",
       "\n",
       "    .dataframe thead th {\n",
       "        text-align: right;\n",
       "    }\n",
       "</style>\n",
       "<table border=\"1\" class=\"dataframe\">\n",
       "  <thead>\n",
       "    <tr style=\"text-align: right;\">\n",
       "      <th></th>\n",
       "      <th>이용금액</th>\n",
       "      <th>거주인구</th>\n",
       "      <th>방문인구</th>\n",
       "    </tr>\n",
       "  </thead>\n",
       "  <tbody>\n",
       "    <tr>\n",
       "      <th>count</th>\n",
       "      <td>9.054300e+04</td>\n",
       "      <td>9.054300e+04</td>\n",
       "      <td>9.054300e+04</td>\n",
       "    </tr>\n",
       "    <tr>\n",
       "      <th>mean</th>\n",
       "      <td>6.093301e+07</td>\n",
       "      <td>4.613725e+06</td>\n",
       "      <td>2.864406e+06</td>\n",
       "    </tr>\n",
       "    <tr>\n",
       "      <th>std</th>\n",
       "      <td>1.864599e+08</td>\n",
       "      <td>4.603426e+06</td>\n",
       "      <td>2.127175e+06</td>\n",
       "    </tr>\n",
       "    <tr>\n",
       "      <th>min</th>\n",
       "      <td>1.000000e+01</td>\n",
       "      <td>1.858176e+05</td>\n",
       "      <td>1.770581e+05</td>\n",
       "    </tr>\n",
       "    <tr>\n",
       "      <th>25%</th>\n",
       "      <td>2.667500e+06</td>\n",
       "      <td>1.234469e+06</td>\n",
       "      <td>1.424893e+06</td>\n",
       "    </tr>\n",
       "    <tr>\n",
       "      <th>50%</th>\n",
       "      <td>1.212000e+07</td>\n",
       "      <td>3.187437e+06</td>\n",
       "      <td>2.259516e+06</td>\n",
       "    </tr>\n",
       "    <tr>\n",
       "      <th>75%</th>\n",
       "      <td>4.827680e+07</td>\n",
       "      <td>5.874926e+06</td>\n",
       "      <td>3.539383e+06</td>\n",
       "    </tr>\n",
       "    <tr>\n",
       "      <th>max</th>\n",
       "      <td>5.092990e+09</td>\n",
       "      <td>2.021119e+07</td>\n",
       "      <td>1.015129e+07</td>\n",
       "    </tr>\n",
       "  </tbody>\n",
       "</table>\n",
       "</div>"
      ],
      "text/plain": [
       "               이용금액          거주인구          방문인구\n",
       "count  9.054300e+04  9.054300e+04  9.054300e+04\n",
       "mean   6.093301e+07  4.613725e+06  2.864406e+06\n",
       "std    1.864599e+08  4.603426e+06  2.127175e+06\n",
       "min    1.000000e+01  1.858176e+05  1.770581e+05\n",
       "25%    2.667500e+06  1.234469e+06  1.424893e+06\n",
       "50%    1.212000e+07  3.187437e+06  2.259516e+06\n",
       "75%    4.827680e+07  5.874926e+06  3.539383e+06\n",
       "max    5.092990e+09  2.021119e+07  1.015129e+07"
      ]
     },
     "execution_count": 212,
     "metadata": {},
     "output_type": "execute_result"
    }
   ],
   "source": [
    "df_test.describe()"
   ]
  },
  {
   "cell_type": "markdown",
   "id": "9cfe72f1",
   "metadata": {},
   "source": [
    "| |이용금액|거주인구|방문인구|\n",
    "|-----|-----|-----|-----|\n",
    "|평균|60933010.0 |4613725.0 | 2864406.0|\n",
    "|표준편차|18645990.0 |4603426.0 |2127175.0 |\n",
    "|최솟값|10.0 |185817.6 |177058.1|\n",
    "|최댓값|5092990000.0 |20211190.0 |10151290.0 |"
   ]
  },
  {
   "cell_type": "markdown",
   "id": "678cd4d7",
   "metadata": {},
   "source": [
    "수치가 나타나긴 했지만 아직 이 수치가 정확한지 파악이 되지 않음.  \n",
    "그리고 이 수치가 어떤 정보를 주는지 파악이 잘 안됨.  \n",
    "따라서 그래프로 각각의 칼럼들을 그려보려고 함\n",
    "\n",
    "히스토그램을 통해서 각각의 구간데이터의 분포를 살펴보려고 함  \n",
    "그리고 barplot 으로 상대 위치별 분포를 확인해보려고 함.  "
   ]
  },
  {
   "cell_type": "markdown",
   "id": "5dc4f765",
   "metadata": {},
   "source": [
    "##### 이용금액"
   ]
  },
  {
   "cell_type": "code",
   "execution_count": 229,
   "id": "f3e44fbf",
   "metadata": {},
   "outputs": [
    {
     "data": {
      "text/plain": [
       "<AxesSubplot:ylabel='Frequency'>"
      ]
     },
     "execution_count": 229,
     "metadata": {},
     "output_type": "execute_result"
    },
    {
     "data": {
      "image/png": "[encoded data removed]",
      "text/plain": [
       "<Figure size 432x288 with 1 Axes>"
      ]
     },
     "metadata": {
      "needs_background": "light"
     },
     "output_type": "display_data"
    }
   ],
   "source": [
    "#히스토그램 파악하기\n",
    "df_cd['이용금액'].plot(kind = 'hist')"
   ]
  },
  {
   "cell_type": "markdown",
   "id": "c55e0a55",
   "metadata": {},
   "source": [
    ">아이디어 : 이용금액 분포가 잘 나타나지 않음, 몇 개의 이상치 때문에 분포가 잘 나타나지 않는 것 같음  \n",
    "> 따라서 온전한 분포를 보기 위해 잠시만 이상치를 제거해서 살펴보려고 함  \n",
    "> 이상치 데이터들은 다시 되돌려 놓을 예정"
   ]
  },
  {
   "cell_type": "code",
   "execution_count": 233,
   "id": "881d7dfa",
   "metadata": {},
   "outputs": [
    {
     "data": {
      "text/plain": [
       "{'whiskers': [<matplotlib.lines.Line2D at 0x16006630790>,\n",
       "  <matplotlib.lines.Line2D at 0x16006630af0>],\n",
       " 'caps': [<matplotlib.lines.Line2D at 0x16006630e50>,\n",
       "  <matplotlib.lines.Line2D at 0x160065d41f0>],\n",
       " 'boxes': [<matplotlib.lines.Line2D at 0x16006630430>],\n",
       " 'medians': [<matplotlib.lines.Line2D at 0x160065d4550>],\n",
       " 'fliers': [<matplotlib.lines.Line2D at 0x160065d48b0>],\n",
       " 'means': []}"
      ]
     },
     "execution_count": 233,
     "metadata": {},
     "output_type": "execute_result"
    },
    {
     "data": {
      "image/png": "[encoded data removed]",
      "text/plain": [
       "<Figure size 720x360 with 1 Axes>"
      ]
     },
     "metadata": {
      "needs_background": "light"
     },
     "output_type": "display_data"
    }
   ],
   "source": [
    "#박스플롯 확인하기\n",
    "\n",
    "plt.figure(figsize=(10,5))\n",
    "plt.boxplot(df_cd['이용금액'])"
   ]
  },
  {
   "cell_type": "markdown",
   "id": "1e33856c",
   "metadata": {},
   "source": [
    "이상치가 엄청나게 많은 것을 확인할 수 있음. 이 때문에 분포를 제대로 파악하지 못함"
   ]
  },
  {
   "cell_type": "markdown",
   "id": "7c56d4bc",
   "metadata": {},
   "source": [
    "> 잠깐 여기서 전처리"
   ]
  },
  {
   "cell_type": "code",
   "execution_count": 235,
   "id": "56550f95",
   "metadata": {},
   "outputs": [],
   "source": [
    "#이상치 제거하는 전처리 함수 생성\n",
    "\n",
    "import numpy as np\n",
    "\n",
    "def find_outlier_index(col_name):\n",
    "    q1, q3 = np.percentile(df_cd[col_name], [25,75])          #1지점과 3지점을 파악\n",
    "    iqr = q3 - q1                                             # 1 ~ 3 지역인 iqr 지역 파악\n",
    "    lower_bound = q1 - (iqr * 1.5)                            #iqr 의 1.5배한 것을 1지역에서 뺀다 -> lower_bound 찾기 위해\n",
    "    upper_bound = q3 + (iqr * 1.5)                            #iqr 의 1.5배한 것을 3지역에서 더한다 -> upper_bound를 찾기 위해\n",
    "    \n",
    "    index = np.where((df_cd[col_name] > upper_bound) | (df_cd[col_name] < lower_bound)) #lower,upper 범위 넘어선게 outlier, index추출\n",
    "    return index\n",
    "    \n"
   ]
  },
  {
   "cell_type": "code",
   "execution_count": 236,
   "id": "7dfe4580",
   "metadata": {},
   "outputs": [
    {
     "data": {
      "text/plain": [
       "(array([    8,    16,    23, ..., 90517, 90522, 90529], dtype=int64),)"
      ]
     },
     "execution_count": 236,
     "metadata": {},
     "output_type": "execute_result"
    }
   ],
   "source": [
    "#튜플 형태로 index 반환, 0번째에 index, 1번째에 dtype\n",
    "find_outlier_index('이용금액')"
   ]
  },
  {
   "cell_type": "code",
   "execution_count": 239,
   "id": "db3c3853",
   "metadata": {},
   "outputs": [],
   "source": [
    "#각 구간데이터 모두 이상치를 확인해보니 굉장히 많았음 그래서 각 구간데이터의 분포가 잘 나타나지 않음\n",
    "\n",
    "usage_amount_outiler_index = find_outlier_index('이용금액')[0]\n",
    "resi_pop_outlier_index = find_outlier_index('거주인구')[0]\n",
    "work_pop_outlier_index = find_outlier_index('근무인구')[0]\n",
    "visit_pop_outlier_index = find_outlier_index('방문인구')[0]"
   ]
  },
  {
   "cell_type": "code",
   "execution_count": 240,
   "id": "dec13528",
   "metadata": {},
   "outputs": [
    {
     "data": {
      "text/plain": [
       "8        182203998\n",
       "16       285901584\n",
       "23       255016971\n",
       "26       231687924\n",
       "33       128868518\n",
       "           ...    \n",
       "90506    161139880\n",
       "90512    212140680\n",
       "90517    261235390\n",
       "90522    223419484\n",
       "90529    157709014\n",
       "Name: 이용금액, Length: 11376, dtype: int64"
      ]
     },
     "execution_count": 240,
     "metadata": {},
     "output_type": "execute_result"
    }
   ],
   "source": [
    "#이용금액의 outlier index\n",
    "#index가 제대로 나온 것 파악\n",
    "\n",
    "df_cd.loc[usage_amount_outiler_index, '이용금액']"
   ]
  },
  {
   "cell_type": "code",
   "execution_count": 241,
   "id": "2c9ffe6f",
   "metadata": {},
   "outputs": [],
   "source": [
    "#각 구간데이터 outlier index 를 합치기\n",
    "outlier_index = np.concatenate((usage_amount_outiler_index,\n",
    "                resi_pop_outlier_index,\n",
    "                work_pop_outlier_index,\n",
    "                visit_pop_outlier_index                \n",
    "               ), axis = None)"
   ]
  },
  {
   "cell_type": "code",
   "execution_count": 245,
   "id": "ef5db125",
   "metadata": {},
   "outputs": [],
   "source": [
    "#outlier index 아닌 index 만 리스트에 보관\n",
    "non_outlier_index = []\n",
    "for i in df_cd.index:\n",
    "    if i not in outlier_index:\n",
    "        non_outlier_index.append(i)\n"
   ]
  },
  {
   "cell_type": "code",
   "execution_count": 262,
   "id": "f7cb0b6f",
   "metadata": {},
   "outputs": [
    {
     "data": {
      "text/html": [
       "<div>\n",
       "<style scoped>\n",
       "    .dataframe tbody tr th:only-of-type {\n",
       "        vertical-align: middle;\n",
       "    }\n",
       "\n",
       "    .dataframe tbody tr th {\n",
       "        vertical-align: top;\n",
       "    }\n",
       "\n",
       "    .dataframe thead th {\n",
       "        text-align: right;\n",
       "    }\n",
       "</style>\n",
       "<table border=\"1\" class=\"dataframe\">\n",
       "  <thead>\n",
       "    <tr style=\"text-align: right;\">\n",
       "      <th></th>\n",
       "      <th>시도명</th>\n",
       "      <th>읍면동명</th>\n",
       "      <th>업종명</th>\n",
       "      <th>성별</th>\n",
       "      <th>이용금액</th>\n",
       "      <th>거주인구</th>\n",
       "      <th>근무인구</th>\n",
       "      <th>방문인구</th>\n",
       "      <th>연도</th>\n",
       "      <th>월</th>\n",
       "      <th>계절</th>\n",
       "      <th>업종 대분류</th>\n",
       "    </tr>\n",
       "  </thead>\n",
       "  <tbody>\n",
       "    <tr>\n",
       "      <th>0</th>\n",
       "      <td>서귀포시</td>\n",
       "      <td>남원읍</td>\n",
       "      <td>건강보조식품 소매업</td>\n",
       "      <td>남성</td>\n",
       "      <td>137500</td>\n",
       "      <td>4365500.518</td>\n",
       "      <td>380992.059</td>\n",
       "      <td>2844836.615</td>\n",
       "      <td>2017</td>\n",
       "      <td>1</td>\n",
       "      <td>겨울</td>\n",
       "      <td>소매업</td>\n",
       "    </tr>\n",
       "    <tr>\n",
       "      <th>1</th>\n",
       "      <td>서귀포시</td>\n",
       "      <td>남원읍</td>\n",
       "      <td>비알콜 음료점업</td>\n",
       "      <td>남성</td>\n",
       "      <td>2904000</td>\n",
       "      <td>4365500.518</td>\n",
       "      <td>380992.059</td>\n",
       "      <td>2844836.615</td>\n",
       "      <td>2017</td>\n",
       "      <td>1</td>\n",
       "      <td>겨울</td>\n",
       "      <td>주류</td>\n",
       "    </tr>\n",
       "    <tr>\n",
       "      <th>2</th>\n",
       "      <td>서귀포시</td>\n",
       "      <td>남원읍</td>\n",
       "      <td>여관업</td>\n",
       "      <td>남성</td>\n",
       "      <td>6283900</td>\n",
       "      <td>4365500.518</td>\n",
       "      <td>380992.059</td>\n",
       "      <td>2844836.615</td>\n",
       "      <td>2017</td>\n",
       "      <td>1</td>\n",
       "      <td>겨울</td>\n",
       "      <td>숙박업</td>\n",
       "    </tr>\n",
       "    <tr>\n",
       "      <th>3</th>\n",
       "      <td>서귀포시</td>\n",
       "      <td>남원읍</td>\n",
       "      <td>스포츠 및 레크레이션 용품 임대업</td>\n",
       "      <td>남성</td>\n",
       "      <td>8671410</td>\n",
       "      <td>4365500.518</td>\n",
       "      <td>380992.059</td>\n",
       "      <td>2844836.615</td>\n",
       "      <td>2017</td>\n",
       "      <td>1</td>\n",
       "      <td>겨울</td>\n",
       "      <td>기타</td>\n",
       "    </tr>\n",
       "    <tr>\n",
       "      <th>4</th>\n",
       "      <td>서귀포시</td>\n",
       "      <td>남원읍</td>\n",
       "      <td>슈퍼마켓</td>\n",
       "      <td>남성</td>\n",
       "      <td>55925490</td>\n",
       "      <td>4365500.518</td>\n",
       "      <td>380992.059</td>\n",
       "      <td>2844836.615</td>\n",
       "      <td>2017</td>\n",
       "      <td>1</td>\n",
       "      <td>겨울</td>\n",
       "      <td>소매업</td>\n",
       "    </tr>\n",
       "  </tbody>\n",
       "</table>\n",
       "</div>"
      ],
      "text/plain": [
       "    시도명 읍면동명                 업종명  성별      이용금액         거주인구        근무인구  \\\n",
       "0  서귀포시  남원읍          건강보조식품 소매업  남성    137500  4365500.518  380992.059   \n",
       "1  서귀포시  남원읍            비알콜 음료점업  남성   2904000  4365500.518  380992.059   \n",
       "2  서귀포시  남원읍                 여관업  남성   6283900  4365500.518  380992.059   \n",
       "3  서귀포시  남원읍  스포츠 및 레크레이션 용품 임대업  남성   8671410  4365500.518  380992.059   \n",
       "4  서귀포시  남원읍                슈퍼마켓  남성  55925490  4365500.518  380992.059   \n",
       "\n",
       "          방문인구    연도  월  계절 업종 대분류  \n",
       "0  2844836.615  2017  1  겨울    소매업  \n",
       "1  2844836.615  2017  1  겨울     주류  \n",
       "2  2844836.615  2017  1  겨울    숙박업  \n",
       "3  2844836.615  2017  1  겨울     기타  \n",
       "4  2844836.615  2017  1  겨울    소매업  "
      ]
     },
     "execution_count": 262,
     "metadata": {},
     "output_type": "execute_result"
    }
   ],
   "source": [
    "#df_cd_outlier 데이터 프레임을 따로 만들고 이걸로 구간데이터 시각화 작업\n",
    "df_cd_outlier = df_cd.loc[non_outlier_index]\n",
    "df_cd_outlier.head()"
   ]
  },
  {
   "cell_type": "markdown",
   "id": "4deeaef5",
   "metadata": {},
   "source": [
    "> 잠깐 전처리 종료"
   ]
  },
  {
   "cell_type": "code",
   "execution_count": 267,
   "id": "07fdaf4a",
   "metadata": {},
   "outputs": [],
   "source": [
    "def print_graph(col_name):\n",
    "    plt.figure(figsize = (10,5))                       #이용금액 히스토그램\n",
    "    df_cd_outlier[col_name].plot(kind = 'hist')\n",
    "\n",
    "\n",
    "    plt.figure(figsize = (10,5))                       #분포모양 만들기\n",
    "    sns.distplot(df_cd_outlier[col_name])\n",
    "\n",
    "    plt.figure(figsize = (15,8))                       #이용금액 boxplot 그리기 \n",
    "    plt.boxplot(df_cd_outlier[col_name])"
   ]
  },
  {
   "cell_type": "code",
   "execution_count": 268,
   "id": "a11d0cf2",
   "metadata": {},
   "outputs": [
    {
     "name": "stderr",
     "output_type": "stream",
     "text": [
      "C:\\ca_da\\anaconda\\lib\\site-packages\\seaborn\\distributions.py:2557: FutureWarning: `distplot` is a deprecated function and will be removed in a future version. Please adapt your code to use either `displot` (a figure-level function with similar flexibility) or `histplot` (an axes-level function for histograms).\n",
      "  warnings.warn(msg, FutureWarning)\n"
     ]
    },
    {
     "data": {
      "image/png": "[encoded data removed]",
      "text/plain": [
       "<Figure size 720x360 with 1 Axes>"
      ]
     },
     "metadata": {
      "needs_background": "light"
     },
     "output_type": "display_data"
    },
    {
     "name": "stderr",
     "output_type": "stream",
     "text": [
      "C:\\ca_da\\anaconda\\lib\\site-packages\\matplotlib\\backends\\backend_agg.py:238: RuntimeWarning: Glyph 8722 missing from current font.\n",
      "  font.set_text(s, 0.0, flags=flags)\n",
      "C:\\ca_da\\anaconda\\lib\\site-packages\\matplotlib\\backends\\backend_agg.py:201: RuntimeWarning: Glyph 8722 missing from current font.\n",
      "  font.set_text(s, 0, flags=flags)\n"
     ]
    },
    {
     "data": {
      "image/png": "[encoded data removed]",
      "text/plain": [
       "<Figure size 720x360 with 1 Axes>"
      ]
     },
     "metadata": {
      "needs_background": "light"
     },
     "output_type": "display_data"
    },
    {
     "data": {
      "image/png": "[encoded data removed]",
      "text/plain": [
       "<Figure size 1080x576 with 1 Axes>"
      ]
     },
     "metadata": {
      "needs_background": "light"
     },
     "output_type": "display_data"
    }
   ],
   "source": [
    "print_graph('이용금액')"
   ]
  },
  {
   "cell_type": "markdown",
   "id": "2064394f",
   "metadata": {},
   "source": [
    "이용금액에 관련하여 이상치 전처리를 한 이후에 분포모양을 살펴봤다.  \n",
    "최댓값은 6000만원 정도  \n",
    "최솟값은 0원에 가까운 정도  \n"
   ]
  },
  {
   "cell_type": "markdown",
   "id": "59a62a13",
   "metadata": {},
   "source": [
    "##### 거주인구"
   ]
  },
  {
   "cell_type": "code",
   "execution_count": 258,
   "id": "21e26ab6",
   "metadata": {},
   "outputs": [
    {
     "data": {
      "text/plain": [
       "<AxesSubplot:ylabel='Frequency'>"
      ]
     },
     "execution_count": 258,
     "metadata": {},
     "output_type": "execute_result"
    },
    {
     "data": {
      "image/png": "[encoded data removed]",
      "text/plain": [
       "<Figure size 720x360 with 1 Axes>"
      ]
     },
     "metadata": {
      "needs_background": "light"
     },
     "output_type": "display_data"
    }
   ],
   "source": [
    "plt.figure(figsize = (10,5))                       #거주인구 히스토그램(전처리 전)\n",
    "df_cd['거주인구'].plot(kind = 'hist')"
   ]
  },
  {
   "cell_type": "code",
   "execution_count": 270,
   "id": "2c11123f",
   "metadata": {},
   "outputs": [
    {
     "name": "stderr",
     "output_type": "stream",
     "text": [
      "C:\\ca_da\\anaconda\\lib\\site-packages\\seaborn\\distributions.py:2557: FutureWarning: `distplot` is a deprecated function and will be removed in a future version. Please adapt your code to use either `displot` (a figure-level function with similar flexibility) or `histplot` (an axes-level function for histograms).\n",
      "  warnings.warn(msg, FutureWarning)\n"
     ]
    },
    {
     "data": {
      "image/png": "[encoded data removed]",
      "text/plain": [
       "<Figure size 720x360 with 1 Axes>"
      ]
     },
     "metadata": {
      "needs_background": "light"
     },
     "output_type": "display_data"
    },
    {
     "name": "stderr",
     "output_type": "stream",
     "text": [
      "C:\\ca_da\\anaconda\\lib\\site-packages\\matplotlib\\backends\\backend_agg.py:238: RuntimeWarning: Glyph 8722 missing from current font.\n",
      "  font.set_text(s, 0.0, flags=flags)\n",
      "C:\\ca_da\\anaconda\\lib\\site-packages\\matplotlib\\backends\\backend_agg.py:201: RuntimeWarning: Glyph 8722 missing from current font.\n",
      "  font.set_text(s, 0, flags=flags)\n"
     ]
    },
    {
     "data": {
      "image/png": "[encoded data removed]",
      "text/plain": [
       "<Figure size 720x360 with 1 Axes>"
      ]
     },
     "metadata": {
      "needs_background": "light"
     },
     "output_type": "display_data"
    },
    {
     "data": {
      "image/png": "[encoded data removed]",
      "text/plain": [
       "<Figure size 1080x576 with 1 Axes>"
      ]
     },
     "metadata": {
      "needs_background": "light"
     },
     "output_type": "display_data"
    }
   ],
   "source": [
    "print_graph('거주인구')                     #이상치 제거 후의 분포도를 살펴보기"
   ]
  },
  {
   "cell_type": "markdown",
   "id": "24ce8a5a",
   "metadata": {},
   "source": [
    "##### 근무인구"
   ]
  },
  {
   "cell_type": "code",
   "execution_count": 263,
   "id": "c7493953",
   "metadata": {},
   "outputs": [
    {
     "data": {
      "text/plain": [
       "<AxesSubplot:ylabel='Frequency'>"
      ]
     },
     "execution_count": 263,
     "metadata": {},
     "output_type": "execute_result"
    },
    {
     "data": {
      "image/png": "[encoded data removed]",
      "text/plain": [
       "<Figure size 720x360 with 1 Axes>"
      ]
     },
     "metadata": {
      "needs_background": "light"
     },
     "output_type": "display_data"
    }
   ],
   "source": [
    "plt.figure(figsize = (10,5))                       #근무인구 히스토그램(전처리 전)\n",
    "df_cd['근무인구'].plot(kind = 'hist')"
   ]
  },
  {
   "cell_type": "code",
   "execution_count": 271,
   "id": "47045474",
   "metadata": {},
   "outputs": [
    {
     "name": "stderr",
     "output_type": "stream",
     "text": [
      "C:\\ca_da\\anaconda\\lib\\site-packages\\seaborn\\distributions.py:2557: FutureWarning: `distplot` is a deprecated function and will be removed in a future version. Please adapt your code to use either `displot` (a figure-level function with similar flexibility) or `histplot` (an axes-level function for histograms).\n",
      "  warnings.warn(msg, FutureWarning)\n"
     ]
    },
    {
     "data": {
      "image/png": "[encoded data removed]",
      "text/plain": [
       "<Figure size 720x360 with 1 Axes>"
      ]
     },
     "metadata": {
      "needs_background": "light"
     },
     "output_type": "display_data"
    },
    {
     "name": "stderr",
     "output_type": "stream",
     "text": [
      "C:\\ca_da\\anaconda\\lib\\site-packages\\matplotlib\\backends\\backend_agg.py:238: RuntimeWarning: Glyph 8722 missing from current font.\n",
      "  font.set_text(s, 0.0, flags=flags)\n",
      "C:\\ca_da\\anaconda\\lib\\site-packages\\matplotlib\\backends\\backend_agg.py:201: RuntimeWarning: Glyph 8722 missing from current font.\n",
      "  font.set_text(s, 0, flags=flags)\n"
     ]
    },
    {
     "data": {
      "image/png": "[encoded data removed]",
      "text/plain": [
       "<Figure size 720x360 with 1 Axes>"
      ]
     },
     "metadata": {
      "needs_background": "light"
     },
     "output_type": "display_data"
    },
    {
     "data": {
      "image/png": "[encoded data removed]",
      "text/plain": [
       "<Figure size 1080x576 with 1 Axes>"
      ]
     },
     "metadata": {
      "needs_background": "light"
     },
     "output_type": "display_data"
    }
   ],
   "source": [
    "print_graph('근무인구')                     #이상치 제거 후의 분포도를 살펴보기"
   ]
  },
  {
   "cell_type": "markdown",
   "id": "a4ae15a4",
   "metadata": {},
   "source": [
    "##### 방문인구"
   ]
  },
  {
   "cell_type": "code",
   "execution_count": 265,
   "id": "04cd180e",
   "metadata": {},
   "outputs": [
    {
     "data": {
      "text/plain": [
       "<AxesSubplot:ylabel='Frequency'>"
      ]
     },
     "execution_count": 265,
     "metadata": {},
     "output_type": "execute_result"
    },
    {
     "data": {
      "image/png": "[encoded data removed]",
      "text/plain": [
       "<Figure size 720x360 with 1 Axes>"
      ]
     },
     "metadata": {
      "needs_background": "light"
     },
     "output_type": "display_data"
    }
   ],
   "source": [
    "plt.figure(figsize = (10,5))                       #방문인구 히스토그램(전처리 전)\n",
    "df_cd['방문인구'].plot(kind = 'hist')"
   ]
  },
  {
   "cell_type": "code",
   "execution_count": 272,
   "id": "6d0f7466",
   "metadata": {},
   "outputs": [
    {
     "name": "stderr",
     "output_type": "stream",
     "text": [
      "C:\\ca_da\\anaconda\\lib\\site-packages\\seaborn\\distributions.py:2557: FutureWarning: `distplot` is a deprecated function and will be removed in a future version. Please adapt your code to use either `displot` (a figure-level function with similar flexibility) or `histplot` (an axes-level function for histograms).\n",
      "  warnings.warn(msg, FutureWarning)\n"
     ]
    },
    {
     "data": {
      "image/png": "[encoded data removed]",
      "text/plain": [
       "<Figure size 720x360 with 1 Axes>"
      ]
     },
     "metadata": {
      "needs_background": "light"
     },
     "output_type": "display_data"
    },
    {
     "name": "stderr",
     "output_type": "stream",
     "text": [
      "C:\\ca_da\\anaconda\\lib\\site-packages\\matplotlib\\backends\\backend_agg.py:238: RuntimeWarning: Glyph 8722 missing from current font.\n",
      "  font.set_text(s, 0.0, flags=flags)\n",
      "C:\\ca_da\\anaconda\\lib\\site-packages\\matplotlib\\backends\\backend_agg.py:201: RuntimeWarning: Glyph 8722 missing from current font.\n",
      "  font.set_text(s, 0, flags=flags)\n"
     ]
    },
    {
     "data": {
      "image/png": "[encoded data removed]",
      "text/plain": [
       "<Figure size 720x360 with 1 Axes>"
      ]
     },
     "metadata": {
      "needs_background": "light"
     },
     "output_type": "display_data"
    },
    {
     "data": {
      "image/png": "[encoded data removed]",
      "text/plain": [
       "<Figure size 1080x576 with 1 Axes>"
      ]
     },
     "metadata": {
      "needs_background": "light"
     },
     "output_type": "display_data"
    }
   ],
   "source": [
    "print_graph('방문인구')                     #이상치 제거 후의 분포도를 살펴보기"
   ]
  },
  {
   "cell_type": "markdown",
   "id": "ab379e14",
   "metadata": {},
   "source": [
    "### 최종"
   ]
  },
  {
   "cell_type": "code",
   "execution_count": 368,
   "id": "7441235c",
   "metadata": {},
   "outputs": [],
   "source": [
    "df_cd.to_csv('상권분석을 위한 유동인구에 따른 카드 매출액 변화 데이터 활용.csv', index = False)"
   ]
  },
  {
   "cell_type": "code",
   "execution_count": null,
   "id": "2049e637",
   "metadata": {},
   "outputs": [],
   "source": []
  },
  {
   "cell_type": "code",
   "execution_count": null,
   "id": "be139d9a",
   "metadata": {},
   "outputs": [],
   "source": []
  },
  {
   "cell_type": "code",
   "execution_count": null,
   "id": "bea07438",
   "metadata": {},
   "outputs": [],
   "source": []
  },
  {
   "cell_type": "code",
   "execution_count": null,
   "id": "a89e5651",
   "metadata": {},
   "outputs": [],
   "source": []
  },
  {
   "cell_type": "code",
   "execution_count": null,
   "id": "55fc95ac",
   "metadata": {},
   "outputs": [],
   "source": []
  }
 ],
 "metadata": {
  "kernelspec": {
   "display_name": "Python 3",
   "language": "python",
   "name": "python3"
  },
  "language_info": {
   "codemirror_mode": {
    "name": "ipython",
    "version": 3
   },
   "file_extension": ".py",
   "mimetype": "text/x-python",
   "name": "python",
   "nbconvert_exporter": "python",
   "pygments_lexer": "ipython3",
   "version": "3.8.8"
  }
 },
 "nbformat": 4,
 "nbformat_minor": 5
}
