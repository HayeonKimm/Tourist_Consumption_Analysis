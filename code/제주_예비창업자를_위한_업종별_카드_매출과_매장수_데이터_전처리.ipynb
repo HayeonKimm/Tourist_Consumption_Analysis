{
 "cells": [
  {
   "cell_type": "markdown",
   "metadata": {},
   "source": [
    "데이터분석 보고서란 무엇인가?\n",
    "\n",
    "* 통계 데이터센터의 자료를 연계 활용 분석하여 사업기획, 창업, 정책 분석, 정책 제안, 현상 연구, 기타 아이디어를 보고서 형식으로 정리한 것\n",
    "    \n",
    "* 주제를 정하고 주제에 포함된 문제에 대하여 데이터 분석을 통해 해결 방법을 찾고, 결과 및 활용 방안에 대하여 기술함\n",
    "    \n",
    "* 기술 방법으로 주제, 연구 배경, 문제점, 접근 방법, 통계분석결과, 문제해결방안, 결론(제안), 기대효과, 향후 과제(아이디어)의 내용으로 구성함\n",
    "    \n",
    "* 데이터분석 보고서는 뚜렷한 목표와 분석결과물과 결론이 있어야하며, 주최측에서 제시하는 자료 1종 이상을 활용해야함\n",
    "    \n",
    "* 통계데이터센터(SDC) 제공자료, 마이크로데이터(RDC용, 공공용), 빅데이터 활용지표(온라인가격자료, 생활경제지표, 경제키워드분석, 모바일유동인구지도), 지도로 본 빅데이터(SGIS)\n",
    "    \n",
    "* SDC 및 RDC용 자료 활용 시 심사평가기준의 '데이터 활용성' 평가항목 우대\n",
    "    \n",
    "* 전체 순서가 논리적이며 복잡하지 않고 가능한 일반인들도 이해할 수 있도록 작성하여야 함"
   ]
  },
  {
   "cell_type": "markdown",
   "metadata": {},
   "source": [
    "# 제주 예비창업자를 위한 업종별 카드 매출과 매장수 데이터 전처리"
   ]
  },
  {
   "cell_type": "code",
   "execution_count": 2,
   "metadata": {},
   "outputs": [
    {
     "name": "stdout",
     "output_type": "stream",
     "text": [
      " C 드라이브의 볼륨에는 이름이 없습니다.\n",
      " 볼륨 일련 번호: 2689-FE44\n",
      "\n",
      " C:\\Users\\수진\\Documents\\multicampus_4\\datasets 디렉터리\n",
      "\n",
      "2021-07-12  오후 05:15    <DIR>          .\n",
      "2021-07-12  오후 05:15    <DIR>          ..\n",
      "2021-07-06  오후 03:03       174,746,926 1_제주 예비창업자를 위한 업종별 카드 매출과 매장수 데이터 활용.csv\n",
      "2021-07-06  오후 02:50         9,314,360 3_상권분석을 위한 유동인구에 따른 카드 매출액 변화 데이터 활용.csv\n",
      "2021-07-08  오후 06:24        89,386,931 5_제주 전기버스 우선도입노선 파악을 위한 데이터(2020.4).csv\n",
      "2020-07-28  오전 11:00         1,086,894 제주특별자치도_개별관광(FIT)_증가에_따른_제주_관광객_소비패턴_변화_분석_BC카드_빅데이터_내국인관광객_20170216.csv\n",
      "2021-07-08  오후 06:12         7,480,630 제주특별자치도_제주도장소(POI)데이터_20151231.csv\n",
      "               5개 파일         282,015,741 바이트\n",
      "               2개 디렉터리  98,688,679,936 바이트 남음\n"
     ]
    }
   ],
   "source": [
    "%ls ..\\datasets\\"
   ]
  },
  {
   "cell_type": "code",
   "execution_count": 3,
   "metadata": {},
   "outputs": [
    {
     "data": {
      "text/plain": [
       "'..\\\\datasets\\\\'"
      ]
     },
     "execution_count": 3,
     "metadata": {},
     "output_type": "execute_result"
    }
   ],
   "source": [
    "path = '..\\\\datasets\\\\'\n",
    "path"
   ]
  },
  {
   "cell_type": "code",
   "execution_count": 4,
   "metadata": {},
   "outputs": [
    {
     "data": {
      "text/plain": [
       "'1_제주 예비창업자를 위한 업종별 카드 매출과 매장수 데이터 활용.csv'"
      ]
     },
     "execution_count": 4,
     "metadata": {},
     "output_type": "execute_result"
    }
   ],
   "source": [
    "files = [\n",
    "            '3_상권분석을 위한 유동인구에 따른 카드 매출액 변화 데이터 활용.csv',\n",
    "            '5_제주 전기버스 우선도입노선 파악을 위한 데이터(2020.4).csv',\n",
    "            '제주특별자치도_개별관광(FIT)_증가에_따른_제주_관광객_소비패턴_변화_분석_BC카드_빅데이터_내국인관광객_20170216.csv',\n",
    "            '1_제주 예비창업자를 위한 업종별 카드 매출과 매장수 데이터 활용.csv',\n",
    "            '제주특별자치도_제주도장소(POI)데이터_20151231.csv',\n",
    "            '9_제주 관광을 위한 날짜별 지역 추천 데이터.csv'\n",
    "]\n",
    "file=files[3]\n",
    "file"
   ]
  },
  {
   "cell_type": "markdown",
   "metadata": {},
   "source": [
    "## 필요 라이브러리 불러오기"
   ]
  },
  {
   "cell_type": "code",
   "execution_count": 123,
   "metadata": {},
   "outputs": [],
   "source": [
    "import pandas as pd\n",
    "import matplotlib.pyplot as plt\n",
    "import seaborn as sns"
   ]
  },
  {
   "cell_type": "code",
   "execution_count": 194,
   "metadata": {},
   "outputs": [],
   "source": [
    "pd.options.display.max_columns = None"
   ]
  },
  {
   "cell_type": "code",
   "execution_count": 195,
   "metadata": {},
   "outputs": [],
   "source": [
    "plt.rc('font', family='Malgun Gothic')"
   ]
  },
  {
   "cell_type": "markdown",
   "metadata": {},
   "source": [
    "## 데이터 불러오기"
   ]
  },
  {
   "cell_type": "code",
   "execution_count": 211,
   "metadata": {
    "scrolled": true
   },
   "outputs": [
    {
     "data": {
      "text/html": [
       "<div>\n",
       "<style scoped>\n",
       "    .dataframe tbody tr th:only-of-type {\n",
       "        vertical-align: middle;\n",
       "    }\n",
       "\n",
       "    .dataframe tbody tr th {\n",
       "        vertical-align: top;\n",
       "    }\n",
       "\n",
       "    .dataframe thead th {\n",
       "        text-align: right;\n",
       "    }\n",
       "</style>\n",
       "<table border=\"1\" class=\"dataframe\">\n",
       "  <thead>\n",
       "    <tr style=\"text-align: right;\">\n",
       "      <th></th>\n",
       "      <th>년월</th>\n",
       "      <th>시도명</th>\n",
       "      <th>지역구분</th>\n",
       "      <th>읍면동명</th>\n",
       "      <th>업종코드</th>\n",
       "      <th>업종명</th>\n",
       "      <th>이용자 구분</th>\n",
       "      <th>관광구분</th>\n",
       "      <th>연령대</th>\n",
       "      <th>성별</th>\n",
       "      <th>이용금액</th>\n",
       "      <th>매장수</th>\n",
       "      <th>업종명 대분류</th>\n",
       "      <th>데이터기준일자</th>\n",
       "    </tr>\n",
       "  </thead>\n",
       "  <tbody>\n",
       "    <tr>\n",
       "      <th>0</th>\n",
       "      <td>2017-01</td>\n",
       "      <td>서귀포시</td>\n",
       "      <td>도심</td>\n",
       "      <td>강정동</td>\n",
       "      <td>G47121</td>\n",
       "      <td>슈퍼마켓</td>\n",
       "      <td>제주도민</td>\n",
       "      <td>도민</td>\n",
       "      <td>50.0</td>\n",
       "      <td>여성</td>\n",
       "      <td>365160</td>\n",
       "      <td>214</td>\n",
       "      <td>소매업</td>\n",
       "      <td>2020-12-15</td>\n",
       "    </tr>\n",
       "    <tr>\n",
       "      <th>1</th>\n",
       "      <td>2017-01</td>\n",
       "      <td>제주시</td>\n",
       "      <td>도심</td>\n",
       "      <td>삼도일동</td>\n",
       "      <td>I55112</td>\n",
       "      <td>여관업</td>\n",
       "      <td>제주도민</td>\n",
       "      <td>도민</td>\n",
       "      <td>60.0</td>\n",
       "      <td>여성</td>\n",
       "      <td>40000</td>\n",
       "      <td>1610</td>\n",
       "      <td>숙박업</td>\n",
       "      <td>2020-12-15</td>\n",
       "    </tr>\n",
       "    <tr>\n",
       "      <th>2</th>\n",
       "      <td>2017-01</td>\n",
       "      <td>제주시</td>\n",
       "      <td>도심</td>\n",
       "      <td>삼양이동</td>\n",
       "      <td>I55112</td>\n",
       "      <td>여관업</td>\n",
       "      <td>제주도민</td>\n",
       "      <td>도민</td>\n",
       "      <td>20.0</td>\n",
       "      <td>여성</td>\n",
       "      <td>162000</td>\n",
       "      <td>1610</td>\n",
       "      <td>숙박업</td>\n",
       "      <td>2020-12-15</td>\n",
       "    </tr>\n",
       "    <tr>\n",
       "      <th>3</th>\n",
       "      <td>2017-01</td>\n",
       "      <td>제주시</td>\n",
       "      <td>도심</td>\n",
       "      <td>삼양이동</td>\n",
       "      <td>I55112</td>\n",
       "      <td>여관업</td>\n",
       "      <td>제주도민</td>\n",
       "      <td>도민</td>\n",
       "      <td>50.0</td>\n",
       "      <td>남성</td>\n",
       "      <td>70000</td>\n",
       "      <td>1610</td>\n",
       "      <td>숙박업</td>\n",
       "      <td>2020-12-15</td>\n",
       "    </tr>\n",
       "    <tr>\n",
       "      <th>4</th>\n",
       "      <td>2017-01</td>\n",
       "      <td>제주시</td>\n",
       "      <td>도심</td>\n",
       "      <td>삼도이동</td>\n",
       "      <td>I55112</td>\n",
       "      <td>여관업</td>\n",
       "      <td>내국인</td>\n",
       "      <td>개별</td>\n",
       "      <td>40.0</td>\n",
       "      <td>남성</td>\n",
       "      <td>3150460</td>\n",
       "      <td>1610</td>\n",
       "      <td>숙박업</td>\n",
       "      <td>2020-12-15</td>\n",
       "    </tr>\n",
       "  </tbody>\n",
       "</table>\n",
       "</div>"
      ],
      "text/plain": [
       "        년월   시도명 지역구분  읍면동명    업종코드   업종명 이용자 구분 관광구분   연령대  성별     이용금액  \\\n",
       "0  2017-01  서귀포시   도심   강정동  G47121  슈퍼마켓   제주도민   도민  50.0  여성   365160   \n",
       "1  2017-01   제주시   도심  삼도일동  I55112   여관업   제주도민   도민  60.0  여성    40000   \n",
       "2  2017-01   제주시   도심  삼양이동  I55112   여관업   제주도민   도민  20.0  여성   162000   \n",
       "3  2017-01   제주시   도심  삼양이동  I55112   여관업   제주도민   도민  50.0  남성    70000   \n",
       "4  2017-01   제주시   도심  삼도이동  I55112   여관업    내국인   개별  40.0  남성  3150460   \n",
       "\n",
       "    매장수 업종명 대분류     데이터기준일자  \n",
       "0   214     소매업  2020-12-15  \n",
       "1  1610     숙박업  2020-12-15  \n",
       "2  1610     숙박업  2020-12-15  \n",
       "3  1610     숙박업  2020-12-15  \n",
       "4  1610     숙박업  2020-12-15  "
      ]
     },
     "execution_count": 211,
     "metadata": {},
     "output_type": "execute_result"
    }
   ],
   "source": [
    "df_card = pd.read_csv(path+file, encoding='cp949')\n",
    "df_card.head()"
   ]
  },
  {
   "cell_type": "code",
   "execution_count": 212,
   "metadata": {},
   "outputs": [
    {
     "data": {
      "text/plain": [
       "(1642619, 14)"
      ]
     },
     "execution_count": 212,
     "metadata": {},
     "output_type": "execute_result"
    }
   ],
   "source": [
    "df_card.shape"
   ]
  },
  {
   "cell_type": "markdown",
   "metadata": {},
   "source": [
    "# 전처리"
   ]
  },
  {
   "cell_type": "markdown",
   "metadata": {},
   "source": [
    "## 년월 분리"
   ]
  },
  {
   "cell_type": "code",
   "execution_count": 213,
   "metadata": {},
   "outputs": [],
   "source": [
    "df_card[['연도', '월']]=df_card['년월'].str.split('-', n=1, expand=True)\n",
    "df_card['연도']=pd.to_numeric(df_card['연도'])\n",
    "df_card['월']=pd.to_numeric(df_card['월'])"
   ]
  },
  {
   "cell_type": "markdown",
   "metadata": {},
   "source": [
    "## 사용하지 않는 컬럼 삭제"
   ]
  },
  {
   "cell_type": "code",
   "execution_count": 214,
   "metadata": {},
   "outputs": [],
   "source": [
    "df_card = df_card.drop(['년월', '업종코드', '데이터기준일자'], axis=1)"
   ]
  },
  {
   "cell_type": "code",
   "execution_count": 215,
   "metadata": {
    "scrolled": true
   },
   "outputs": [
    {
     "data": {
      "text/html": [
       "<div>\n",
       "<style scoped>\n",
       "    .dataframe tbody tr th:only-of-type {\n",
       "        vertical-align: middle;\n",
       "    }\n",
       "\n",
       "    .dataframe tbody tr th {\n",
       "        vertical-align: top;\n",
       "    }\n",
       "\n",
       "    .dataframe thead th {\n",
       "        text-align: right;\n",
       "    }\n",
       "</style>\n",
       "<table border=\"1\" class=\"dataframe\">\n",
       "  <thead>\n",
       "    <tr style=\"text-align: right;\">\n",
       "      <th></th>\n",
       "      <th>연도</th>\n",
       "      <th>월</th>\n",
       "      <th>시도명</th>\n",
       "      <th>지역구분</th>\n",
       "      <th>읍면동명</th>\n",
       "      <th>업종명 대분류</th>\n",
       "      <th>업종명</th>\n",
       "      <th>이용자 구분</th>\n",
       "      <th>관광구분</th>\n",
       "      <th>연령대</th>\n",
       "      <th>성별</th>\n",
       "      <th>이용금액</th>\n",
       "      <th>매장수</th>\n",
       "    </tr>\n",
       "  </thead>\n",
       "  <tbody>\n",
       "    <tr>\n",
       "      <th>0</th>\n",
       "      <td>2017</td>\n",
       "      <td>1</td>\n",
       "      <td>서귀포시</td>\n",
       "      <td>도심</td>\n",
       "      <td>강정동</td>\n",
       "      <td>소매업</td>\n",
       "      <td>슈퍼마켓</td>\n",
       "      <td>제주도민</td>\n",
       "      <td>도민</td>\n",
       "      <td>50.0</td>\n",
       "      <td>여성</td>\n",
       "      <td>365160</td>\n",
       "      <td>214</td>\n",
       "    </tr>\n",
       "    <tr>\n",
       "      <th>1</th>\n",
       "      <td>2017</td>\n",
       "      <td>1</td>\n",
       "      <td>제주시</td>\n",
       "      <td>도심</td>\n",
       "      <td>삼도일동</td>\n",
       "      <td>숙박업</td>\n",
       "      <td>여관업</td>\n",
       "      <td>제주도민</td>\n",
       "      <td>도민</td>\n",
       "      <td>60.0</td>\n",
       "      <td>여성</td>\n",
       "      <td>40000</td>\n",
       "      <td>1610</td>\n",
       "    </tr>\n",
       "    <tr>\n",
       "      <th>2</th>\n",
       "      <td>2017</td>\n",
       "      <td>1</td>\n",
       "      <td>제주시</td>\n",
       "      <td>도심</td>\n",
       "      <td>삼양이동</td>\n",
       "      <td>숙박업</td>\n",
       "      <td>여관업</td>\n",
       "      <td>제주도민</td>\n",
       "      <td>도민</td>\n",
       "      <td>20.0</td>\n",
       "      <td>여성</td>\n",
       "      <td>162000</td>\n",
       "      <td>1610</td>\n",
       "    </tr>\n",
       "    <tr>\n",
       "      <th>3</th>\n",
       "      <td>2017</td>\n",
       "      <td>1</td>\n",
       "      <td>제주시</td>\n",
       "      <td>도심</td>\n",
       "      <td>삼양이동</td>\n",
       "      <td>숙박업</td>\n",
       "      <td>여관업</td>\n",
       "      <td>제주도민</td>\n",
       "      <td>도민</td>\n",
       "      <td>50.0</td>\n",
       "      <td>남성</td>\n",
       "      <td>70000</td>\n",
       "      <td>1610</td>\n",
       "    </tr>\n",
       "    <tr>\n",
       "      <th>4</th>\n",
       "      <td>2017</td>\n",
       "      <td>1</td>\n",
       "      <td>제주시</td>\n",
       "      <td>도심</td>\n",
       "      <td>삼도이동</td>\n",
       "      <td>숙박업</td>\n",
       "      <td>여관업</td>\n",
       "      <td>내국인</td>\n",
       "      <td>개별</td>\n",
       "      <td>40.0</td>\n",
       "      <td>남성</td>\n",
       "      <td>3150460</td>\n",
       "      <td>1610</td>\n",
       "    </tr>\n",
       "  </tbody>\n",
       "</table>\n",
       "</div>"
      ],
      "text/plain": [
       "     연도  월   시도명 지역구분  읍면동명 업종명 대분류   업종명 이용자 구분 관광구분   연령대  성별     이용금액   매장수\n",
       "0  2017  1  서귀포시   도심   강정동     소매업  슈퍼마켓   제주도민   도민  50.0  여성   365160   214\n",
       "1  2017  1   제주시   도심  삼도일동     숙박업   여관업   제주도민   도민  60.0  여성    40000  1610\n",
       "2  2017  1   제주시   도심  삼양이동     숙박업   여관업   제주도민   도민  20.0  여성   162000  1610\n",
       "3  2017  1   제주시   도심  삼양이동     숙박업   여관업   제주도민   도민  50.0  남성    70000  1610\n",
       "4  2017  1   제주시   도심  삼도이동     숙박업   여관업    내국인   개별  40.0  남성  3150460  1610"
      ]
     },
     "execution_count": 215,
     "metadata": {},
     "output_type": "execute_result"
    }
   ],
   "source": [
    "columns = ['연도', '월',  '시도명', '지역구분', '읍면동명',\n",
    "           '업종명 대분류', '업종명', '이용자 구분', '관광구분', \n",
    "           '연령대', '성별', '이용금액', '매장수', ]\n",
    "df_card=df_card[columns]\n",
    "df_card.head()"
   ]
  },
  {
   "cell_type": "markdown",
   "metadata": {},
   "source": [
    "## 결측치 처리"
   ]
  },
  {
   "cell_type": "markdown",
   "metadata": {},
   "source": [
    "### 연령대"
   ]
  },
  {
   "cell_type": "markdown",
   "metadata": {},
   "source": [
    "연령대 결측치 **평균으로 채울 시** 생기는 문제점\n",
    "* 연령대별 이용금액 추출할 때 평균연령대의 이용금액이 높아짐\n",
    "* 총 160만개 데이터 중 결측치 13만개...\n",
    "* 연령대별로 25만개 내외의 데이터 있기 때문에 13만개를 평균으로 채우는 건 투머치\n",
    "* 결측치 채우지 말고 사용??\n",
    "\n",
    "연령대 결측치 **제거할 시** 생기는 문제점\n",
    "* 매장 수에 따른 이용금액 계산 시 오차 발생"
   ]
  },
  {
   "cell_type": "code",
   "execution_count": 216,
   "metadata": {
    "scrolled": false
   },
   "outputs": [
    {
     "data": {
      "text/html": [
       "<div>\n",
       "<style scoped>\n",
       "    .dataframe tbody tr th:only-of-type {\n",
       "        vertical-align: middle;\n",
       "    }\n",
       "\n",
       "    .dataframe tbody tr th {\n",
       "        vertical-align: top;\n",
       "    }\n",
       "\n",
       "    .dataframe thead th {\n",
       "        text-align: right;\n",
       "    }\n",
       "</style>\n",
       "<table border=\"1\" class=\"dataframe\">\n",
       "  <thead>\n",
       "    <tr style=\"text-align: right;\">\n",
       "      <th></th>\n",
       "      <th>연도</th>\n",
       "      <th>월</th>\n",
       "      <th>시도명</th>\n",
       "      <th>지역구분</th>\n",
       "      <th>읍면동명</th>\n",
       "      <th>업종명 대분류</th>\n",
       "      <th>업종명</th>\n",
       "      <th>이용자 구분</th>\n",
       "      <th>관광구분</th>\n",
       "      <th>연령대</th>\n",
       "      <th>성별</th>\n",
       "      <th>이용금액</th>\n",
       "      <th>매장수</th>\n",
       "    </tr>\n",
       "  </thead>\n",
       "  <tbody>\n",
       "    <tr>\n",
       "      <th>15</th>\n",
       "      <td>2017</td>\n",
       "      <td>1</td>\n",
       "      <td>제주시</td>\n",
       "      <td>도심</td>\n",
       "      <td>삼도일동</td>\n",
       "      <td>숙박업</td>\n",
       "      <td>여관업</td>\n",
       "      <td>내국인</td>\n",
       "      <td>개별</td>\n",
       "      <td>NaN</td>\n",
       "      <td>알수없음</td>\n",
       "      <td>244000</td>\n",
       "      <td>1610</td>\n",
       "    </tr>\n",
       "    <tr>\n",
       "      <th>36</th>\n",
       "      <td>2017</td>\n",
       "      <td>1</td>\n",
       "      <td>제주시</td>\n",
       "      <td>도심</td>\n",
       "      <td>연동</td>\n",
       "      <td>숙박업</td>\n",
       "      <td>여관업</td>\n",
       "      <td>중국</td>\n",
       "      <td>단체</td>\n",
       "      <td>NaN</td>\n",
       "      <td>알수없음</td>\n",
       "      <td>74000</td>\n",
       "      <td>1610</td>\n",
       "    </tr>\n",
       "    <tr>\n",
       "      <th>55</th>\n",
       "      <td>2017</td>\n",
       "      <td>1</td>\n",
       "      <td>제주시</td>\n",
       "      <td>도심</td>\n",
       "      <td>오라일동</td>\n",
       "      <td>숙박업</td>\n",
       "      <td>여관업</td>\n",
       "      <td>법인</td>\n",
       "      <td>개별</td>\n",
       "      <td>NaN</td>\n",
       "      <td>알수없음</td>\n",
       "      <td>38024000</td>\n",
       "      <td>1610</td>\n",
       "    </tr>\n",
       "    <tr>\n",
       "      <th>104</th>\n",
       "      <td>2017</td>\n",
       "      <td>1</td>\n",
       "      <td>제주시</td>\n",
       "      <td>읍면</td>\n",
       "      <td>우도면</td>\n",
       "      <td>숙박업</td>\n",
       "      <td>여관업</td>\n",
       "      <td>내국인</td>\n",
       "      <td>개별</td>\n",
       "      <td>NaN</td>\n",
       "      <td>알수없음</td>\n",
       "      <td>8500</td>\n",
       "      <td>1610</td>\n",
       "    </tr>\n",
       "    <tr>\n",
       "      <th>113</th>\n",
       "      <td>2017</td>\n",
       "      <td>1</td>\n",
       "      <td>제주시</td>\n",
       "      <td>도심</td>\n",
       "      <td>건입동</td>\n",
       "      <td>숙박업</td>\n",
       "      <td>여관업</td>\n",
       "      <td>법인</td>\n",
       "      <td>개별</td>\n",
       "      <td>NaN</td>\n",
       "      <td>알수없음</td>\n",
       "      <td>62054720</td>\n",
       "      <td>1610</td>\n",
       "    </tr>\n",
       "    <tr>\n",
       "      <th>...</th>\n",
       "      <td>...</td>\n",
       "      <td>...</td>\n",
       "      <td>...</td>\n",
       "      <td>...</td>\n",
       "      <td>...</td>\n",
       "      <td>...</td>\n",
       "      <td>...</td>\n",
       "      <td>...</td>\n",
       "      <td>...</td>\n",
       "      <td>...</td>\n",
       "      <td>...</td>\n",
       "      <td>...</td>\n",
       "      <td>...</td>\n",
       "    </tr>\n",
       "    <tr>\n",
       "      <th>1642578</th>\n",
       "      <td>2020</td>\n",
       "      <td>4</td>\n",
       "      <td>제주시</td>\n",
       "      <td>도심</td>\n",
       "      <td>도두이동</td>\n",
       "      <td>음식점업</td>\n",
       "      <td>한식 음식점업</td>\n",
       "      <td>법인</td>\n",
       "      <td>개별</td>\n",
       "      <td>NaN</td>\n",
       "      <td>알수없음</td>\n",
       "      <td>9366310</td>\n",
       "      <td>6733</td>\n",
       "    </tr>\n",
       "    <tr>\n",
       "      <th>1642583</th>\n",
       "      <td>2020</td>\n",
       "      <td>4</td>\n",
       "      <td>제주시</td>\n",
       "      <td>도심</td>\n",
       "      <td>도남동</td>\n",
       "      <td>음식점업</td>\n",
       "      <td>한식 음식점업</td>\n",
       "      <td>법인</td>\n",
       "      <td>NaN</td>\n",
       "      <td>NaN</td>\n",
       "      <td>알수없음</td>\n",
       "      <td>24000</td>\n",
       "      <td>6733</td>\n",
       "    </tr>\n",
       "    <tr>\n",
       "      <th>1642598</th>\n",
       "      <td>2020</td>\n",
       "      <td>4</td>\n",
       "      <td>제주시</td>\n",
       "      <td>도심</td>\n",
       "      <td>도남동</td>\n",
       "      <td>음식점업</td>\n",
       "      <td>한식 음식점업</td>\n",
       "      <td>법인</td>\n",
       "      <td>개별</td>\n",
       "      <td>NaN</td>\n",
       "      <td>알수없음</td>\n",
       "      <td>133170100</td>\n",
       "      <td>6733</td>\n",
       "    </tr>\n",
       "    <tr>\n",
       "      <th>1642600</th>\n",
       "      <td>2020</td>\n",
       "      <td>4</td>\n",
       "      <td>제주시</td>\n",
       "      <td>도심</td>\n",
       "      <td>도남동</td>\n",
       "      <td>음식점업</td>\n",
       "      <td>한식 음식점업</td>\n",
       "      <td>법인</td>\n",
       "      <td>단체</td>\n",
       "      <td>NaN</td>\n",
       "      <td>알수없음</td>\n",
       "      <td>37151500</td>\n",
       "      <td>6733</td>\n",
       "    </tr>\n",
       "    <tr>\n",
       "      <th>1642604</th>\n",
       "      <td>2020</td>\n",
       "      <td>4</td>\n",
       "      <td>제주시</td>\n",
       "      <td>도심</td>\n",
       "      <td>도남동</td>\n",
       "      <td>음식점업</td>\n",
       "      <td>한식 음식점업</td>\n",
       "      <td>중국</td>\n",
       "      <td>단체</td>\n",
       "      <td>NaN</td>\n",
       "      <td>알수없음</td>\n",
       "      <td>263500</td>\n",
       "      <td>6733</td>\n",
       "    </tr>\n",
       "  </tbody>\n",
       "</table>\n",
       "<p>133259 rows × 13 columns</p>\n",
       "</div>"
      ],
      "text/plain": [
       "           연도  월  시도명 지역구분  읍면동명 업종명 대분류      업종명 이용자 구분 관광구분  연령대    성별  \\\n",
       "15       2017  1  제주시   도심  삼도일동     숙박업      여관업    내국인   개별  NaN  알수없음   \n",
       "36       2017  1  제주시   도심    연동     숙박업      여관업     중국   단체  NaN  알수없음   \n",
       "55       2017  1  제주시   도심  오라일동     숙박업      여관업     법인   개별  NaN  알수없음   \n",
       "104      2017  1  제주시   읍면   우도면     숙박업      여관업    내국인   개별  NaN  알수없음   \n",
       "113      2017  1  제주시   도심   건입동     숙박업      여관업     법인   개별  NaN  알수없음   \n",
       "...       ... ..  ...  ...   ...     ...      ...    ...  ...  ...   ...   \n",
       "1642578  2020  4  제주시   도심  도두이동    음식점업  한식 음식점업     법인   개별  NaN  알수없음   \n",
       "1642583  2020  4  제주시   도심   도남동    음식점업  한식 음식점업     법인  NaN  NaN  알수없음   \n",
       "1642598  2020  4  제주시   도심   도남동    음식점업  한식 음식점업     법인   개별  NaN  알수없음   \n",
       "1642600  2020  4  제주시   도심   도남동    음식점업  한식 음식점업     법인   단체  NaN  알수없음   \n",
       "1642604  2020  4  제주시   도심   도남동    음식점업  한식 음식점업     중국   단체  NaN  알수없음   \n",
       "\n",
       "              이용금액   매장수  \n",
       "15          244000  1610  \n",
       "36           74000  1610  \n",
       "55        38024000  1610  \n",
       "104           8500  1610  \n",
       "113       62054720  1610  \n",
       "...            ...   ...  \n",
       "1642578    9366310  6733  \n",
       "1642583      24000  6733  \n",
       "1642598  133170100  6733  \n",
       "1642600   37151500  6733  \n",
       "1642604     263500  6733  \n",
       "\n",
       "[133259 rows x 13 columns]"
      ]
     },
     "execution_count": 216,
     "metadata": {},
     "output_type": "execute_result"
    }
   ],
   "source": [
    "df_card[df_card['연령대'].isna()]"
   ]
  },
  {
   "cell_type": "code",
   "execution_count": 217,
   "metadata": {},
   "outputs": [
    {
     "data": {
      "text/plain": [
       "40.0    270385\n",
       "50.0    268496\n",
       "30.0    262262\n",
       "60.0    237583\n",
       "20.0    231922\n",
       "70.0    176758\n",
       "10.0     61954\n",
       "Name: 연령대, dtype: int64"
      ]
     },
     "execution_count": 217,
     "metadata": {},
     "output_type": "execute_result"
    }
   ],
   "source": [
    "df_card['연령대'].value_counts()"
   ]
  },
  {
   "cell_type": "code",
   "execution_count": 218,
   "metadata": {},
   "outputs": [
    {
     "data": {
      "text/plain": [
       "133259"
      ]
     },
     "execution_count": 218,
     "metadata": {},
     "output_type": "execute_result"
    }
   ],
   "source": [
    "df_card['연령대'].isna().sum()"
   ]
  },
  {
   "cell_type": "markdown",
   "metadata": {},
   "source": [
    "### 결측치 있는 행 모두 제거"
   ]
  },
  {
   "cell_type": "code",
   "execution_count": 232,
   "metadata": {
    "scrolled": false
   },
   "outputs": [
    {
     "data": {
      "text/html": [
       "<div>\n",
       "<style scoped>\n",
       "    .dataframe tbody tr th:only-of-type {\n",
       "        vertical-align: middle;\n",
       "    }\n",
       "\n",
       "    .dataframe tbody tr th {\n",
       "        vertical-align: top;\n",
       "    }\n",
       "\n",
       "    .dataframe thead th {\n",
       "        text-align: right;\n",
       "    }\n",
       "</style>\n",
       "<table border=\"1\" class=\"dataframe\">\n",
       "  <thead>\n",
       "    <tr style=\"text-align: right;\">\n",
       "      <th></th>\n",
       "      <th>연도</th>\n",
       "      <th>월</th>\n",
       "      <th>시도명</th>\n",
       "      <th>지역구분</th>\n",
       "      <th>읍면동명</th>\n",
       "      <th>업종명 대분류</th>\n",
       "      <th>업종명</th>\n",
       "      <th>이용자 구분</th>\n",
       "      <th>관광구분</th>\n",
       "      <th>연령대</th>\n",
       "      <th>성별</th>\n",
       "      <th>이용금액</th>\n",
       "      <th>매장수</th>\n",
       "    </tr>\n",
       "  </thead>\n",
       "  <tbody>\n",
       "    <tr>\n",
       "      <th>0</th>\n",
       "      <td>2017</td>\n",
       "      <td>1</td>\n",
       "      <td>서귀포시</td>\n",
       "      <td>도심</td>\n",
       "      <td>강정동</td>\n",
       "      <td>소매업</td>\n",
       "      <td>슈퍼마켓</td>\n",
       "      <td>제주도민</td>\n",
       "      <td>도민</td>\n",
       "      <td>50.0</td>\n",
       "      <td>여성</td>\n",
       "      <td>365160</td>\n",
       "      <td>214</td>\n",
       "    </tr>\n",
       "    <tr>\n",
       "      <th>1</th>\n",
       "      <td>2017</td>\n",
       "      <td>1</td>\n",
       "      <td>제주시</td>\n",
       "      <td>도심</td>\n",
       "      <td>삼도일동</td>\n",
       "      <td>숙박업</td>\n",
       "      <td>여관업</td>\n",
       "      <td>제주도민</td>\n",
       "      <td>도민</td>\n",
       "      <td>60.0</td>\n",
       "      <td>여성</td>\n",
       "      <td>40000</td>\n",
       "      <td>1610</td>\n",
       "    </tr>\n",
       "    <tr>\n",
       "      <th>2</th>\n",
       "      <td>2017</td>\n",
       "      <td>1</td>\n",
       "      <td>제주시</td>\n",
       "      <td>도심</td>\n",
       "      <td>삼양이동</td>\n",
       "      <td>숙박업</td>\n",
       "      <td>여관업</td>\n",
       "      <td>제주도민</td>\n",
       "      <td>도민</td>\n",
       "      <td>20.0</td>\n",
       "      <td>여성</td>\n",
       "      <td>162000</td>\n",
       "      <td>1610</td>\n",
       "    </tr>\n",
       "    <tr>\n",
       "      <th>3</th>\n",
       "      <td>2017</td>\n",
       "      <td>1</td>\n",
       "      <td>제주시</td>\n",
       "      <td>도심</td>\n",
       "      <td>삼양이동</td>\n",
       "      <td>숙박업</td>\n",
       "      <td>여관업</td>\n",
       "      <td>제주도민</td>\n",
       "      <td>도민</td>\n",
       "      <td>50.0</td>\n",
       "      <td>남성</td>\n",
       "      <td>70000</td>\n",
       "      <td>1610</td>\n",
       "    </tr>\n",
       "    <tr>\n",
       "      <th>4</th>\n",
       "      <td>2017</td>\n",
       "      <td>1</td>\n",
       "      <td>제주시</td>\n",
       "      <td>도심</td>\n",
       "      <td>삼도이동</td>\n",
       "      <td>숙박업</td>\n",
       "      <td>여관업</td>\n",
       "      <td>내국인</td>\n",
       "      <td>개별</td>\n",
       "      <td>40.0</td>\n",
       "      <td>남성</td>\n",
       "      <td>3150460</td>\n",
       "      <td>1610</td>\n",
       "    </tr>\n",
       "    <tr>\n",
       "      <th>5</th>\n",
       "      <td>2017</td>\n",
       "      <td>1</td>\n",
       "      <td>제주시</td>\n",
       "      <td>도심</td>\n",
       "      <td>삼도이동</td>\n",
       "      <td>숙박업</td>\n",
       "      <td>여관업</td>\n",
       "      <td>내국인</td>\n",
       "      <td>개별</td>\n",
       "      <td>60.0</td>\n",
       "      <td>남성</td>\n",
       "      <td>728470</td>\n",
       "      <td>1610</td>\n",
       "    </tr>\n",
       "    <tr>\n",
       "      <th>6</th>\n",
       "      <td>2017</td>\n",
       "      <td>1</td>\n",
       "      <td>제주시</td>\n",
       "      <td>도심</td>\n",
       "      <td>삼도이동</td>\n",
       "      <td>숙박업</td>\n",
       "      <td>여관업</td>\n",
       "      <td>내국인</td>\n",
       "      <td>개별</td>\n",
       "      <td>70.0</td>\n",
       "      <td>여성</td>\n",
       "      <td>81000</td>\n",
       "      <td>1610</td>\n",
       "    </tr>\n",
       "    <tr>\n",
       "      <th>7</th>\n",
       "      <td>2017</td>\n",
       "      <td>1</td>\n",
       "      <td>제주시</td>\n",
       "      <td>도심</td>\n",
       "      <td>삼도일동</td>\n",
       "      <td>숙박업</td>\n",
       "      <td>여관업</td>\n",
       "      <td>제주도민</td>\n",
       "      <td>도민</td>\n",
       "      <td>50.0</td>\n",
       "      <td>남성</td>\n",
       "      <td>3520000</td>\n",
       "      <td>1610</td>\n",
       "    </tr>\n",
       "    <tr>\n",
       "      <th>8</th>\n",
       "      <td>2017</td>\n",
       "      <td>1</td>\n",
       "      <td>제주시</td>\n",
       "      <td>도심</td>\n",
       "      <td>삼도이동</td>\n",
       "      <td>숙박업</td>\n",
       "      <td>여관업</td>\n",
       "      <td>제주도민</td>\n",
       "      <td>도민</td>\n",
       "      <td>60.0</td>\n",
       "      <td>여성</td>\n",
       "      <td>233000</td>\n",
       "      <td>1610</td>\n",
       "    </tr>\n",
       "    <tr>\n",
       "      <th>9</th>\n",
       "      <td>2017</td>\n",
       "      <td>1</td>\n",
       "      <td>제주시</td>\n",
       "      <td>도심</td>\n",
       "      <td>삼도일동</td>\n",
       "      <td>숙박업</td>\n",
       "      <td>여관업</td>\n",
       "      <td>제주도민</td>\n",
       "      <td>도민</td>\n",
       "      <td>50.0</td>\n",
       "      <td>여성</td>\n",
       "      <td>1067000</td>\n",
       "      <td>1610</td>\n",
       "    </tr>\n",
       "    <tr>\n",
       "      <th>10</th>\n",
       "      <td>2017</td>\n",
       "      <td>1</td>\n",
       "      <td>제주시</td>\n",
       "      <td>도심</td>\n",
       "      <td>삼도일동</td>\n",
       "      <td>숙박업</td>\n",
       "      <td>여관업</td>\n",
       "      <td>제주도민</td>\n",
       "      <td>도민</td>\n",
       "      <td>70.0</td>\n",
       "      <td>남성</td>\n",
       "      <td>80000</td>\n",
       "      <td>1610</td>\n",
       "    </tr>\n",
       "    <tr>\n",
       "      <th>11</th>\n",
       "      <td>2017</td>\n",
       "      <td>1</td>\n",
       "      <td>제주시</td>\n",
       "      <td>도심</td>\n",
       "      <td>아라일동</td>\n",
       "      <td>숙박업</td>\n",
       "      <td>여관업</td>\n",
       "      <td>내국인</td>\n",
       "      <td>개별</td>\n",
       "      <td>20.0</td>\n",
       "      <td>남성</td>\n",
       "      <td>92000</td>\n",
       "      <td>1610</td>\n",
       "    </tr>\n",
       "    <tr>\n",
       "      <th>12</th>\n",
       "      <td>2017</td>\n",
       "      <td>1</td>\n",
       "      <td>제주시</td>\n",
       "      <td>도심</td>\n",
       "      <td>아라일동</td>\n",
       "      <td>숙박업</td>\n",
       "      <td>여관업</td>\n",
       "      <td>내국인</td>\n",
       "      <td>개별</td>\n",
       "      <td>50.0</td>\n",
       "      <td>남성</td>\n",
       "      <td>668000</td>\n",
       "      <td>1610</td>\n",
       "    </tr>\n",
       "    <tr>\n",
       "      <th>13</th>\n",
       "      <td>2017</td>\n",
       "      <td>1</td>\n",
       "      <td>제주시</td>\n",
       "      <td>도심</td>\n",
       "      <td>아라일동</td>\n",
       "      <td>숙박업</td>\n",
       "      <td>여관업</td>\n",
       "      <td>제주도민</td>\n",
       "      <td>도민</td>\n",
       "      <td>40.0</td>\n",
       "      <td>남성</td>\n",
       "      <td>189000</td>\n",
       "      <td>1610</td>\n",
       "    </tr>\n",
       "    <tr>\n",
       "      <th>14</th>\n",
       "      <td>2017</td>\n",
       "      <td>1</td>\n",
       "      <td>제주시</td>\n",
       "      <td>도심</td>\n",
       "      <td>삼도일동</td>\n",
       "      <td>숙박업</td>\n",
       "      <td>여관업</td>\n",
       "      <td>내국인</td>\n",
       "      <td>개별</td>\n",
       "      <td>40.0</td>\n",
       "      <td>여성</td>\n",
       "      <td>983000</td>\n",
       "      <td>1610</td>\n",
       "    </tr>\n",
       "    <tr>\n",
       "      <th>15</th>\n",
       "      <td>2017</td>\n",
       "      <td>1</td>\n",
       "      <td>제주시</td>\n",
       "      <td>도심</td>\n",
       "      <td>삼도일동</td>\n",
       "      <td>숙박업</td>\n",
       "      <td>여관업</td>\n",
       "      <td>내국인</td>\n",
       "      <td>개별</td>\n",
       "      <td>30.0</td>\n",
       "      <td>남성</td>\n",
       "      <td>2326000</td>\n",
       "      <td>1610</td>\n",
       "    </tr>\n",
       "    <tr>\n",
       "      <th>16</th>\n",
       "      <td>2017</td>\n",
       "      <td>1</td>\n",
       "      <td>제주시</td>\n",
       "      <td>도심</td>\n",
       "      <td>삼도이동</td>\n",
       "      <td>숙박업</td>\n",
       "      <td>여관업</td>\n",
       "      <td>제주도민</td>\n",
       "      <td>도민</td>\n",
       "      <td>50.0</td>\n",
       "      <td>남성</td>\n",
       "      <td>1263000</td>\n",
       "      <td>1610</td>\n",
       "    </tr>\n",
       "    <tr>\n",
       "      <th>17</th>\n",
       "      <td>2017</td>\n",
       "      <td>1</td>\n",
       "      <td>제주시</td>\n",
       "      <td>도심</td>\n",
       "      <td>노형동</td>\n",
       "      <td>숙박업</td>\n",
       "      <td>여관업</td>\n",
       "      <td>제주도민</td>\n",
       "      <td>도민</td>\n",
       "      <td>20.0</td>\n",
       "      <td>여성</td>\n",
       "      <td>560000</td>\n",
       "      <td>1610</td>\n",
       "    </tr>\n",
       "    <tr>\n",
       "      <th>18</th>\n",
       "      <td>2017</td>\n",
       "      <td>1</td>\n",
       "      <td>제주시</td>\n",
       "      <td>도심</td>\n",
       "      <td>노형동</td>\n",
       "      <td>숙박업</td>\n",
       "      <td>여관업</td>\n",
       "      <td>제주도민</td>\n",
       "      <td>도민</td>\n",
       "      <td>50.0</td>\n",
       "      <td>남성</td>\n",
       "      <td>3124000</td>\n",
       "      <td>1610</td>\n",
       "    </tr>\n",
       "    <tr>\n",
       "      <th>19</th>\n",
       "      <td>2017</td>\n",
       "      <td>1</td>\n",
       "      <td>제주시</td>\n",
       "      <td>도심</td>\n",
       "      <td>도두이동</td>\n",
       "      <td>숙박업</td>\n",
       "      <td>여관업</td>\n",
       "      <td>내국인</td>\n",
       "      <td>개별</td>\n",
       "      <td>50.0</td>\n",
       "      <td>여성</td>\n",
       "      <td>230000</td>\n",
       "      <td>1610</td>\n",
       "    </tr>\n",
       "  </tbody>\n",
       "</table>\n",
       "</div>"
      ],
      "text/plain": [
       "      연도  월   시도명 지역구분  읍면동명 업종명 대분류   업종명 이용자 구분 관광구분   연령대  성별     이용금액  \\\n",
       "0   2017  1  서귀포시   도심   강정동     소매업  슈퍼마켓   제주도민   도민  50.0  여성   365160   \n",
       "1   2017  1   제주시   도심  삼도일동     숙박업   여관업   제주도민   도민  60.0  여성    40000   \n",
       "2   2017  1   제주시   도심  삼양이동     숙박업   여관업   제주도민   도민  20.0  여성   162000   \n",
       "3   2017  1   제주시   도심  삼양이동     숙박업   여관업   제주도민   도민  50.0  남성    70000   \n",
       "4   2017  1   제주시   도심  삼도이동     숙박업   여관업    내국인   개별  40.0  남성  3150460   \n",
       "5   2017  1   제주시   도심  삼도이동     숙박업   여관업    내국인   개별  60.0  남성   728470   \n",
       "6   2017  1   제주시   도심  삼도이동     숙박업   여관업    내국인   개별  70.0  여성    81000   \n",
       "7   2017  1   제주시   도심  삼도일동     숙박업   여관업   제주도민   도민  50.0  남성  3520000   \n",
       "8   2017  1   제주시   도심  삼도이동     숙박업   여관업   제주도민   도민  60.0  여성   233000   \n",
       "9   2017  1   제주시   도심  삼도일동     숙박업   여관업   제주도민   도민  50.0  여성  1067000   \n",
       "10  2017  1   제주시   도심  삼도일동     숙박업   여관업   제주도민   도민  70.0  남성    80000   \n",
       "11  2017  1   제주시   도심  아라일동     숙박업   여관업    내국인   개별  20.0  남성    92000   \n",
       "12  2017  1   제주시   도심  아라일동     숙박업   여관업    내국인   개별  50.0  남성   668000   \n",
       "13  2017  1   제주시   도심  아라일동     숙박업   여관업   제주도민   도민  40.0  남성   189000   \n",
       "14  2017  1   제주시   도심  삼도일동     숙박업   여관업    내국인   개별  40.0  여성   983000   \n",
       "15  2017  1   제주시   도심  삼도일동     숙박업   여관업    내국인   개별  30.0  남성  2326000   \n",
       "16  2017  1   제주시   도심  삼도이동     숙박업   여관업   제주도민   도민  50.0  남성  1263000   \n",
       "17  2017  1   제주시   도심   노형동     숙박업   여관업   제주도민   도민  20.0  여성   560000   \n",
       "18  2017  1   제주시   도심   노형동     숙박업   여관업   제주도민   도민  50.0  남성  3124000   \n",
       "19  2017  1   제주시   도심  도두이동     숙박업   여관업    내국인   개별  50.0  여성   230000   \n",
       "\n",
       "     매장수  \n",
       "0    214  \n",
       "1   1610  \n",
       "2   1610  \n",
       "3   1610  \n",
       "4   1610  \n",
       "5   1610  \n",
       "6   1610  \n",
       "7   1610  \n",
       "8   1610  \n",
       "9   1610  \n",
       "10  1610  \n",
       "11  1610  \n",
       "12  1610  \n",
       "13  1610  \n",
       "14  1610  \n",
       "15  1610  \n",
       "16  1610  \n",
       "17  1610  \n",
       "18  1610  \n",
       "19  1610  "
      ]
     },
     "execution_count": 232,
     "metadata": {},
     "output_type": "execute_result"
    }
   ],
   "source": [
    "df_card=df_card.dropna()\n",
    "df_card=df_card.reset_index(drop=True)\n",
    "df_card.head(20)"
   ]
  },
  {
   "cell_type": "markdown",
   "metadata": {},
   "source": [
    "### 이용자 구분이 법인인 행에 대해서"
   ]
  },
  {
   "cell_type": "markdown",
   "metadata": {},
   "source": [
    "법인을 제거해도 되는 이유\n",
    "* 법인은 단체 -> 연령, 성별, 나이대 알 수 없음 ... 분석 불가\n",
    "* 법인의 이용금액이 굉장히 많을 텐데?!\n",
    "\n",
    "... 결측치 있는 행 다 제거했더니 자동으로 없어져 버림 0_<"
   ]
  },
  {
   "cell_type": "code",
   "execution_count": 233,
   "metadata": {},
   "outputs": [
    {
     "data": {
      "text/html": [
       "<div>\n",
       "<style scoped>\n",
       "    .dataframe tbody tr th:only-of-type {\n",
       "        vertical-align: middle;\n",
       "    }\n",
       "\n",
       "    .dataframe tbody tr th {\n",
       "        vertical-align: top;\n",
       "    }\n",
       "\n",
       "    .dataframe thead th {\n",
       "        text-align: right;\n",
       "    }\n",
       "</style>\n",
       "<table border=\"1\" class=\"dataframe\">\n",
       "  <thead>\n",
       "    <tr style=\"text-align: right;\">\n",
       "      <th></th>\n",
       "      <th>연도</th>\n",
       "      <th>월</th>\n",
       "      <th>시도명</th>\n",
       "      <th>지역구분</th>\n",
       "      <th>읍면동명</th>\n",
       "      <th>업종명 대분류</th>\n",
       "      <th>업종명</th>\n",
       "      <th>이용자 구분</th>\n",
       "      <th>관광구분</th>\n",
       "      <th>연령대</th>\n",
       "      <th>성별</th>\n",
       "      <th>이용금액</th>\n",
       "      <th>매장수</th>\n",
       "    </tr>\n",
       "  </thead>\n",
       "  <tbody>\n",
       "  </tbody>\n",
       "</table>\n",
       "</div>"
      ],
      "text/plain": [
       "Empty DataFrame\n",
       "Columns: [연도, 월, 시도명, 지역구분, 읍면동명, 업종명 대분류, 업종명, 이용자 구분, 관광구분, 연령대, 성별, 이용금액, 매장수]\n",
       "Index: []"
      ]
     },
     "execution_count": 233,
     "metadata": {},
     "output_type": "execute_result"
    }
   ],
   "source": [
    "df_card[df_card['이용자 구분']=='법인']"
   ]
  },
  {
   "cell_type": "code",
   "execution_count": 234,
   "metadata": {},
   "outputs": [
    {
     "data": {
      "text/html": [
       "<div>\n",
       "<style scoped>\n",
       "    .dataframe tbody tr th:only-of-type {\n",
       "        vertical-align: middle;\n",
       "    }\n",
       "\n",
       "    .dataframe tbody tr th {\n",
       "        vertical-align: top;\n",
       "    }\n",
       "\n",
       "    .dataframe thead th {\n",
       "        text-align: right;\n",
       "    }\n",
       "</style>\n",
       "<table border=\"1\" class=\"dataframe\">\n",
       "  <thead>\n",
       "    <tr style=\"text-align: right;\">\n",
       "      <th></th>\n",
       "      <th>연도</th>\n",
       "      <th>월</th>\n",
       "      <th>시도명</th>\n",
       "      <th>지역구분</th>\n",
       "      <th>읍면동명</th>\n",
       "      <th>업종명 대분류</th>\n",
       "      <th>업종명</th>\n",
       "      <th>이용자 구분</th>\n",
       "      <th>관광구분</th>\n",
       "      <th>연령대</th>\n",
       "      <th>성별</th>\n",
       "      <th>이용금액</th>\n",
       "      <th>매장수</th>\n",
       "    </tr>\n",
       "  </thead>\n",
       "  <tbody>\n",
       "    <tr>\n",
       "      <th>0</th>\n",
       "      <td>2017</td>\n",
       "      <td>1</td>\n",
       "      <td>서귀포시</td>\n",
       "      <td>도심</td>\n",
       "      <td>강정동</td>\n",
       "      <td>소매업</td>\n",
       "      <td>슈퍼마켓</td>\n",
       "      <td>제주도민</td>\n",
       "      <td>도민</td>\n",
       "      <td>50.0</td>\n",
       "      <td>여성</td>\n",
       "      <td>365160</td>\n",
       "      <td>214</td>\n",
       "    </tr>\n",
       "    <tr>\n",
       "      <th>1</th>\n",
       "      <td>2017</td>\n",
       "      <td>1</td>\n",
       "      <td>제주시</td>\n",
       "      <td>도심</td>\n",
       "      <td>삼도일동</td>\n",
       "      <td>숙박업</td>\n",
       "      <td>여관업</td>\n",
       "      <td>제주도민</td>\n",
       "      <td>도민</td>\n",
       "      <td>60.0</td>\n",
       "      <td>여성</td>\n",
       "      <td>40000</td>\n",
       "      <td>1610</td>\n",
       "    </tr>\n",
       "    <tr>\n",
       "      <th>2</th>\n",
       "      <td>2017</td>\n",
       "      <td>1</td>\n",
       "      <td>제주시</td>\n",
       "      <td>도심</td>\n",
       "      <td>삼양이동</td>\n",
       "      <td>숙박업</td>\n",
       "      <td>여관업</td>\n",
       "      <td>제주도민</td>\n",
       "      <td>도민</td>\n",
       "      <td>20.0</td>\n",
       "      <td>여성</td>\n",
       "      <td>162000</td>\n",
       "      <td>1610</td>\n",
       "    </tr>\n",
       "    <tr>\n",
       "      <th>3</th>\n",
       "      <td>2017</td>\n",
       "      <td>1</td>\n",
       "      <td>제주시</td>\n",
       "      <td>도심</td>\n",
       "      <td>삼양이동</td>\n",
       "      <td>숙박업</td>\n",
       "      <td>여관업</td>\n",
       "      <td>제주도민</td>\n",
       "      <td>도민</td>\n",
       "      <td>50.0</td>\n",
       "      <td>남성</td>\n",
       "      <td>70000</td>\n",
       "      <td>1610</td>\n",
       "    </tr>\n",
       "    <tr>\n",
       "      <th>4</th>\n",
       "      <td>2017</td>\n",
       "      <td>1</td>\n",
       "      <td>제주시</td>\n",
       "      <td>도심</td>\n",
       "      <td>삼도이동</td>\n",
       "      <td>숙박업</td>\n",
       "      <td>여관업</td>\n",
       "      <td>내국인</td>\n",
       "      <td>개별</td>\n",
       "      <td>40.0</td>\n",
       "      <td>남성</td>\n",
       "      <td>3150460</td>\n",
       "      <td>1610</td>\n",
       "    </tr>\n",
       "  </tbody>\n",
       "</table>\n",
       "</div>"
      ],
      "text/plain": [
       "     연도  월   시도명 지역구분  읍면동명 업종명 대분류   업종명 이용자 구분 관광구분   연령대  성별     이용금액   매장수\n",
       "0  2017  1  서귀포시   도심   강정동     소매업  슈퍼마켓   제주도민   도민  50.0  여성   365160   214\n",
       "1  2017  1   제주시   도심  삼도일동     숙박업   여관업   제주도민   도민  60.0  여성    40000  1610\n",
       "2  2017  1   제주시   도심  삼양이동     숙박업   여관업   제주도민   도민  20.0  여성   162000  1610\n",
       "3  2017  1   제주시   도심  삼양이동     숙박업   여관업   제주도민   도민  50.0  남성    70000  1610\n",
       "4  2017  1   제주시   도심  삼도이동     숙박업   여관업    내국인   개별  40.0  남성  3150460  1610"
      ]
     },
     "execution_count": 234,
     "metadata": {},
     "output_type": "execute_result"
    }
   ],
   "source": [
    "df_card.head()"
   ]
  },
  {
   "cell_type": "markdown",
   "metadata": {},
   "source": [
    "# 분석\n",
    "\n",
    "## 분석 목표\n",
    "1. 인기 업종 분석\n",
    "  - 이용 금액이 높은 업종\n",
    "  - 매장 수 대비 이용 금액\n",
    "  \n",
    "  \n",
    "2. 이용자 구분 분석\n",
    "  - 이용 금액이 높은 연령대, 성별, 국적 등\n",
    "  \n",
    "  \n",
    "3. 계절에 따른 이용 금액\n",
    "  - 마케팅 인사이트 도출"
   ]
  },
  {
   "cell_type": "markdown",
   "metadata": {},
   "source": [
    "## 변수 정보"
   ]
  },
  {
   "cell_type": "markdown",
   "metadata": {},
   "source": [
    "\n",
    "|변수명|설명|비고|\n",
    "|:-----|:---|:---|\n",
    "|연도|2017~2020||\n",
    "|월|1~12||\n",
    "|시도명|제주시, 서귀포시 중 1||\n",
    "|지역구분|도심, 읍면 중 1||\n",
    "|읍면동명|73개 읍면동 중 1||\n",
    "|업종명 대분류|소매업, 숙박업, 음식점업, 임대업, 서비스업, 운송업 중 1||\n",
    "|업종명|42개 업종명 중 1||\n",
    "|이용자 구분|제주도민, 내국인, 중국, 법인, 동남아, 일본, 기타외국 중 1||\n",
    "|관광구분|도민, 개별, 단체||\n",
    "|연령대|10~70, 10 단위||\n",
    "|성별|여성, 남성 중 1||\n",
    "|이용금액|10~3102095316||\n",
    "|매장수|1~7030|기준 찾아야 함|"
   ]
  },
  {
   "cell_type": "markdown",
   "metadata": {},
   "source": [
    "### 지역구분에 따른 읍면동명"
   ]
  },
  {
   "cell_type": "code",
   "execution_count": 278,
   "metadata": {},
   "outputs": [
    {
     "name": "stdout",
     "output_type": "stream",
     "text": [
      "서귀포시(27):\n",
      "강정동, 하예동, 중문동, 토평동, 신효동, 월평동, 하원동, 하효동, 호근동, 회수동, 서홍동, 색달동, 보목동, 상예동, 상효동, 법환동, 서귀동, 서호동, 도순동, 대포동, 동홍동, 남원읍, 대정읍, 성산읍, 안덕면, 표선면, 영남동\n",
      "\n",
      "제주시(47):\n",
      "삼도일동, 삼양이동, 삼도이동, 아라일동, 노형동, 도두이동, 도두일동, 도남동, 봉개동, 연동, 외도일동, 외도이동, 용담삼동, 용담이동, 오라일동, 오등동, 오라이동, 한경면, 추자면, 조천읍, 한림읍, 우도면, 건입동, 내도동, 용담일동, 이호일동, 일도이동, 이도일동, 일도일동, 이도이동, 구좌읍, 애월읍, 삼양일동, 아라이동, 해안동, 삼양삼동, 영평동, 오라삼동, 도련이동, 도련일동, 도평동, 화북일동, 이호이동, 화북이동, 월평동, 용강동, 회천동\n",
      "\n"
     ]
    }
   ],
   "source": [
    "location_categories = df_card['시도명'].unique()\n",
    "for cat in location_categories:\n",
    "    emds = df_card[df_card['시도명']==cat]['읍면동명'].unique()\n",
    "    print(f'{cat}({len(emds)}):')\n",
    "    for emd in emds[:-1]:\n",
    "        print(emd, end=', ')\n",
    "    print(emds[-1])\n",
    "    print()"
   ]
  },
  {
   "cell_type": "markdown",
   "metadata": {},
   "source": [
    "### 업종명 대분류에 따른 업종명"
   ]
  },
  {
   "cell_type": "code",
   "execution_count": 276,
   "metadata": {
    "scrolled": false
   },
   "outputs": [
    {
     "name": "stdout",
     "output_type": "stream",
     "text": [
      "소매업(16):\n",
      "슈퍼마켓, 관광 민예품 및 선물용품 소매업, 화장품 및 방향제 소매업, 빵 및 과자류 소매업, 과실 및 채소 소매업, 수산물 소매업, 차량용 가스 충전업, 차량용 주유소 운영업, 그외 기타 종합 소매업, 기타 대형 종합 소매업, 비알콜 음료점업, 건강보조식품 소매업, 체인화 편의점, 육류 소매업, 기타음식료품위주종합소매업, 면세점\n",
      "\n",
      "숙박업(3):\n",
      "여관업, 호텔업, 휴양콘도 운영업\n",
      "\n",
      "음식점업(8):\n",
      "한식 음식점업, 중식 음식점업, 일식 음식점업, 서양식 음식점업, 기타 외국식 음식점업, 일반유흥 주점업, 피자, 햄버거, 샌드위치 및 유사 음식점업, 기타 주점업\n",
      "\n",
      "임대업(2):\n",
      "스포츠 및 레크레이션 용품 임대업, 자동차 임대업\n",
      "\n",
      "서비스업(9):\n",
      "욕탕업, 그외 기타 분류안된 오락관련 서비스업, 그외 기타 스포츠시설 운영업, 골프장 운영업, 마사지업, 전시 및 행사 대행업, 여행사업, 기타 수상오락 서비스업, 기타 갬블링 및 베팅업\n",
      "\n",
      "운송업(2):\n",
      "정기 항공 운송업, 내항 여객 운송업\n",
      "\n"
     ]
    }
   ],
   "source": [
    "location_categories = df_card['업종명 대분류'].unique()\n",
    "for cat in location_categories:\n",
    "    emds = df_card[df_card['업종명 대분류']==cat]['업종명'].unique()\n",
    "    print(f'{cat}({len(emds)}):')\n",
    "    for emd in emds[:-1]:\n",
    "        print(emd, end=', ')\n",
    "    print(emds[-1])\n",
    "    print()"
   ]
  },
  {
   "cell_type": "markdown",
   "metadata": {},
   "source": [
    "## 통계 분석"
   ]
  },
  {
   "cell_type": "code",
   "execution_count": 237,
   "metadata": {},
   "outputs": [
    {
     "data": {
      "text/html": [
       "<div>\n",
       "<style scoped>\n",
       "    .dataframe tbody tr th:only-of-type {\n",
       "        vertical-align: middle;\n",
       "    }\n",
       "\n",
       "    .dataframe tbody tr th {\n",
       "        vertical-align: top;\n",
       "    }\n",
       "\n",
       "    .dataframe thead th {\n",
       "        text-align: right;\n",
       "    }\n",
       "</style>\n",
       "<table border=\"1\" class=\"dataframe\">\n",
       "  <thead>\n",
       "    <tr style=\"text-align: right;\">\n",
       "      <th></th>\n",
       "      <th>연령대</th>\n",
       "      <th>이용금액</th>\n",
       "      <th>매장수</th>\n",
       "    </tr>\n",
       "  </thead>\n",
       "  <tbody>\n",
       "    <tr>\n",
       "      <th>count</th>\n",
       "      <td>1.468102e+06</td>\n",
       "      <td>1.468102e+06</td>\n",
       "      <td>1.468102e+06</td>\n",
       "    </tr>\n",
       "    <tr>\n",
       "      <th>mean</th>\n",
       "      <td>4.255971e+01</td>\n",
       "      <td>3.254823e+06</td>\n",
       "      <td>7.781438e+02</td>\n",
       "    </tr>\n",
       "    <tr>\n",
       "      <th>std</th>\n",
       "      <td>1.729278e+01</td>\n",
       "      <td>1.586093e+07</td>\n",
       "      <td>1.399923e+03</td>\n",
       "    </tr>\n",
       "    <tr>\n",
       "      <th>min</th>\n",
       "      <td>1.000000e+01</td>\n",
       "      <td>1.000000e+01</td>\n",
       "      <td>1.000000e+00</td>\n",
       "    </tr>\n",
       "    <tr>\n",
       "      <th>25%</th>\n",
       "      <td>3.000000e+01</td>\n",
       "      <td>9.590000e+04</td>\n",
       "      <td>1.520000e+02</td>\n",
       "    </tr>\n",
       "    <tr>\n",
       "      <th>50%</th>\n",
       "      <td>4.000000e+01</td>\n",
       "      <td>3.985000e+05</td>\n",
       "      <td>3.570000e+02</td>\n",
       "    </tr>\n",
       "    <tr>\n",
       "      <th>75%</th>\n",
       "      <td>6.000000e+01</td>\n",
       "      <td>1.662745e+06</td>\n",
       "      <td>6.820000e+02</td>\n",
       "    </tr>\n",
       "    <tr>\n",
       "      <th>max</th>\n",
       "      <td>7.000000e+01</td>\n",
       "      <td>9.593131e+08</td>\n",
       "      <td>7.030000e+03</td>\n",
       "    </tr>\n",
       "  </tbody>\n",
       "</table>\n",
       "</div>"
      ],
      "text/plain": [
       "                연령대          이용금액           매장수\n",
       "count  1.468102e+06  1.468102e+06  1.468102e+06\n",
       "mean   4.255971e+01  3.254823e+06  7.781438e+02\n",
       "std    1.729278e+01  1.586093e+07  1.399923e+03\n",
       "min    1.000000e+01  1.000000e+01  1.000000e+00\n",
       "25%    3.000000e+01  9.590000e+04  1.520000e+02\n",
       "50%    4.000000e+01  3.985000e+05  3.570000e+02\n",
       "75%    6.000000e+01  1.662745e+06  6.820000e+02\n",
       "max    7.000000e+01  9.593131e+08  7.030000e+03"
      ]
     },
     "execution_count": 237,
     "metadata": {},
     "output_type": "execute_result"
    }
   ],
   "source": [
    "df_card[['연령대', '이용금액', '매장수']].describe()"
   ]
  },
  {
   "cell_type": "markdown",
   "metadata": {},
   "source": [
    "### 날짜\n",
    "2017년 1월부터 2020년 4월까지 데이터\n",
    "\n",
    "월별로 약 35,000개 내외 데이터가 있음\n",
    "\n",
    "업종별 카드 매출 및 매장수 데이터\n"
   ]
  },
  {
   "cell_type": "code",
   "execution_count": 238,
   "metadata": {},
   "outputs": [
    {
     "data": {
      "text/plain": [
       "<matplotlib.axes._subplots.AxesSubplot at 0x22f124f35b0>"
      ]
     },
     "execution_count": 238,
     "metadata": {},
     "output_type": "execute_result"
    },
    {
     "data": {
      "image/png": "[encoded data removed]",
      "text/plain": [
       "<Figure size 432x288 with 1 Axes>"
      ]
     },
     "metadata": {
      "needs_background": "light"
     },
     "output_type": "display_data"
    }
   ],
   "source": [
    "df_card.groupby(['연도','월'])['시도명'].count().plot.bar()"
   ]
  },
  {
   "cell_type": "markdown",
   "metadata": {},
   "source": [
    "### 시도명"
   ]
  },
  {
   "cell_type": "code",
   "execution_count": 239,
   "metadata": {},
   "outputs": [
    {
     "data": {
      "text/html": [
       "<div>\n",
       "<style scoped>\n",
       "    .dataframe tbody tr th:only-of-type {\n",
       "        vertical-align: middle;\n",
       "    }\n",
       "\n",
       "    .dataframe tbody tr th {\n",
       "        vertical-align: top;\n",
       "    }\n",
       "\n",
       "    .dataframe thead th {\n",
       "        text-align: right;\n",
       "    }\n",
       "</style>\n",
       "<table border=\"1\" class=\"dataframe\">\n",
       "  <thead>\n",
       "    <tr style=\"text-align: right;\">\n",
       "      <th></th>\n",
       "      <th>시도명</th>\n",
       "      <th>지역구분</th>\n",
       "      <th>이용금액</th>\n",
       "    </tr>\n",
       "  </thead>\n",
       "  <tbody>\n",
       "    <tr>\n",
       "      <th>0</th>\n",
       "      <td>서귀포시</td>\n",
       "      <td>도심</td>\n",
       "      <td>787054307928</td>\n",
       "    </tr>\n",
       "    <tr>\n",
       "      <th>1</th>\n",
       "      <td>서귀포시</td>\n",
       "      <td>읍면</td>\n",
       "      <td>512451849513</td>\n",
       "    </tr>\n",
       "    <tr>\n",
       "      <th>2</th>\n",
       "      <td>제주시</td>\n",
       "      <td>도심</td>\n",
       "      <td>2861181155534</td>\n",
       "    </tr>\n",
       "    <tr>\n",
       "      <th>3</th>\n",
       "      <td>제주시</td>\n",
       "      <td>읍면</td>\n",
       "      <td>617724604197</td>\n",
       "    </tr>\n",
       "  </tbody>\n",
       "</table>\n",
       "</div>"
      ],
      "text/plain": [
       "    시도명 지역구분           이용금액\n",
       "0  서귀포시   도심   787054307928\n",
       "1  서귀포시   읍면   512451849513\n",
       "2   제주시   도심  2861181155534\n",
       "3   제주시   읍면   617724604197"
      ]
     },
     "execution_count": 239,
     "metadata": {},
     "output_type": "execute_result"
    }
   ],
   "source": [
    "g = df_card.groupby(['시도명', '지역구분'])['이용금액'].sum()\n",
    "sido = g.reset_index()\n",
    "sido"
   ]
  },
  {
   "cell_type": "markdown",
   "metadata": {},
   "source": [
    "! 분석 아이디어\n",
    "\n",
    "**<span style=\"color:blue\">서귀포시 POI 데이터 분포. 서귀포시 POI 수와 이용금액간 상관관계</span>.**"
   ]
  },
  {
   "cell_type": "code",
   "execution_count": 240,
   "metadata": {
    "scrolled": false
   },
   "outputs": [
    {
     "data": {
      "text/plain": [
       "<matplotlib.axes._subplots.AxesSubplot at 0x22f12667160>"
      ]
     },
     "execution_count": 240,
     "metadata": {},
     "output_type": "execute_result"
    },
    {
     "data": {
      "image/png": "[encoded data removed]",
      "text/plain": [
       "<Figure size 432x288 with 1 Axes>"
      ]
     },
     "metadata": {
      "needs_background": "light"
     },
     "output_type": "display_data"
    }
   ],
   "source": [
    "sns.barplot(x='시도명', y='이용금액', data=sido, ci=None)"
   ]
  },
  {
   "cell_type": "markdown",
   "metadata": {},
   "source": [
    "서귀포시보다 제주시에서의 이용 금액이 압도적으로 높다. why???? "
   ]
  },
  {
   "cell_type": "markdown",
   "metadata": {},
   "source": [
    "### 매장수\n",
    "매장수는 연도/월/시도명/업종명 기준으로 나뉜다."
   ]
  },
  {
   "cell_type": "code",
   "execution_count": 270,
   "metadata": {
    "scrolled": false
   },
   "outputs": [],
   "source": [
    "# df_card.groupby(['연도','월','시도명','업종명'])[['매장수']].mean()"
   ]
  },
  {
   "cell_type": "code",
   "execution_count": 277,
   "metadata": {},
   "outputs": [
    {
     "data": {
      "text/plain": [
       "(38, 38)"
      ]
     },
     "execution_count": 277,
     "metadata": {},
     "output_type": "execute_result"
    }
   ],
   "source": [
    "a = df_card[(df_card['연도']==2017) & (df_card['월']==1) & (df_card['시도명']=='제주시')]['매장수']\n",
    "b = df_card[(df_card['연도']==2017) & (df_card['월']==1) & (df_card['시도명']=='제주시')]['업종명']\n",
    "a.nunique(), b.nunique()"
   ]
  },
  {
   "cell_type": "markdown",
   "metadata": {},
   "source": [
    "### 이용자 구분"
   ]
  },
  {
   "cell_type": "code",
   "execution_count": null,
   "metadata": {},
   "outputs": [],
   "source": []
  },
  {
   "cell_type": "code",
   "execution_count": null,
   "metadata": {},
   "outputs": [],
   "source": []
  },
  {
   "cell_type": "code",
   "execution_count": 100,
   "metadata": {},
   "outputs": [
    {
     "data": {
      "text/plain": [
       "Index(['연도', '월', '시도명', '지역구분', '읍면동명', '업종명 대분류', '업종명', '이용자 구분', '관광구분',\n",
       "       '연령대', '성별', '이용금액', '매장수'],\n",
       "      dtype='object')"
      ]
     },
     "execution_count": 100,
     "metadata": {},
     "output_type": "execute_result"
    }
   ],
   "source": [
    "df_card.columns"
   ]
  },
  {
   "cell_type": "code",
   "execution_count": null,
   "metadata": {},
   "outputs": [],
   "source": []
  },
  {
   "cell_type": "code",
   "execution_count": null,
   "metadata": {},
   "outputs": [],
   "source": []
  },
  {
   "cell_type": "code",
   "execution_count": null,
   "metadata": {},
   "outputs": [],
   "source": []
  },
  {
   "cell_type": "code",
   "execution_count": null,
   "metadata": {},
   "outputs": [],
   "source": []
  },
  {
   "cell_type": "code",
   "execution_count": null,
   "metadata": {},
   "outputs": [],
   "source": []
  },
  {
   "cell_type": "code",
   "execution_count": null,
   "metadata": {},
   "outputs": [],
   "source": []
  },
  {
   "cell_type": "code",
   "execution_count": null,
   "metadata": {},
   "outputs": [],
   "source": []
  },
  {
   "cell_type": "code",
   "execution_count": null,
   "metadata": {},
   "outputs": [],
   "source": []
  },
  {
   "cell_type": "code",
   "execution_count": null,
   "metadata": {},
   "outputs": [],
   "source": []
  },
  {
   "cell_type": "code",
   "execution_count": null,
   "metadata": {},
   "outputs": [],
   "source": []
  },
  {
   "cell_type": "code",
   "execution_count": null,
   "metadata": {},
   "outputs": [],
   "source": []
  },
  {
   "cell_type": "code",
   "execution_count": null,
   "metadata": {},
   "outputs": [],
   "source": []
  },
  {
   "cell_type": "code",
   "execution_count": null,
   "metadata": {},
   "outputs": [],
   "source": []
  },
  {
   "cell_type": "code",
   "execution_count": null,
   "metadata": {},
   "outputs": [],
   "source": []
  },
  {
   "cell_type": "code",
   "execution_count": null,
   "metadata": {},
   "outputs": [],
   "source": []
  },
  {
   "cell_type": "code",
   "execution_count": null,
   "metadata": {},
   "outputs": [],
   "source": []
  }
 ],
 "metadata": {
  "kernelspec": {
   "display_name": "Python 3",
   "language": "python",
   "name": "python3"
  },
  "language_info": {
   "codemirror_mode": {
    "name": "ipython",
    "version": 3
   },
   "file_extension": ".py",
   "mimetype": "text/x-python",
   "name": "python",
   "nbconvert_exporter": "python",
   "pygments_lexer": "ipython3",
   "version": "3.8.3"
  },
  "toc": {
   "base_numbering": 1,
   "nav_menu": {
    "height": "394px",
    "width": "484px"
   },
   "number_sections": true,
   "sideBar": true,
   "skip_h1_title": false,
   "title_cell": "Table of Contents",
   "title_sidebar": "Contents",
   "toc_cell": false,
   "toc_position": {
    "height": "calc(100% - 180px)",
    "left": "10px",
    "top": "150px",
    "width": "246px"
   },
   "toc_section_display": true,
   "toc_window_display": true
  }
 },
 "nbformat": 4,
 "nbformat_minor": 4
}
